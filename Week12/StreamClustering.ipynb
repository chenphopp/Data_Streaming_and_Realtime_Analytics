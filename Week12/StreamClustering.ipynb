{
  "nbformat": 4,
  "nbformat_minor": 0,
  "metadata": {
    "colab": {
      "name": "StreamClustering.ipynb",
      "provenance": [],
      "authorship_tag": "ABX9TyPvVnM62d0AtRESqAAQ1CT9",
      "include_colab_link": true
    },
    "kernelspec": {
      "name": "python3",
      "display_name": "Python 3"
    },
    "language_info": {
      "name": "python"
    }
  },
  "cells": [
    {
      "cell_type": "markdown",
      "metadata": {
        "id": "view-in-github",
        "colab_type": "text"
      },
      "source": [
        "<a href=\"https://colab.research.google.com/github/ekaratnida/Data_Streaming_and_Realtime_Analytics/blob/main/Week12/StreamClustering.ipynb\" target=\"_parent\"><img src=\"https://colab.research.google.com/assets/colab-badge.svg\" alt=\"Open In Colab\"/></a>"
      ]
    },
    {
      "cell_type": "code",
      "metadata": {
        "colab": {
          "base_uri": "https://localhost:8080/"
        },
        "id": "9xs_CQWt59GD",
        "outputId": "93f3b77a-292e-42d4-dec9-2884704a31d8"
      },
      "source": [
        "!pip install river"
      ],
      "execution_count": 1,
      "outputs": [
        {
          "output_type": "stream",
          "name": "stdout",
          "text": [
            "Collecting river\n",
            "  Downloading river-0.8.0-cp37-cp37m-manylinux_2_5_x86_64.manylinux1_x86_64.manylinux_2_12_x86_64.manylinux2010_x86_64.whl (2.4 MB)\n",
            "\u001b[K     |████████████████████████████████| 2.4 MB 8.8 MB/s \n",
            "\u001b[?25hRequirement already satisfied: numpy>=1.18.1 in /usr/local/lib/python3.7/dist-packages (from river) (1.19.5)\n",
            "Requirement already satisfied: scipy>=1.4.1 in /usr/local/lib/python3.7/dist-packages (from river) (1.4.1)\n",
            "Requirement already satisfied: pandas>=1.0.1 in /usr/local/lib/python3.7/dist-packages (from river) (1.1.5)\n",
            "Requirement already satisfied: python-dateutil>=2.7.3 in /usr/local/lib/python3.7/dist-packages (from pandas>=1.0.1->river) (2.8.2)\n",
            "Requirement already satisfied: pytz>=2017.2 in /usr/local/lib/python3.7/dist-packages (from pandas>=1.0.1->river) (2018.9)\n",
            "Requirement already satisfied: six>=1.5 in /usr/local/lib/python3.7/dist-packages (from python-dateutil>=2.7.3->pandas>=1.0.1->river) (1.15.0)\n",
            "Installing collected packages: river\n",
            "Successfully installed river-0.8.0\n"
          ]
        }
      ]
    },
    {
      "cell_type": "code",
      "metadata": {
        "colab": {
          "base_uri": "https://localhost:8080/",
          "height": 356
        },
        "id": "wuWujfHL7KEQ",
        "outputId": "3bf78363-a447-461e-c95c-10a435b75137"
      },
      "source": [
        "!pip install -U numpy"
      ],
      "execution_count": 3,
      "outputs": [
        {
          "output_type": "stream",
          "name": "stdout",
          "text": [
            "Requirement already satisfied: numpy in /usr/local/lib/python3.7/dist-packages (1.19.5)\n",
            "Collecting numpy\n",
            "  Downloading numpy-1.21.4-cp37-cp37m-manylinux_2_12_x86_64.manylinux2010_x86_64.whl (15.7 MB)\n",
            "\u001b[K     |████████████████████████████████| 15.7 MB 59 kB/s \n",
            "\u001b[?25hInstalling collected packages: numpy\n",
            "  Attempting uninstall: numpy\n",
            "    Found existing installation: numpy 1.19.5\n",
            "    Uninstalling numpy-1.19.5:\n",
            "      Successfully uninstalled numpy-1.19.5\n",
            "\u001b[31mERROR: pip's dependency resolver does not currently take into account all the packages that are installed. This behaviour is the source of the following dependency conflicts.\n",
            "tensorflow 2.6.0 requires numpy~=1.19.2, but you have numpy 1.21.4 which is incompatible.\n",
            "datascience 0.10.6 requires folium==0.2.1, but you have folium 0.8.3 which is incompatible.\n",
            "albumentations 0.1.12 requires imgaug<0.2.7,>=0.2.5, but you have imgaug 0.2.9 which is incompatible.\u001b[0m\n",
            "Successfully installed numpy-1.21.4\n"
          ]
        },
        {
          "output_type": "display_data",
          "data": {
            "application/vnd.colab-display-data+json": {
              "pip_warning": {
                "packages": [
                  "numpy"
                ]
              }
            }
          },
          "metadata": {}
        }
      ]
    },
    {
      "cell_type": "markdown",
      "metadata": {
        "id": "Mkvkd5tS74a5"
      },
      "source": [
        "# 1. Clustream"
      ]
    },
    {
      "cell_type": "code",
      "metadata": {
        "colab": {
          "base_uri": "https://localhost:8080/"
        },
        "id": "HVy7SZJ96GB_",
        "outputId": "e5f2602e-9513-4889-c0c7-f2d99c64062e"
      },
      "source": [
        "from river import cluster\n",
        "from river import stream\n",
        "\n",
        "X = [\n",
        "     [1, 2],\n",
        "     [1, 4],\n",
        "     [1, 0],\n",
        "     [4, 2],\n",
        "     [4, 4],\n",
        "     [4, 0]\n",
        "]\n",
        "\n",
        "clustream = cluster.CluStream( time_window=1,\n",
        "                               max_micro_clusters=3,\n",
        "                               n_macro_clusters=2,\n",
        "                               seed=0,\n",
        "                               halflife=0.4)\n",
        "\n",
        "for i, (x, _) in enumerate(stream.iter_array(X)):\n",
        "  clustream = clustream.learn_one(x)\n",
        "\n",
        "ans1 = clustream.predict_one({0: 1, 1: 1})\n",
        "print(ans1)\n",
        "ans2 = clustream.predict_one({0: 4, 1: 3})\n",
        "print(ans2)\n",
        "ans3 = clustream.predict_one({0: 1, 1: 3})\n",
        "print(ans3)"
      ],
      "execution_count": 8,
      "outputs": [
        {
          "output_type": "stream",
          "name": "stdout",
          "text": [
            "1\n",
            "0\n",
            "1\n"
          ]
        }
      ]
    },
    {
      "cell_type": "markdown",
      "metadata": {
        "id": "KxzZGPdC7-xf"
      },
      "source": [
        "#2. Denstream"
      ]
    },
    {
      "cell_type": "code",
      "metadata": {
        "colab": {
          "base_uri": "https://localhost:8080/"
        },
        "id": "Hy4Efv_R7-g2",
        "outputId": "b18b0c81-b817-46ac-f363-18135620d40c"
      },
      "source": [
        "from river import cluster\n",
        "from river import stream\n",
        "\n",
        "X = [\n",
        "     [-1, -0.5], [-1, -0.625], [-1, -0.75], [-1, -1], [-1, -1.125], [-1, -1.25],\n",
        "     [-1.5, -0.5], [-1.5, -0.625], [-1.5, -0.75], [-1.5, -1], [-1.5, -1.125], [-1.5, -1.25],\n",
        "     [1, 1.5], [1, 1.75], [1, 2], [4, 1.25], [4, 1.5], [4, 2.25],\n",
        "     [4, 2.5], [4, 3], [4, 3.25], [4, 3.5], [4, 3.75], [4, 4],\n",
        "]\n",
        "\n",
        "denstream = cluster.DenStream(decaying_factor = 0.01,\n",
        "                               core_weight_threshold = 1.01,\n",
        "                               tolerance_factor = 1.0005,\n",
        "                               radius = 0.5)\n",
        "\n",
        "for x, _ in stream.iter_array(X):\n",
        "     denstream = denstream.learn_one(x)\n",
        "\n",
        "print(denstream.predict_one({0: -1, 1: -2}))\n",
        "print(denstream.predict_one({0:  5, 1:  4}))\n",
        "print(\"Number of clusters = \",denstream.n_clusters)\n"
      ],
      "execution_count": 12,
      "outputs": [
        {
          "output_type": "stream",
          "name": "stdout",
          "text": [
            "0\n",
            "1\n",
            "Number of clusters =  2\n"
          ]
        }
      ]
    },
    {
      "cell_type": "markdown",
      "metadata": {
        "id": "IFTj8pC78y2n"
      },
      "source": [
        "#Stream K-Means"
      ]
    },
    {
      "cell_type": "code",
      "metadata": {
        "colab": {
          "base_uri": "https://localhost:8080/"
        },
        "id": "1Mdc9vx181G3",
        "outputId": "397bdb8f-e396-4c3e-e63e-3425141bd38b"
      },
      "source": [
        "from river import cluster\n",
        "from river import stream\n",
        "\n",
        "X = [\n",
        "     [1, 0.5], [1, 0.625], [1, 0.75], [1, 1.125], [1, 1.5], [1, 1.75],\n",
        "     [4, 1.5], [4, 2.25], [4, 2.5], [4, 3], [4, 3.25], [4, 3.5]\n",
        "]\n",
        "\n",
        "streamkmeans = cluster.STREAMKMeans(chunk_size=3, n_clusters=2, halflife=0.5, sigma=1.5, seed=0)\n",
        "\n",
        "for x, _ in stream.iter_array(X):\n",
        "  streamkmeans = streamkmeans.learn_one(x)\n",
        "\n",
        "print(streamkmeans.predict_one({0:1, 1:0}))\n",
        "print(streamkmeans.predict_one({0:5, 1:2}))\n"
      ],
      "execution_count": 14,
      "outputs": [
        {
          "output_type": "stream",
          "name": "stdout",
          "text": [
            "1\n",
            "0\n"
          ]
        }
      ]
    }
  ]
}