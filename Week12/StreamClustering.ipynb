{
  "nbformat": 4,
  "nbformat_minor": 0,
  "metadata": {
    "colab": {
      "name": "StreamClustering.ipynb",
      "provenance": [],
      "include_colab_link": true
    },
    "kernelspec": {
      "name": "python3",
      "display_name": "Python 3"
    },
    "language_info": {
      "name": "python"
    }
  },
  "cells": [
    {
      "cell_type": "markdown",
      "metadata": {
        "id": "view-in-github",
        "colab_type": "text"
      },
      "source": [
        "<a href=\"https://colab.research.google.com/github/ekaratnida/Data_Streaming_and_Realtime_Analytics/blob/main/Week12/StreamClustering.ipynb\" target=\"_parent\"><img src=\"https://colab.research.google.com/assets/colab-badge.svg\" alt=\"Open In Colab\"/></a>"
      ]
    },
    {
      "cell_type": "code",
      "metadata": {
        "colab": {
          "base_uri": "https://localhost:8080/"
        },
        "id": "9xs_CQWt59GD",
        "outputId": "08c7d19b-cd60-4043-82ec-966b83dc0269"
      },
      "source": [
        "!pip install river==0.18.0"
      ],
      "execution_count": 4,
      "outputs": [
        {
          "output_type": "stream",
          "name": "stdout",
          "text": [
            "Collecting river==0.18.0\n",
            "  Downloading river-0.18.0-cp310-cp310-manylinux_2_17_x86_64.manylinux2014_x86_64.whl (3.5 MB)\n",
            "\u001b[2K     \u001b[90m━━━━━━━━━━━━━━━━━━━━━━━━━━━━━━━━━━━━━━━━\u001b[0m \u001b[32m3.5/3.5 MB\u001b[0m \u001b[31m9.0 MB/s\u001b[0m eta \u001b[36m0:00:00\u001b[0m\n",
            "\u001b[?25hRequirement already satisfied: numpy>=1.25.0 in /usr/local/lib/python3.10/dist-packages (from river==0.18.0) (1.26.2)\n",
            "Requirement already satisfied: scipy>=1.5 in /usr/local/lib/python3.10/dist-packages (from river==0.18.0) (1.11.3)\n",
            "Requirement already satisfied: pandas>=1.3 in /usr/local/lib/python3.10/dist-packages (from river==0.18.0) (1.5.3)\n",
            "Requirement already satisfied: python-dateutil>=2.8.1 in /usr/local/lib/python3.10/dist-packages (from pandas>=1.3->river==0.18.0) (2.8.2)\n",
            "Requirement already satisfied: pytz>=2020.1 in /usr/local/lib/python3.10/dist-packages (from pandas>=1.3->river==0.18.0) (2023.3.post1)\n",
            "Requirement already satisfied: six>=1.5 in /usr/local/lib/python3.10/dist-packages (from python-dateutil>=2.8.1->pandas>=1.3->river==0.18.0) (1.16.0)\n",
            "Installing collected packages: river\n",
            "Successfully installed river-0.18.0\n"
          ]
        }
      ]
    },
    {
      "cell_type": "code",
      "metadata": {
        "colab": {
          "base_uri": "https://localhost:8080/"
        },
        "id": "wuWujfHL7KEQ",
        "outputId": "df7dcbd7-025b-4e6d-c357-e144dde90e1f"
      },
      "source": [
        "!pip install -U numpy"
      ],
      "execution_count": 5,
      "outputs": [
        {
          "output_type": "stream",
          "name": "stdout",
          "text": [
            "Requirement already satisfied: numpy in /usr/local/lib/python3.10/dist-packages (1.26.2)\n"
          ]
        }
      ]
    },
    {
      "cell_type": "markdown",
      "metadata": {
        "id": "Mkvkd5tS74a5"
      },
      "source": [
        "# 1. Clustream"
      ]
    },
    {
      "cell_type": "code",
      "metadata": {
        "colab": {
          "base_uri": "https://localhost:8080/"
        },
        "id": "HVy7SZJ96GB_",
        "outputId": "c9da0699-db12-4a0b-dc34-7d2f75b7329d"
      },
      "source": [
        "from river import cluster\n",
        "from river import stream\n",
        "\n",
        "X = [\n",
        "     [1, 2],\n",
        "     [1, 4],\n",
        "     [1, 0],\n",
        "     [4, 2],\n",
        "     [4, 4],\n",
        "     [4, 0]\n",
        "]\n",
        "\n",
        "clustream = cluster.CluStream( time_window=1,\n",
        "                               max_micro_clusters=3,\n",
        "                               n_macro_clusters=2,\n",
        "                               seed=0,\n",
        "                               halflife=0.4)\n",
        "\n",
        "for i, (x, _) in enumerate(stream.iter_array(X)):\n",
        "  clustream = clustream.learn_one(x)\n",
        "\n",
        "ans1 = clustream.predict_one({0: 1, 1: 1})\n",
        "print(ans1)\n",
        "ans2 = clustream.predict_one({0: 4, 1: 3})\n",
        "print(ans2)\n",
        "ans3 = clustream.predict_one({0: 1, 1: 3})\n",
        "print(ans3)"
      ],
      "execution_count": 6,
      "outputs": [
        {
          "output_type": "stream",
          "name": "stdout",
          "text": [
            "0\n",
            "0\n",
            "0\n"
          ]
        }
      ]
    },
    {
      "cell_type": "markdown",
      "metadata": {
        "id": "KxzZGPdC7-xf"
      },
      "source": [
        "#2. Denstream"
      ]
    },
    {
      "cell_type": "code",
      "metadata": {
        "id": "Hy4Efv_R7-g2"
      },
      "source": [
        "from river import cluster\n",
        "from river import stream\n",
        "import matplotlib.pyplot as plt\n",
        "import numpy as np\n",
        "\n",
        "X = [\n",
        "     [-1, -0.5], [-1, -0.625], [-1, -0.75], [-1, -1], [-1, -1.125], [-1, -1.25],\n",
        "     [-1.5, -0.5], [-1.5, -0.625], [-1.5, -0.75], [-1.5, -1], [-1.5, -1.125], [-1.5, -1.25],\n",
        "     [1, 1.5], [1, 1.75], [1, 2], [4, 1.25], [4, 1.5], [4, 2.25],\n",
        "     [4, 2.5], [4, 3], [4, 3.25], [4, 3.5], [4, 3.75], [4, 4],\n",
        "]\n",
        "\n",
        "aX = np.array(X)\n",
        "#print(aX)\n",
        "plt.scatter(aX[:,0],aX[:,1])\n",
        "plt.show()\n",
        "\n",
        "denstream = cluster.DenStream(decaying_factor = 0.01, beta = 1.01, mu = 1.0005, epsilon = 0.5, n_samples_init=10)\n",
        "\n",
        "for x, _ in stream.iter_array(X):\n",
        "  denstream = denstream.learn_one(x)\n",
        "\n",
        "result1 = denstream.predict_one({0: -1, 1: -2})\n",
        "print(result1)\n",
        "result2 = denstream.predict_one({0:5, 1:4})\n",
        "print(result2)\n",
        "result3 = denstream.predict_one({0:1, 1:1})\n",
        "print(result3)\n",
        "\n",
        "result4 = denstream.n_clusters\n",
        "print(\"Num of clusters = \",result4)\n",
        "\n",
        "print(denstream.p_micro_clusters)"
      ],
      "execution_count": null,
      "outputs": []
    },
    {
      "cell_type": "markdown",
      "source": [
        "# Dataset\n",
        "https://github.com/ekaratnida/Applied-machine-learning/blob/master/Week14-kmeans/Mall_Customers.csv\n",
        "\n",
        "## Hint\n",
        "https://riverml.xyz/dev/getting-started/getting-started/"
      ],
      "metadata": {
        "id": "xKvPlKQC27z8"
      }
    },
    {
      "cell_type": "markdown",
      "metadata": {
        "id": "IFTj8pC78y2n"
      },
      "source": [
        "#Stream K-Means"
      ]
    },
    {
      "cell_type": "code",
      "metadata": {
        "id": "1Mdc9vx181G3"
      },
      "source": [
        "from river import cluster\n",
        "from river import stream\n",
        "\n",
        "X = [\n",
        "     [1, 0.5], [1, 0.625], [1, 0.75], [1, 1.125], [1, 1.5], [1, 1.75],\n",
        "     [4, 1.5], [4, 2.25], [4, 2.5], [4, 3], [4, 3.25], [4, 3.5]\n",
        "]\n",
        "\n",
        "streamkmeans = cluster.STREAMKMeans(chunk_size=3, n_clusters=2, halflife=0.5, sigma=1.5, seed=0)\n",
        "\n",
        "for x, _ in stream.iter_array(X):\n",
        "  streamkmeans = streamkmeans.learn_one(x)\n",
        "\n",
        "print(streamkmeans.predict_one({0:1, 1:0}))\n",
        "print(streamkmeans.predict_one({0:5, 1:2}))\n"
      ],
      "execution_count": null,
      "outputs": []
    }
  ]
}