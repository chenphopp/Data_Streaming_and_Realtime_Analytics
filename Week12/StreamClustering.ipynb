{
  "nbformat": 4,
  "nbformat_minor": 0,
  "metadata": {
    "colab": {
      "name": "StreamClustering.ipynb",
      "provenance": [],
      "include_colab_link": true
    },
    "kernelspec": {
      "name": "python3",
      "display_name": "Python 3"
    },
    "language_info": {
      "name": "python"
    }
  },
  "cells": [
    {
      "cell_type": "markdown",
      "metadata": {
        "id": "view-in-github",
        "colab_type": "text"
      },
      "source": [
        "<a href=\"https://colab.research.google.com/github/ekaratnida/Data_Streaming_and_Realtime_Analytics/blob/main/Week12/StreamClustering.ipynb\" target=\"_parent\"><img src=\"https://colab.research.google.com/assets/colab-badge.svg\" alt=\"Open In Colab\"/></a>"
      ]
    },
    {
      "cell_type": "code",
      "metadata": {
        "colab": {
          "base_uri": "https://localhost:8080/"
        },
        "id": "9xs_CQWt59GD",
        "outputId": "9cb7910d-d4d7-4ba1-e974-966998c4a418"
      },
      "source": [
        "!pip install river"
      ],
      "execution_count": 1,
      "outputs": [
        {
          "output_type": "stream",
          "name": "stdout",
          "text": [
            "Collecting river\n",
            "  Downloading river-0.10.1-cp37-cp37m-manylinux_2_5_x86_64.manylinux1_x86_64.manylinux_2_17_x86_64.manylinux2014_x86_64.whl (2.0 MB)\n",
            "\u001b[K     |████████████████████████████████| 2.0 MB 26.8 MB/s \n",
            "\u001b[?25hRequirement already satisfied: numpy>=1.20.0 in /usr/local/lib/python3.7/dist-packages (from river) (1.21.6)\n",
            "Requirement already satisfied: scipy>=1.4.1 in /usr/local/lib/python3.7/dist-packages (from river) (1.4.1)\n",
            "Requirement already satisfied: pandas>=1.0.1 in /usr/local/lib/python3.7/dist-packages (from river) (1.3.5)\n",
            "Requirement already satisfied: pytz>=2017.3 in /usr/local/lib/python3.7/dist-packages (from pandas>=1.0.1->river) (2022.1)\n",
            "Requirement already satisfied: python-dateutil>=2.7.3 in /usr/local/lib/python3.7/dist-packages (from pandas>=1.0.1->river) (2.8.2)\n",
            "Requirement already satisfied: six>=1.5 in /usr/local/lib/python3.7/dist-packages (from python-dateutil>=2.7.3->pandas>=1.0.1->river) (1.15.0)\n",
            "Installing collected packages: river\n",
            "Successfully installed river-0.10.1\n"
          ]
        }
      ]
    },
    {
      "cell_type": "code",
      "metadata": {
        "colab": {
          "base_uri": "https://localhost:8080/"
        },
        "id": "wuWujfHL7KEQ",
        "outputId": "55c945bb-d000-4fd0-922e-9ba75e26e5f4"
      },
      "source": [
        "!pip install -U numpy"
      ],
      "execution_count": 2,
      "outputs": [
        {
          "output_type": "stream",
          "name": "stdout",
          "text": [
            "Requirement already satisfied: numpy in /usr/local/lib/python3.7/dist-packages (1.21.6)\n"
          ]
        }
      ]
    },
    {
      "cell_type": "markdown",
      "metadata": {
        "id": "Mkvkd5tS74a5"
      },
      "source": [
        "# 1. Clustream"
      ]
    },
    {
      "cell_type": "code",
      "metadata": {
        "colab": {
          "base_uri": "https://localhost:8080/"
        },
        "id": "HVy7SZJ96GB_",
        "outputId": "4f1d2a43-609f-466a-b7a5-c5c73a44f18c"
      },
      "source": [
        "from river import cluster\n",
        "from river import stream\n",
        "\n",
        "X = [\n",
        "     [1, 2],\n",
        "     [1, 4],\n",
        "     [1, 0],\n",
        "     [4, 2],\n",
        "     [4, 4],\n",
        "     [4, 0]\n",
        "]\n",
        "\n",
        "clustream = cluster.CluStream( time_window=1,\n",
        "                               max_micro_clusters=3,\n",
        "                               n_macro_clusters=2,\n",
        "                               seed=0,\n",
        "                               halflife=0.4)\n",
        "\n",
        "for i, (x, _) in enumerate(stream.iter_array(X)):\n",
        "  clustream = clustream.learn_one(x)\n",
        "\n",
        "ans1 = clustream.predict_one({0: 1, 1: 1})\n",
        "print(ans1)\n",
        "ans2 = clustream.predict_one({0: 4, 1: 3})\n",
        "print(ans2)\n",
        "ans3 = clustream.predict_one({0: 1, 1: 3})\n",
        "print(ans3)"
      ],
      "execution_count": 3,
      "outputs": [
        {
          "output_type": "stream",
          "name": "stdout",
          "text": [
            "1\n",
            "0\n",
            "1\n"
          ]
        }
      ]
    },
    {
      "cell_type": "markdown",
      "metadata": {
        "id": "KxzZGPdC7-xf"
      },
      "source": [
        "#2. Denstream"
      ]
    },
    {
      "cell_type": "code",
      "metadata": {
        "colab": {
          "base_uri": "https://localhost:8080/",
          "height": 372
        },
        "id": "Hy4Efv_R7-g2",
        "outputId": "aab6c9e0-000a-41ef-f587-f36ee52d7d99"
      },
      "source": [
        "from river import cluster\n",
        "from river import stream\n",
        "import matplotlib.pyplot as plt\n",
        "import numpy as np\n",
        "\n",
        "X = [\n",
        "     [-1, -0.5], [-1, -0.625], [-1, -0.75], [-1, -1], [-1, -1.125], [-1, -1.25],\n",
        "     [-1.5, -0.5], [-1.5, -0.625], [-1.5, -0.75], [-1.5, -1], [-1.5, -1.125], [-1.5, -1.25],\n",
        "     [1, 1.5], [1, 1.75], [1, 2], [4, 1.25], [4, 1.5], [4, 2.25],\n",
        "     [4, 2.5], [4, 3], [4, 3.25], [4, 3.5], [4, 3.75], [4, 4],\n",
        "]\n",
        "\n",
        "aX = np.array(X)\n",
        "#print(aX)\n",
        "plt.scatter(aX[:,0],aX[:,1])\n",
        "plt.show()\n",
        "\n",
        "denstream = cluster.DenStream(decaying_factor = 0.01, beta = 1.01, mu = 1.0005, epsilon = 0.5, n_samples_init=10)\n",
        "\n",
        "for x, _ in stream.iter_array(X):\n",
        "  denstream = denstream.learn_one(x)\n",
        "\n",
        "result1 = denstream.predict_one({0: -1, 1: -2})\n",
        "print(result1)\n",
        "result2 = denstream.predict_one({0:5, 1:4})\n",
        "print(result2)\n",
        "result3 = denstream.predict_one({0:1, 1:1})\n",
        "print(result3)\n",
        "\n",
        "result4 = denstream.n_clusters\n",
        "print(\"Num of clusters = \",result4)\n",
        "\n",
        "print(denstream.p_micro_clusters)"
      ],
      "execution_count": 37,
      "outputs": [
        {
          "output_type": "display_data",
          "data": {
            "text/plain": [
              "<Figure size 432x288 with 1 Axes>"
            ],
            "image/png": "[encoded data removed]"
          },
          "metadata": {
            "needs_background": "light"
          }
        },
        {
          "output_type": "stream",
          "name": "stdout",
          "text": [
            "1\n",
            "0\n",
            "2\n",
            "Num of clusters =  3\n",
            "{0: <river.cluster.denstream.DenStreamMicroCluster object at 0x7fb01f543d50>, 1: <river.cluster.denstream.DenStreamMicroCluster object at 0x7fb01f543290>, 2: <river.cluster.denstream.DenStreamMicroCluster object at 0x7fb01f543690>}\n"
          ]
        }
      ]
    },
    {
      "cell_type": "markdown",
      "source": [
        "# Dataset\n",
        "https://github.com/ekaratnida/Applied-machine-learning/blob/master/Week14-kmeans/Mall_Customers.csv"
      ],
      "metadata": {
        "id": "xKvPlKQC27z8"
      }
    },
    {
      "cell_type": "markdown",
      "metadata": {
        "id": "IFTj8pC78y2n"
      },
      "source": [
        "#Stream K-Means"
      ]
    },
    {
      "cell_type": "code",
      "metadata": {
        "id": "1Mdc9vx181G3"
      },
      "source": [
        "from river import cluster\n",
        "from river import stream\n",
        "\n",
        "X = [\n",
        "     [1, 0.5], [1, 0.625], [1, 0.75], [1, 1.125], [1, 1.5], [1, 1.75],\n",
        "     [4, 1.5], [4, 2.25], [4, 2.5], [4, 3], [4, 3.25], [4, 3.5]\n",
        "]\n",
        "\n",
        "streamkmeans = cluster.STREAMKMeans(chunk_size=3, n_clusters=2, halflife=0.5, sigma=1.5, seed=0)\n",
        "\n",
        "for x, _ in stream.iter_array(X):\n",
        "  streamkmeans = streamkmeans.learn_one(x)\n",
        "\n",
        "print(streamkmeans.predict_one({0:1, 1:0}))\n",
        "print(streamkmeans.predict_one({0:5, 1:2}))\n"
      ],
      "execution_count": null,
      "outputs": []
    }
  ]
}