{
  "nbformat": 4,
  "nbformat_minor": 0,
  "metadata": {
    "kernelspec": {
      "display_name": "Python 3",
      "language": "python",
      "name": "python3"
    },
    "language_info": {
      "codemirror_mode": {
        "name": "ipython",
        "version": 3
      },
      "file_extension": ".py",
      "mimetype": "text/x-python",
      "name": "python",
      "nbconvert_exporter": "python",
      "pygments_lexer": "ipython3",
      "version": "3.8.5"
    },
    "colab": {
      "name": "getting-started.ipynb",
      "provenance": [],
      "include_colab_link": true
    }
  },
  "cells": [
    {
      "cell_type": "markdown",
      "metadata": {
        "id": "view-in-github",
        "colab_type": "text"
      },
      "source": [
        "<a href=\"https://colab.research.google.com/github/ekaratnida/Data_Streaming_and_Realtime_Analytics/blob/main/Week12/getting-started.ipynb\" target=\"_parent\"><img src=\"https://colab.research.google.com/assets/colab-badge.svg\" alt=\"Open In Colab\"/></a>"
      ]
    },
    {
      "cell_type": "code",
      "metadata": {
        "id": "r3MxcTV6LY9R",
        "outputId": "9711798a-d8e3-4e8c-a735-b64861ac11ee",
        "colab": {
          "base_uri": "https://localhost:8080/"
        }
      },
      "source": [
        "!pip install river"
      ],
      "execution_count": 1,
      "outputs": [
        {
          "output_type": "stream",
          "name": "stdout",
          "text": [
            "Looking in indexes: https://pypi.org/simple, https://us-python.pkg.dev/colab-wheels/public/simple/\n",
            "Collecting river\n",
            "  Downloading river-0.10.1-cp37-cp37m-manylinux_2_5_x86_64.manylinux1_x86_64.manylinux_2_17_x86_64.manylinux2014_x86_64.whl (2.0 MB)\n",
            "\u001b[K     |████████████████████████████████| 2.0 MB 5.4 MB/s \n",
            "\u001b[?25hRequirement already satisfied: numpy>=1.20.0 in /usr/local/lib/python3.7/dist-packages (from river) (1.21.6)\n",
            "Requirement already satisfied: pandas>=1.0.1 in /usr/local/lib/python3.7/dist-packages (from river) (1.3.5)\n",
            "Requirement already satisfied: scipy>=1.4.1 in /usr/local/lib/python3.7/dist-packages (from river) (1.7.3)\n",
            "Requirement already satisfied: python-dateutil>=2.7.3 in /usr/local/lib/python3.7/dist-packages (from pandas>=1.0.1->river) (2.8.2)\n",
            "Requirement already satisfied: pytz>=2017.3 in /usr/local/lib/python3.7/dist-packages (from pandas>=1.0.1->river) (2022.6)\n",
            "Requirement already satisfied: six>=1.5 in /usr/local/lib/python3.7/dist-packages (from python-dateutil>=2.7.3->pandas>=1.0.1->river) (1.15.0)\n",
            "Installing collected packages: river\n",
            "Successfully installed river-0.10.1\n"
          ]
        }
      ]
    },
    {
      "cell_type": "code",
      "metadata": {
        "id": "qSldTFNrL779",
        "outputId": "5deef1a6-ef43-4a6b-8079-223b96435b42",
        "colab": {
          "base_uri": "https://localhost:8080/"
        }
      },
      "source": [
        "!pip install -U numpy"
      ],
      "execution_count": 2,
      "outputs": [
        {
          "output_type": "stream",
          "name": "stdout",
          "text": [
            "Looking in indexes: https://pypi.org/simple, https://us-python.pkg.dev/colab-wheels/public/simple/\n",
            "Requirement already satisfied: numpy in /usr/local/lib/python3.7/dist-packages (1.21.6)\n"
          ]
        }
      ]
    },
    {
      "cell_type": "markdown",
      "metadata": {
        "id": "RX5Yg2gpLNOc"
      },
      "source": [
        "# Getting started"
      ]
    },
    {
      "cell_type": "markdown",
      "metadata": {
        "id": "-NugJSXZLNOe"
      },
      "source": [
        "First things first, make sure you have [installed river](installation.md).\n",
        "\n",
        "In `river`, features are represented with dictionaries, where the keys correspond to the features names. For instance:"
      ]
    },
    {
      "cell_type": "code",
      "metadata": {
        "execution": {
          "iopub.execute_input": "2021-10-30T00:26:08.045146Z",
          "iopub.status.busy": "2021-10-30T00:26:08.044104Z",
          "iopub.status.idle": "2021-10-30T00:26:08.047134Z",
          "shell.execute_reply": "2021-10-30T00:26:08.047766Z"
        },
        "id": "5rcPFGgWLNOf"
      },
      "source": [
        "import datetime as dt\n",
        "\n",
        "x = {\n",
        "    'shop': 'Ikea',\n",
        "    'city': 'Stockholm',\n",
        "    'date': dt.datetime(2020, 6, 1),\n",
        "    'sales': 42\n",
        "}"
      ],
      "execution_count": 3,
      "outputs": []
    },
    {
      "cell_type": "markdown",
      "metadata": {
        "id": "eXBkc0RmLNOh"
      },
      "source": [
        "It is up to you, the user, to decide how to stream your data. `river` offers a `stream` module which has various utilities for handling streaming data, such as `stream.iter_csv`. For the sake of example, `river` also provides a `datasets` module which contains various streaming datasets. For example, the `datasets.Phishing` dataset contains records of [phishing](https://www.wikiwand.com/en/Phishing) attempts on web pages."
      ]
    },
    {
      "cell_type": "code",
      "metadata": {
        "execution": {
          "iopub.execute_input": "2021-10-30T00:26:08.054170Z",
          "iopub.status.busy": "2021-10-30T00:26:08.052903Z",
          "iopub.status.idle": "2021-10-30T00:26:09.540169Z",
          "shell.execute_reply": "2021-10-30T00:26:09.541004Z"
        },
        "colab": {
          "base_uri": "https://localhost:8080/"
        },
        "id": "vaFx-mF1LNOh",
        "outputId": "b6056521-e229-4402-f2b4-caf95dab38d5"
      },
      "source": [
        "from river import datasets\n",
        "\n",
        "dataset = datasets.Phishing()\n",
        "print(dataset)"
      ],
      "execution_count": 4,
      "outputs": [
        {
          "output_type": "stream",
          "name": "stdout",
          "text": [
            "Phishing websites.\n",
            "\n",
            "This dataset contains features from web pages that are classified as phishing or not.\n",
            "\n",
            "    Name  Phishing                                                             \n",
            "    Task  Binary classification                                                \n",
            " Samples  1,250                                                                \n",
            "Features  9                                                                    \n",
            "  Sparse  False                                                                \n",
            "    Path  /usr/local/lib/python3.7/dist-packages/river/datasets/phishing.csv.gz\n"
          ]
        }
      ]
    },
    {
      "cell_type": "markdown",
      "metadata": {
        "id": "gSDT4lU1LNOi"
      },
      "source": [
        "The dataset is a streaming dataset, and therefore doesn't sit in memory. Instead, we can loop over each sample with a `for` loop:"
      ]
    },
    {
      "cell_type": "code",
      "metadata": {
        "execution": {
          "iopub.execute_input": "2021-10-30T00:26:09.544823Z",
          "iopub.status.busy": "2021-10-30T00:26:09.544163Z",
          "iopub.status.idle": "2021-10-30T00:26:09.553429Z",
          "shell.execute_reply": "2021-10-30T00:26:09.554042Z"
        },
        "colab": {
          "base_uri": "https://localhost:8080/"
        },
        "id": "BmGiNLt3LNOi",
        "outputId": "b4d14bbc-36b0-47d3-a577-904755ba0b6b"
      },
      "source": [
        "for x, y in dataset:\n",
        "  #print(x,\" \",y)\n",
        "  pass\n",
        "\n",
        "print(x)"
      ],
      "execution_count": 5,
      "outputs": [
        {
          "output_type": "stream",
          "name": "stdout",
          "text": [
            "{'empty_server_form_handler': 1.0, 'popup_window': 0.5, 'https': 1.0, 'request_from_other_domain': 1.0, 'anchor_from_other_domain': 1.0, 'is_popular': 0.5, 'long_url': 0.0, 'age_of_domain': 0, 'ip_in_url': 0}\n"
          ]
        }
      ]
    },
    {
      "cell_type": "code",
      "metadata": {
        "execution": {
          "iopub.execute_input": "2021-10-30T00:26:09.557333Z",
          "iopub.status.busy": "2021-10-30T00:26:09.556790Z",
          "iopub.status.idle": "2021-10-30T00:26:09.558855Z",
          "shell.execute_reply": "2021-10-30T00:26:09.559238Z"
        },
        "colab": {
          "base_uri": "https://localhost:8080/"
        },
        "id": "vCyD8hLGLNOj",
        "outputId": "0155603a-39d1-4349-c45d-8563f34258ae"
      },
      "source": [
        "print(y)"
      ],
      "execution_count": 6,
      "outputs": [
        {
          "output_type": "stream",
          "name": "stdout",
          "text": [
            "False\n"
          ]
        }
      ]
    },
    {
      "cell_type": "markdown",
      "metadata": {
        "id": "BcBmwdkRLNOj"
      },
      "source": [
        "Typically, models learn via a `learn_one(x, y)` method, which takes as input some features and a target value. Being able to learn with a single instance gives a lot of flexibility. For instance, a model can be updated whenever a new sample arrives from a stream. To exemplify this, let's train a logistic regression on the above dataset."
      ]
    },
    {
      "cell_type": "code",
      "metadata": {
        "execution": {
          "iopub.execute_input": "2021-10-30T00:26:09.588727Z",
          "iopub.status.busy": "2021-10-30T00:26:09.562421Z",
          "iopub.status.idle": "2021-10-30T00:26:09.590394Z",
          "shell.execute_reply": "2021-10-30T00:26:09.590849Z"
        },
        "id": "vD89nUg3LNOj"
      },
      "source": [
        "from river import linear_model\n",
        "\n",
        "model = linear_model.LogisticRegression()\n",
        "\n",
        "for x, y in dataset:\n",
        "    model.learn_one(x, y)"
      ],
      "execution_count": 7,
      "outputs": []
    },
    {
      "cell_type": "markdown",
      "metadata": {
        "id": "b1EdEKldLNOj"
      },
      "source": [
        "Predictions can be obtained by calling a model's `predict_one` method. In the case of a classifier, we can also use `predict_proba_one` to produce probability estimates."
      ]
    },
    {
      "cell_type": "code",
      "metadata": {
        "execution": {
          "iopub.execute_input": "2021-10-30T00:26:09.594423Z",
          "iopub.status.busy": "2021-10-30T00:26:09.593879Z",
          "iopub.status.idle": "2021-10-30T00:26:09.626053Z",
          "shell.execute_reply": "2021-10-30T00:26:09.626603Z"
        },
        "colab": {
          "base_uri": "https://localhost:8080/"
        },
        "id": "P0KEBEr9LNOk",
        "outputId": "9d2c2d55-6348-407c-828d-3dba704633af"
      },
      "source": [
        "model = linear_model.LogisticRegression()\n",
        "\n",
        "for x, y in dataset:\n",
        "    y_pred = model.predict_proba_one(x)\n",
        "    model.learn_one(x, y)\n",
        "    \n",
        "print(y_pred)"
      ],
      "execution_count": 8,
      "outputs": [
        {
          "output_type": "stream",
          "name": "stdout",
          "text": [
            "{False: 0.7731541581376543, True: 0.22684584186234572}\n"
          ]
        }
      ]
    },
    {
      "cell_type": "markdown",
      "metadata": {
        "id": "3AMZ8z8MLNOk"
      },
      "source": [
        "The `metrics` module gives access to many metrics that are commonly used in machine learning. Like the rest of `river`, these metrics can be updated with one element at a time:"
      ]
    },
    {
      "cell_type": "code",
      "metadata": {
        "execution": {
          "iopub.execute_input": "2021-10-30T00:26:09.636277Z",
          "iopub.status.busy": "2021-10-30T00:26:09.630086Z",
          "iopub.status.idle": "2021-10-30T00:26:09.833325Z",
          "shell.execute_reply": "2021-10-30T00:26:09.833948Z"
        },
        "colab": {
          "base_uri": "https://localhost:8080/"
        },
        "id": "UMpUPGcrLNOk",
        "outputId": "3fb2ce1c-90fc-4cc5-9ccb-62bcaf0c07d5"
      },
      "source": [
        "from river import metrics\n",
        "\n",
        "model = linear_model.LogisticRegression()\n",
        "\n",
        "metric = metrics.ROCAUC()\n",
        "\n",
        "for x, y in dataset:\n",
        "    y_pred = model.predict_proba_one(x)\n",
        "    model.learn_one(x, y)\n",
        "    metric.update(y, y_pred)\n",
        "    \n",
        "metric"
      ],
      "execution_count": 9,
      "outputs": [
        {
          "output_type": "execute_result",
          "data": {
            "text/plain": [
              "ROCAUC: 89.36%"
            ]
          },
          "metadata": {},
          "execution_count": 9
        }
      ]
    },
    {
      "cell_type": "markdown",
      "metadata": {
        "id": "QVnEwWl4LNOl"
      },
      "source": [
        "A common way to improve the performance of a logistic regression is to scale the data. This can be done by using a `preprocessing.StandardScaler`. In particular, we can define a pipeline to organise our model into a sequence of steps:"
      ]
    },
    {
      "cell_type": "code",
      "metadata": {
        "execution": {
          "iopub.execute_input": "2021-10-30T00:26:09.838280Z",
          "iopub.status.busy": "2021-10-30T00:26:09.837731Z",
          "iopub.status.idle": "2021-10-30T00:26:09.841617Z",
          "shell.execute_reply": "2021-10-30T00:26:09.842063Z"
        },
        "colab": {
          "base_uri": "https://localhost:8080/",
          "height": 155
        },
        "id": "x_D0mDNdLNOl",
        "outputId": "e62c2ef6-afd1-4949-e9f7-b16b86ed33d6"
      },
      "source": [
        "from river import compose\n",
        "from river import preprocessing\n",
        "\n",
        "model = compose.Pipeline(\n",
        "    preprocessing.StandardScaler(),\n",
        "    linear_model.LogisticRegression()\n",
        ")\n",
        "\n",
        "model"
      ],
      "execution_count": 10,
      "outputs": [
        {
          "output_type": "execute_result",
          "data": {
            "text/plain": [
              "Pipeline (\n",
              "  StandardScaler (\n",
              "    with_std=True\n",
              "  ),\n",
              "  LogisticRegression (\n",
              "    optimizer=SGD (\n",
              "      lr=Constant (\n",
              "        learning_rate=0.01\n",
              "      )\n",
              "    )\n",
              "    loss=Log (\n",
              "      weight_pos=1.\n",
              "      weight_neg=1.\n",
              "    )\n",
              "    l2=0.\n",
              "    intercept_init=0.\n",
              "    intercept_lr=Constant (\n",
              "      learning_rate=0.01\n",
              "    )\n",
              "    clip_gradient=1e+12\n",
              "    initializer=Zeros ()\n",
              "  )\n",
              ")"
            ],
            "text/html": [
              "<div><div class=\"component pipeline\"><details class=\"component estimator\"><summary><pre class=\"estimator-name\">StandardScaler</pre></summary><code class=\"estimator-params\">\n",
              "{'counts': Counter(),\n",
              " 'means': defaultdict(&lt;class 'float'&gt;, {}),\n",
              " 'vars': defaultdict(&lt;class 'float'&gt;, {}),\n",
              " 'with_std': True}\n",
              "\n",
              "</code></details><details class=\"component estimator\"><summary><pre class=\"estimator-name\">LogisticRegression</pre></summary><code class=\"estimator-params\">\n",
              "{'_weights': {},\n",
              " '_y_name': None,\n",
              " 'clip_gradient': 1000000000000.0,\n",
              " 'initializer': Zeros (),\n",
              " 'intercept': 0.0,\n",
              " 'intercept_init': 0.0,\n",
              " 'intercept_lr': Constant({'learning_rate': 0.01}),\n",
              " 'l2': 0.0,\n",
              " 'loss': Log({'weight_pos': 1.0, 'weight_neg': 1.0}),\n",
              " 'optimizer': SGD({'lr': Constant({'learning_rate': 0.01}), 'n_iterations': 0})}\n",
              "\n",
              "</code></details></div><style scoped>\n",
              ".estimator {\n",
              "    padding: 1em;\n",
              "    border-style: solid;\n",
              "    background: white;\n",
              "}\n",
              "\n",
              ".pipeline {\n",
              "    display: flex;\n",
              "    flex-direction: column;\n",
              "    align-items: center;\n",
              "    background: linear-gradient(#000, #000) no-repeat center / 3px 100%;\n",
              "}\n",
              "\n",
              ".union {\n",
              "    display: flex;\n",
              "    flex-direction: row;\n",
              "    align-items: center;\n",
              "    justify-content: center;\n",
              "    padding: 1em;\n",
              "    border-style: solid;\n",
              "    background: white\n",
              "}\n",
              "\n",
              ".wrapper {\n",
              "    display: flex;\n",
              "    flex-direction: column;\n",
              "    align-items: center;\n",
              "    justify-content: center;\n",
              "    padding: 1em;\n",
              "    border-style: solid;\n",
              "    background: white;\n",
              "}\n",
              "\n",
              ".wrapper > .estimator {\n",
              "    margin-top: 1em;\n",
              "}\n",
              "\n",
              "/* Vertical spacing between steps */\n",
              "\n",
              ".component + .component {\n",
              "    margin-top: 2em;\n",
              "}\n",
              "\n",
              ".union > .estimator {\n",
              "    margin-top: 0;\n",
              "}\n",
              "\n",
              ".union > .pipeline {\n",
              "    margin-top: 0;\n",
              "}\n",
              "\n",
              "/* Spacing within a union of estimators */\n",
              "\n",
              ".union > .component + .component {\n",
              "    margin-left: 1em;\n",
              "}\n",
              "\n",
              "/* Typography */\n",
              "\n",
              ".estimator-params {\n",
              "    display: block;\n",
              "    white-space: pre-wrap;\n",
              "    font-size: 120%;\n",
              "    margin-bottom: -1em;\n",
              "}\n",
              "\n",
              ".estimator > code,\n",
              ".wrapper > details > code {\n",
              "    background-color: white !important;\n",
              "}\n",
              "\n",
              ".estimator-name {\n",
              "    display: inline;\n",
              "    margin: 0;\n",
              "    font-size: 130%;\n",
              "}\n",
              "\n",
              "/* Toggle */\n",
              "\n",
              "summary {\n",
              "    display: flex;\n",
              "    align-items:center;\n",
              "    cursor: pointer;\n",
              "}\n",
              "\n",
              "summary > div {\n",
              "    width: 100%;\n",
              "}\n",
              "</style></div>"
            ]
          },
          "metadata": {},
          "execution_count": 10
        }
      ]
    },
    {
      "cell_type": "code",
      "metadata": {
        "execution": {
          "iopub.execute_input": "2021-10-30T00:26:09.895357Z",
          "iopub.status.busy": "2021-10-30T00:26:09.845201Z",
          "iopub.status.idle": "2021-10-30T00:26:10.087073Z",
          "shell.execute_reply": "2021-10-30T00:26:10.087528Z"
        },
        "colab": {
          "base_uri": "https://localhost:8080/"
        },
        "id": "4WRHQVA4LNOl",
        "outputId": "628165e4-26e7-49eb-83aa-c52b2cb10d62"
      },
      "source": [
        "metric = metrics.ROCAUC()\n",
        "\n",
        "for x, y in datasets.Phishing():\n",
        "    y_pred = model.predict_proba_one(x)\n",
        "    model.learn_one(x, y)\n",
        "    metric.update(y, y_pred)\n",
        "    \n",
        "metric"
      ],
      "execution_count": 11,
      "outputs": [
        {
          "output_type": "execute_result",
          "data": {
            "text/plain": [
              "ROCAUC: 95.04%"
            ]
          },
          "metadata": {},
          "execution_count": 11
        }
      ]
    },
    {
      "cell_type": "markdown",
      "metadata": {
        "id": "58N_vy5yLNOm"
      },
      "source": [
        "As we can see, the model is performing much better now that the data is being scaled. Under the hood, the standard scaler maintains a running average and a running variance for each feature in the dataset. Each feature is thus scaled according to the average and the variance seen up to every given point in time.\n",
        "\n",
        "This concludes this short guide to getting started with `river`. There is a lot more to discover and understand. Head towards the [user guide](../user-guide/reading-data.md) for recipes on how to perform common machine learning tasks. You may also consult the [API reference](../api/overview.md), which is a catalogue of all the modules that `river` exposes. Finally, the [examples](../examples/batch-to-online.md) section contains comprehensive examples for various usecases."
      ]
    }
  ]
}