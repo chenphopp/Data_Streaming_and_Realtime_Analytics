{
  "nbformat": 4,
  "nbformat_minor": 0,
  "metadata": {
    "colab": {
      "provenance": [],
      "authorship_tag": "ABX9TyM346yYgRqwCDvNyKgw/mR6",
      "include_colab_link": true
    },
    "kernelspec": {
      "name": "python3",
      "display_name": "Python 3"
    },
    "language_info": {
      "name": "python"
    }
  },
  "cells": [
    {
      "cell_type": "markdown",
      "metadata": {
        "id": "view-in-github",
        "colab_type": "text"
      },
      "source": [
        "<a href=\"https://colab.research.google.com/github/ekaratnida/Data_Streaming_and_Realtime_Analytics/blob/main/Week11_River.ipynb\" target=\"_parent\"><img src=\"https://colab.research.google.com/assets/colab-badge.svg\" alt=\"Open In Colab\"/></a>"
      ]
    },
    {
      "cell_type": "code",
      "execution_count": null,
      "metadata": {
        "id": "c1wgoYEMiOhh"
      },
      "outputs": [],
      "source": [
        "!pip install river==0.18.0"
      ]
    },
    {
      "cell_type": "code",
      "source": [
        "from pprint import pprint\n",
        "from river import datasets\n",
        "dataset = datasets.Phishing()\n",
        "print(dataset.desc)\n",
        "'''for x, y in dataset:\n",
        "  pprint(x)\n",
        "  pprint(y)\n",
        "  break'''"
      ],
      "metadata": {
        "colab": {
          "base_uri": "https://localhost:8080/",
          "height": 86
        },
        "id": "rM_pd27KikFA",
        "outputId": "f18249e6-7cba-4088-aca5-f4231de42ef8"
      },
      "execution_count": 9,
      "outputs": [
        {
          "output_type": "stream",
          "name": "stdout",
          "text": [
            "Phishing websites.\n",
            "\n",
            "This dataset contains features from web pages that are classified as phishing or not.\n"
          ]
        },
        {
          "output_type": "execute_result",
          "data": {
            "text/plain": [
              "'for x, y in dataset:\\n  pprint(x)\\n  pprint(y)\\n  break'"
            ],
            "application/vnd.google.colaboratory.intrinsic+json": {
              "type": "string"
            }
          },
          "metadata": {},
          "execution_count": 9
        }
      ]
    },
    {
      "cell_type": "code",
      "source": [
        "from river import compose\n",
        "from river import linear_model\n",
        "from river import metrics\n",
        "from river import preprocessing\n",
        "\n",
        "model = compose.Pipeline(\n",
        "     preprocessing.StandardScaler(),\n",
        "     linear_model.LogisticRegression()\n",
        ")\n",
        "\n",
        "metric = metrics.Accuracy()\n",
        "\n",
        "for x, y in dataset:\n",
        "  y_pred = model.predict_one(x)      # make a prediction\n",
        "  metric = metric.update(y, y_pred)  # update the metric\n",
        "  model = model.learn_one(x, y)      # make the model learn\n",
        "\n",
        "metric"
      ],
      "metadata": {
        "colab": {
          "base_uri": "https://localhost:8080/"
        },
        "id": "0v177e_MlGHq",
        "outputId": "56122f5b-1346-486e-8e19-7ac1c86a34de"
      },
      "execution_count": 2,
      "outputs": [
        {
          "output_type": "execute_result",
          "data": {
            "text/plain": [
              "Accuracy: 89.20%"
            ]
          },
          "metadata": {},
          "execution_count": 2
        }
      ]
    },
    {
      "cell_type": "code",
      "source": [
        "from river.datasets import synth\n",
        "from river import evaluate\n",
        "from river import metrics\n",
        "from river import tree\n",
        "\n",
        "gen = synth.Agrawal(classification_function=0, seed=42)\n",
        "dataset = iter(gen.take(1000))\n",
        "print(type(dataset))\n",
        "\n",
        "model = tree.HoeffdingTreeClassifier(\n",
        "    grace_period=100,\n",
        "    delta=1e-5,\n",
        "    nominal_attributes=['elevel', 'car', 'zipcode']\n",
        ")\n",
        "\n",
        "metric = metrics.Accuracy()\n",
        "\n",
        "evaluate.progressive_val_score(dataset, model, metric)\n"
      ],
      "metadata": {
        "colab": {
          "base_uri": "https://localhost:8080/"
        },
        "id": "pKryvveVmi_T",
        "outputId": "4dbdb93a-30c2-414b-d235-0f967c92dcc5"
      },
      "execution_count": 6,
      "outputs": [
        {
          "output_type": "stream",
          "name": "stdout",
          "text": [
            "<class 'itertools.islice'>\n"
          ]
        },
        {
          "output_type": "execute_result",
          "data": {
            "text/plain": [
              "Accuracy: 84.58%"
            ]
          },
          "metadata": {},
          "execution_count": 6
        }
      ]
    }
  ]
}