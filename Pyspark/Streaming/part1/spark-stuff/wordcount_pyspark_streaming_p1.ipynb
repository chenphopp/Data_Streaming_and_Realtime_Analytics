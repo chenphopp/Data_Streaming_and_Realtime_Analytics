{
 "cells": [
  {
   "cell_type": "code",
   "execution_count": 1,
   "id": "cfdb943b-e986-4d80-96fc-b7f705277e41",
   "metadata": {
    "id": "cfdb943b-e986-4d80-96fc-b7f705277e41"
   },
   "outputs": [],
   "source": [
    "#%%capture\n",
    "#!wget \"https://repo1.maven.org/maven2/org/apache/spark/spark-sql-kafka-0-10_2.12/3.5.0/spark-sql-kafka-0-10_2.12-3.5.0.jar\"\n",
    "#!wget \"https://repo1.maven.org/maven2/org/apache/spark/spark-streaming-kafka-0-10_2.12/3.5.0/spark-streaming-kafka-0-10_2.12-3.5.0.jar\""
   ]
  },
  {
   "cell_type": "code",
   "execution_count": 2,
   "id": "4ef0dae0-8a63-49b6-aee8-36b928b9c4ca",
   "metadata": {
    "id": "4ef0dae0-8a63-49b6-aee8-36b928b9c4ca"
   },
   "outputs": [],
   "source": [
    "import os\n",
    "os.environ['PYSPARK_SUBMIT_ARGS'] = '--packages org.apache.spark:spark-streaming-kafka-0-10_2.12:3.5.0,org.apache.spark:spark-sql-kafka-0-10_2.12:3.5.0 pyspark-shell'"
   ]
  },
  {
   "cell_type": "code",
   "execution_count": 3,
   "id": "6ee72853-3c9f-4a4e-8e17-5b5b56f04819",
   "metadata": {
    "id": "6ee72853-3c9f-4a4e-8e17-5b5b56f04819"
   },
   "outputs": [],
   "source": [
    "from pyspark.sql import SparkSession\n",
    "from pyspark.sql.functions import *\n",
    "from pyspark.sql.types import *"
   ]
  },
  {
   "cell_type": "code",
   "execution_count": 4,
   "id": "984c5f30-7807-4d1b-be29-ecba87d3ece5",
   "metadata": {},
   "outputs": [],
   "source": [
    "spark = SparkSession.builder.appName(\"MyApp2_ReadStreamFromKafka\").getOrCreate()"
   ]
  },
  {
   "cell_type": "code",
   "execution_count": 5,
   "id": "66dfaf82-4efd-4ee4-b56d-6a08386f5960",
   "metadata": {
    "id": "66dfaf82-4efd-4ee4-b56d-6a08386f5960",
    "scrolled": true
   },
   "outputs": [],
   "source": [
    "lines = spark \\\n",
    "  .readStream \\\n",
    "  .format(\"kafka\") \\\n",
    "  .option(\"kafka.bootstrap.servers\", \"192.168.1.127:8097\") \\\n",
    "  .option(\"subscribe\", \"input\") \\\n",
    "  .option(\"startingOffsets\", \"latest\") \\\n",
    "  .load()\n",
    "#earliest"
   ]
  },
  {
   "cell_type": "code",
   "execution_count": 6,
   "id": "ec8780e1-2685-4ca2-8589-2409915ff868",
   "metadata": {
    "id": "ec8780e1-2685-4ca2-8589-2409915ff868",
    "outputId": "17e0c2e4-14dc-43d7-819e-8b660dc17497"
   },
   "outputs": [
    {
     "name": "stdout",
     "output_type": "stream",
     "text": [
      "root\n",
      " |-- key: binary (nullable = true)\n",
      " |-- value: binary (nullable = true)\n",
      " |-- topic: string (nullable = true)\n",
      " |-- partition: integer (nullable = true)\n",
      " |-- offset: long (nullable = true)\n",
      " |-- timestamp: timestamp (nullable = true)\n",
      " |-- timestampType: integer (nullable = true)\n",
      "\n"
     ]
    }
   ],
   "source": [
    "lines.printSchema()"
   ]
  },
  {
   "cell_type": "code",
   "execution_count": 7,
   "id": "5c569233-c2bf-4dd2-a573-20820ab6577e",
   "metadata": {},
   "outputs": [],
   "source": [
    "#Lab 1.1\n",
    "if False:\n",
    "    query = lines \\\n",
    "      .selectExpr(\"CAST(key AS STRING)\", \"CAST(value AS STRING)\", \"CAST(topic AS STRING)\", \"CAST(timestamp AS STRING)\") \\\n",
    "      .writeStream \\\n",
    "      .outputMode(\"append\") \\\n",
    "      .format(\"console\") \\\n",
    "      .option(\"truncate\", False) \\\n",
    "      .start()\n",
    "    \n",
    "    query.awaitTermination()\n",
    "\n",
    "# 1. complete\n",
    "# Complete output mode not supported when there are no streaming aggregations on streaming DataFrames/Datasets;\n",
    "# 2. update ?"
   ]
  },
  {
   "cell_type": "code",
   "execution_count": 8,
   "id": "85702c64-8eec-4334-96bb-ab93798148c5",
   "metadata": {
    "id": "85702c64-8eec-4334-96bb-ab93798148c5"
   },
   "outputs": [],
   "source": [
    "words = lines.select(\n",
    "   explode(\n",
    "       split(lines.value, \" \")\n",
    "   ).alias(\"word\")\n",
    ")\n",
    "\n",
    "# Generate running word count\n",
    "wordCounts = words.groupBy(\"word\").count()"
   ]
  },
  {
   "cell_type": "code",
   "execution_count": 9,
   "id": "d5ca99b7-c362-4fa3-ba29-34090016f996",
   "metadata": {
    "id": "d5ca99b7-c362-4fa3-ba29-34090016f996",
    "outputId": "94e7c792-9084-4c9d-d55e-08a94004e8d7"
   },
   "outputs": [
    {
     "name": "stdout",
     "output_type": "stream",
     "text": [
      "root\n",
      " |-- word: string (nullable = false)\n",
      "\n"
     ]
    }
   ],
   "source": [
    "words.printSchema()"
   ]
  },
  {
   "cell_type": "code",
   "execution_count": null,
   "id": "32d3454b-3520-4699-86f7-1c57fda07099",
   "metadata": {},
   "outputs": [],
   "source": [
    "#Lab 1.2\n",
    "if True:\n",
    "    # Start running the query that prints the running counts to the console\n",
    "    query = wordCounts \\\n",
    "        .writeStream \\\n",
    "        .outputMode(\"complete\") \\\n",
    "        .format(\"console\") \\\n",
    "        .option(\"truncate\", False) \\\n",
    "        .start()\n",
    "    \n",
    "    query.awaitTermination()\n"
   ]
  },
  {
   "cell_type": "code",
   "execution_count": null,
   "id": "cc6cc8e5-4e6e-4eee-9ec8-1c34e9ebe153",
   "metadata": {},
   "outputs": [],
   "source": [
    "for q in spark.streams.active:\n",
    "    q.stop()"
   ]
  }
 ],
 "metadata": {
  "colab": {
   "provenance": []
  },
  "kernelspec": {
   "display_name": "Python 3 (ipykernel)",
   "language": "python",
   "name": "python3"
  },
  "language_info": {
   "codemirror_mode": {
    "name": "ipython",
    "version": 3
   },
   "file_extension": ".py",
   "mimetype": "text/x-python",
   "name": "python",
   "nbconvert_exporter": "python",
   "pygments_lexer": "ipython3",
   "version": "3.11.6"
  }
 },
 "nbformat": 4,
 "nbformat_minor": 5
}
