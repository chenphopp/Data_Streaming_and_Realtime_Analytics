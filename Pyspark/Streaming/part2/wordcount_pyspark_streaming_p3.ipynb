{
 "cells": [
  {
   "cell_type": "code",
   "execution_count": 1,
   "id": "cfdb943b-e986-4d80-96fc-b7f705277e41",
   "metadata": {
    "id": "cfdb943b-e986-4d80-96fc-b7f705277e41"
   },
   "outputs": [],
   "source": [
    "#%%capture\n",
    "#!wget \"https://repo1.maven.org/maven2/org/apache/spark/spark-sql-kafka-0-10_2.12/3.5.0/spark-sql-kafka-0-10_2.12-3.5.0.jar\"\n",
    "#!wget \"https://repo1.maven.org/maven2/org/apache/spark/spark-streaming-kafka-0-10_2.12/3.5.0/spark-streaming-kafka-0-10_2.12-3.5.0.jar\""
   ]
  },
  {
   "cell_type": "code",
   "execution_count": 2,
   "id": "4ef0dae0-8a63-49b6-aee8-36b928b9c4ca",
   "metadata": {
    "id": "4ef0dae0-8a63-49b6-aee8-36b928b9c4ca"
   },
   "outputs": [],
   "source": [
    "import os\n",
    "os.environ['PYSPARK_SUBMIT_ARGS'] = '--packages org.apache.spark:spark-streaming-kafka-0-10_2.12:3.5.0,org.apache.spark:spark-sql-kafka-0-10_2.12:3.5.0 pyspark-shell'"
   ]
  },
  {
   "cell_type": "code",
   "execution_count": 3,
   "id": "6ee72853-3c9f-4a4e-8e17-5b5b56f04819",
   "metadata": {
    "id": "6ee72853-3c9f-4a4e-8e17-5b5b56f04819"
   },
   "outputs": [],
   "source": [
    "from pyspark.sql import SparkSession\n",
    "from pyspark.sql.functions import *\n",
    "from pyspark.sql.types import *"
   ]
  },
  {
   "cell_type": "code",
   "execution_count": 4,
   "id": "66dfaf82-4efd-4ee4-b56d-6a08386f5960",
   "metadata": {
    "id": "66dfaf82-4efd-4ee4-b56d-6a08386f5960",
    "scrolled": true
   },
   "outputs": [],
   "source": [
    "spark = SparkSession.builder.appName(\"MyApp2_ReadStreamFromKafka\").getOrCreate()\n",
    "\n",
    "lines = spark \\\n",
    "  .readStream \\\n",
    "  .format(\"kafka\") \\\n",
    "  .option(\"kafka.bootstrap.servers\", \"192.168.1.123:8097\") \\\n",
    "  .option(\"subscribe\", \"input\") \\\n",
    "  .option(\"startingOffsets\", \"earliest\") \\\n",
    "  .load()"
   ]
  },
  {
   "cell_type": "code",
   "execution_count": 5,
   "id": "ec8780e1-2685-4ca2-8589-2409915ff868",
   "metadata": {
    "id": "ec8780e1-2685-4ca2-8589-2409915ff868",
    "outputId": "17e0c2e4-14dc-43d7-819e-8b660dc17497"
   },
   "outputs": [
    {
     "name": "stdout",
     "output_type": "stream",
     "text": [
      "root\n",
      " |-- key: binary (nullable = true)\n",
      " |-- value: binary (nullable = true)\n",
      " |-- topic: string (nullable = true)\n",
      " |-- partition: integer (nullable = true)\n",
      " |-- offset: long (nullable = true)\n",
      " |-- timestamp: timestamp (nullable = true)\n",
      " |-- timestampType: integer (nullable = true)\n",
      "\n"
     ]
    }
   ],
   "source": [
    "lines.printSchema()"
   ]
  },
  {
   "cell_type": "code",
   "execution_count": 6,
   "id": "a82ca526-ba58-4cba-b0a9-b02c37f70ddc",
   "metadata": {},
   "outputs": [
    {
     "name": "stdout",
     "output_type": "stream",
     "text": [
      "root\n",
      " |-- event_time: timestamp (nullable = true)\n",
      " |-- message: string (nullable = true)\n",
      "\n"
     ]
    }
   ],
   "source": [
    "#Lab 2.1\n",
    "schema = StructType() \\\n",
    "    .add(\"event_time\", TimestampType()) \\\n",
    "    .add(\"message\", StringType())\n",
    "\n",
    "parsed = lines.selectExpr(\"CAST(value AS STRING) as json_str\") \\\n",
    "    .select(from_json(col(\"json_str\"), schema).alias(\"data\")) \\\n",
    "    .select(\"data.event_time\", \"data.message\")\n",
    "\n",
    "parsed.printSchema()"
   ]
  },
  {
   "cell_type": "code",
   "execution_count": 7,
   "id": "724c5a94-d868-4b0c-84bb-51549c2db736",
   "metadata": {},
   "outputs": [],
   "source": [
    "words = parsed.select(\n",
    "   explode(\n",
    "       split(parsed.message, \" \")\n",
    "   ).alias(\"word\"),\n",
    "   col(\"event_time\")\n",
    ")"
   ]
  },
  {
   "cell_type": "code",
   "execution_count": 8,
   "id": "cd68fb0b-b177-46ac-b282-42a807acc003",
   "metadata": {},
   "outputs": [
    {
     "name": "stdout",
     "output_type": "stream",
     "text": [
      "root\n",
      " |-- word: string (nullable = false)\n",
      " |-- event_time: timestamp (nullable = true)\n",
      "\n"
     ]
    }
   ],
   "source": [
    "words.printSchema()"
   ]
  },
  {
   "cell_type": "code",
   "execution_count": 15,
   "id": "9a8e6b12-b8e1-46d8-b8dc-502d69fd7df1",
   "metadata": {},
   "outputs": [],
   "source": [
    "wordCounts = words.groupBy(\n",
    "    window(\"event_Time\", \"10 minutes\", \"5 minutes\"),\n",
    "    \"word\"\n",
    ").count()"
   ]
  },
  {
   "cell_type": "code",
   "execution_count": 16,
   "id": "3924375e-117e-405f-af58-784e46f91d59",
   "metadata": {
    "id": "3924375e-117e-405f-af58-784e46f91d59"
   },
   "outputs": [
    {
     "name": "stdout",
     "output_type": "stream",
     "text": [
      "root\n",
      " |-- window: struct (nullable = false)\n",
      " |    |-- start: timestamp (nullable = true)\n",
      " |    |-- end: timestamp (nullable = true)\n",
      " |-- word: string (nullable = false)\n",
      " |-- count: long (nullable = false)\n",
      "\n"
     ]
    }
   ],
   "source": [
    "wordCounts.printSchema()"
   ]
  },
  {
   "cell_type": "code",
   "execution_count": null,
   "id": "06000a06-56c1-4f0e-8f07-06e84a7a8e3a",
   "metadata": {
    "id": "06000a06-56c1-4f0e-8f07-06e84a7a8e3a"
   },
   "outputs": [],
   "source": [
    "if False:\n",
    "    query = wordCounts \\\n",
    "      .writeStream \\\n",
    "      .outputMode(\"complete\") \\\n",
    "      .format(\"console\") \\\n",
    "      .option(\"truncate\", False) \\\n",
    "      .start()\n",
    "    \n",
    "    query.awaitTermination()\n"
   ]
  },
  {
   "cell_type": "code",
   "execution_count": null,
   "id": "36f18850-dd70-427c-b33b-6fe272ed55a8",
   "metadata": {},
   "outputs": [],
   "source": [
    "'''wordCounts.selectExpr(\n",
    "    \"CAST(word AS STRING) AS key\",\n",
    "    \"\"\"to_json(named_struct(\n",
    "        'count', count,\n",
    "        'timestamp', timestamp\n",
    "    )) AS value\"\"\"\n",
    ")'''"
   ]
  },
  {
   "cell_type": "code",
   "execution_count": null,
   "id": "ef968f1b-f0fb-4bd9-93fc-d9cf53efb257",
   "metadata": {
    "id": "ef968f1b-f0fb-4bd9-93fc-d9cf53efb257"
   },
   "outputs": [],
   "source": [
    "#query = df.selectExpr(\"CAST(key AS STRING)\", \"CAST(value AS STRING)\") \\\n",
    "if True:\n",
    "    query = wordCounts.selectExpr(\"CAST(word AS STRING) AS key\", \"CAST(count AS STRING)  AS value\") \\\n",
    "        .writeStream \\\n",
    "        .trigger(processingTime='1 seconds') \\\n",
    "        .format(\"kafka\") \\\n",
    "        .option(\"kafka.bootstrap.servers\", \"192.168.1.123:8097\") \\\n",
    "        .option(\"topic\", \"output\") \\\n",
    "        .option(\"checkpointLocation\", \"checkpoint\") \\\n",
    "        .start() \\\n",
    "        \n",
    "    query.awaitTermination()"
   ]
  },
  {
   "cell_type": "code",
   "execution_count": null,
   "id": "a8dbb79d-0926-4cdb-a1d1-dd51c2a0a7a0",
   "metadata": {
    "id": "a8dbb79d-0926-4cdb-a1d1-dd51c2a0a7a0"
   },
   "outputs": [],
   "source": [
    "query = wordCounts.selectExpr(\"CAST(word AS STRING) AS key\", \"CAST(count AS STRING)  AS value\") \\\n",
    "    .writeStream \\\n",
    "    .outputMode(\"complete\") \\\n",
    "    .format(\"console\") \\\n",
    "    .start()\n",
    "\n",
    "query.awaitTermination()"
   ]
  },
  {
   "cell_type": "code",
   "execution_count": null,
   "id": "d3a313a9-6512-4baa-960f-4a1db8d67451",
   "metadata": {},
   "outputs": [],
   "source": [
    "for q in spark.streams.active:\n",
    "    q.stop()"
   ]
  }
 ],
 "metadata": {
  "colab": {
   "provenance": []
  },
  "kernelspec": {
   "display_name": "Python 3 (ipykernel)",
   "language": "python",
   "name": "python3"
  },
  "language_info": {
   "codemirror_mode": {
    "name": "ipython",
    "version": 3
   },
   "file_extension": ".py",
   "mimetype": "text/x-python",
   "name": "python",
   "nbconvert_exporter": "python",
   "pygments_lexer": "ipython3",
   "version": "3.11.6"
  }
 },
 "nbformat": 4,
 "nbformat_minor": 5
}
