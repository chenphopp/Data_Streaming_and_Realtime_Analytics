{
  "nbformat": 4,
  "nbformat_minor": 0,
  "metadata": {
    "colab": {
      "provenance": [],
      "include_colab_link": true
    },
    "kernelspec": {
      "name": "python3",
      "display_name": "Python 3"
    },
    "language_info": {
      "name": "python"
    }
  },
  "cells": [
    {
      "cell_type": "markdown",
      "metadata": {
        "id": "view-in-github",
        "colab_type": "text"
      },
      "source": [
        "<a href=\"https://colab.research.google.com/github/ekaratnida/Data_Streaming_and_Realtime_Analytics/blob/main/DataCollection.ipynb\" target=\"_parent\"><img src=\"https://colab.research.google.com/assets/colab-badge.svg\" alt=\"Open In Colab\"/></a>"
      ]
    },
    {
      "cell_type": "markdown",
      "source": [
        "#Collect data"
      ],
      "metadata": {
        "id": "hvYU7n5U59pj"
      }
    },
    {
      "cell_type": "markdown",
      "source": [
        "# 1. Youtube"
      ],
      "metadata": {
        "id": "sD8ky2n3mkQQ"
      }
    },
    {
      "cell_type": "code",
      "source": [
        "!pip install pytchat #https://github.com/taizan-hokuto/pytchat/wiki"
      ],
      "metadata": {
        "id": "Pgo6b68WmFIJ"
      },
      "execution_count": null,
      "outputs": []
    },
    {
      "cell_type": "code",
      "execution_count": null,
      "metadata": {
        "id": "pgCSzTNYkmqi"
      },
      "outputs": [],
      "source": [
        "import pytchat\n",
        "chat = pytchat.create(video_id=\"VDQFqn0evfM\")\n",
        "\n",
        "while chat.is_alive():\n",
        "  for c in chat.get().sync_items():\n",
        "    print(dir(c))\n",
        "    print(f\"{c.datetime} [{c.author.name}]- {c.message}\")"
      ]
    },
    {
      "cell_type": "code",
      "source": [
        "import pytchat\n",
        "import pandas as pd\n",
        "chat = pytchat.create(video_id=\"VDQFqn0evfM\")\n",
        "\n",
        "dList = []\n",
        "aList = []\n",
        "mList = []\n",
        "\n",
        "i = 0\n",
        "while chat.is_alive():\n",
        "  for c in chat.get().sync_items():\n",
        "    print(f\"{c.datetime} [{c.author.name}]- {c.message}\")\n",
        "    dList.append(c.datetime)\n",
        "    aList.append(c.author.name)\n",
        "    mList.append(c.message)\n",
        "    i = i+1\n",
        "    if i == 10:\n",
        "      chat.terminate()\n",
        "      break\n",
        "\n",
        "# dictionary of lists\n",
        "dict = {'dateTime': dList, 'authorName': aList, 'Message': mList}\n",
        "\n",
        "df = pd.DataFrame(dict)\n",
        "df.head()\n",
        "\n",
        "from google.colab import files\n",
        "df.to_csv(\"data.csv\", encoding=\"utf_8_sig\", index=False) #cp874, #TIS-620\n",
        "files.download(\"data.csv\")"
      ],
      "metadata": {
        "colab": {
          "base_uri": "https://localhost:8080/",
          "height": 190
        },
        "id": "vsr1OM129uRq",
        "outputId": "43df988b-0935-49fa-8b02-3978e1e29731"
      },
      "execution_count": null,
      "outputs": [
        {
          "output_type": "stream",
          "name": "stdout",
          "text": [
            "2022-10-11 13:11:02 [elghazi]- มาาาา\n",
            "2022-10-11 13:11:07 [ชาวประมงระยา]- ละดูหน้า\n",
            "2022-10-11 13:11:21 [ohpreams ‘94]- มาาาาาาาาาา\n",
            "2022-10-11 13:11:24 [sunchai sunchaisuwon]- มีคนติดโอเวอร์วอทททททท2\n",
            "2022-10-11 13:11:30 [Wanitch Teeraphothipan]- มาาาาา\n",
            "2022-10-11 13:11:31 [Tachporn Sirithamrak]- มาาาา\n",
            "2022-10-11 13:11:32 [hiimpiyachat]- มาเฉยยย\n",
            "2022-10-11 13:11:35 [Aom ที่ไม่มีไรดีเลย]- มาค้าบบบบบลุยยยยค้าบบบบบบ\n",
            "2022-10-11 13:11:45 [XEAR]- รอออ\n",
            "2022-10-11 13:11:47 [Gg]- มาาาาาาาาาาาาาาาาาาาาาาาาา\n"
          ]
        },
        {
          "output_type": "display_data",
          "data": {
            "text/plain": [
              "<IPython.core.display.Javascript object>"
            ],
            "application/javascript": [
              "\n",
              "    async function download(id, filename, size) {\n",
              "      if (!google.colab.kernel.accessAllowed) {\n",
              "        return;\n",
              "      }\n",
              "      const div = document.createElement('div');\n",
              "      const label = document.createElement('label');\n",
              "      label.textContent = `Downloading \"${filename}\": `;\n",
              "      div.appendChild(label);\n",
              "      const progress = document.createElement('progress');\n",
              "      progress.max = size;\n",
              "      div.appendChild(progress);\n",
              "      document.body.appendChild(div);\n",
              "\n",
              "      const buffers = [];\n",
              "      let downloaded = 0;\n",
              "\n",
              "      const channel = await google.colab.kernel.comms.open(id);\n",
              "      // Send a message to notify the kernel that we're ready.\n",
              "      channel.send({})\n",
              "\n",
              "      for await (const message of channel.messages) {\n",
              "        // Send a message to notify the kernel that we're ready.\n",
              "        channel.send({})\n",
              "        if (message.buffers) {\n",
              "          for (const buffer of message.buffers) {\n",
              "            buffers.push(buffer);\n",
              "            downloaded += buffer.byteLength;\n",
              "            progress.value = downloaded;\n",
              "          }\n",
              "        }\n",
              "      }\n",
              "      const blob = new Blob(buffers, {type: 'application/binary'});\n",
              "      const a = document.createElement('a');\n",
              "      a.href = window.URL.createObjectURL(blob);\n",
              "      a.download = filename;\n",
              "      div.appendChild(a);\n",
              "      a.click();\n",
              "      div.remove();\n",
              "    }\n",
              "  "
            ]
          },
          "metadata": {}
        },
        {
          "output_type": "display_data",
          "data": {
            "text/plain": [
              "<IPython.core.display.Javascript object>"
            ],
            "application/javascript": [
              "download(\"download_ec4c846e-7f7c-4b17-8750-91c18cd92120\", \"data.csv\", 795)"
            ]
          },
          "metadata": {}
        }
      ]
    },
    {
      "cell_type": "markdown",
      "source": [
        "# 2. Web scraping"
      ],
      "metadata": {
        "id": "TKHf6gy-PYnb"
      }
    },
    {
      "cell_type": "code",
      "source": [
        "import requests #connect url\n",
        "from bs4 import BeautifulSoup #https://www.crummy.com/software/BeautifulSoup/bs4/doc/\n",
        "\n",
        "url = requests.get('https://www.blognone.com/node/109731')\n",
        "\n",
        "soup = BeautifulSoup(url.content, 'html.parser')\n",
        "\n",
        "####\n",
        "data = ''\n",
        "idx = 1\n",
        "for i in soup.find_all(\"div\", {\"class\": \"field-item even\"}):\n",
        "  output = i.find(\"p\")\n",
        "  if output != None:\n",
        "    print(idx, \" = \", output.text)\n",
        "    idx = idx + 1"
      ],
      "metadata": {
        "id": "TfnV1SYjPbEL",
        "colab": {
          "base_uri": "https://localhost:8080/"
        },
        "outputId": "751d636b-99a1-4cc9-d0db-b47676ea650d"
      },
      "execution_count": 12,
      "outputs": [
        {
          "output_type": "stream",
          "name": "stdout",
          "text": [
            "1  =  ช่วงนี้อาจมีหลายคนพูดว่ารู้อะไรไม่สู้รู้งี้ โดยราคา Bitcoin ล่าสุด ได้ซื้อขายกันสูงกว่า 7,000 ดอลลาร์ เป็นที่เรียบร้อยแล้ว ตั้งแต่เมื่อวานนี้ (11 พฤษภาคม) ซึ่งเป็นราคาสูงสุดในรอบ 8 เดือน และราคาปรับขึ้นกว่า 22% ในช่วงสัปดาห์ที่ผ่านมา ราคาล่าสุดตอนนี้อยู่ราว 7,300 ดอลลาร์\n",
            "2  =  โดนใครปั่น เหมือนไม่มีข่าวดีอะไรเลย\n",
            "3  =  ปั่นน่ะปั่นแน่ครับ ช่วงนี้ดูเหมือนพวกแฮกเกอร์ทั้งหลายเองก็คึกคัก กระหน่ำโจมตี รวมทั้งแฮกเงินคลิปโตบ่อยจนผิดสังเกตุ น่าจะเป็นการเก็บไว้เพื่อรอขายในช่วงราคาขึ้นสุดทำกำไร คงจะมีข่าววงในอะไรซักอย่างที่เราไม่รู้ได้น่ะครับ\n",
            "4  =  ช่วงที่มีข่าวแรงๆ เรื่อง USDT มีการทยอยขนเงินจาก Bitfinex กับ Binance (ขาย BNB ทิ้ง) ไปปั่นบน Coinbase ครับ\n",
            "5  =  ขึ้นเงียบๆนี่ขึ้นจริงนะผมว่า\n",
            "6  =  มีประชาชนในบางประเทศตอนนี้ อยู่ได้ด้วย Coin เพราะเศรษฐกิจประเทศพัง สกุลเงินหลักไม่มีค่า ดันกลายเป็นว่า คนที่รอด คือคนที่ถือ Coin ซะงั้น\n"
          ]
        }
      ]
    },
    {
      "cell_type": "markdown",
      "source": [
        "#3. Twitter"
      ],
      "metadata": {
        "id": "-Is6zOw5n0n_"
      }
    },
    {
      "cell_type": "markdown",
      "source": [
        "## Hacking part"
      ],
      "metadata": {
        "id": "ybTvYBePhH-K"
      }
    },
    {
      "cell_type": "code",
      "source": [
        "!pip3 install git+https://github.com/JustAnotherArchivist/snscrape.git"
      ],
      "metadata": {
        "id": "104D5aXgU_N2"
      },
      "execution_count": null,
      "outputs": []
    },
    {
      "cell_type": "code",
      "source": [
        "from snscrape.base import ScraperException\n",
        "from snscrape.modules.twitter import (\n",
        "    Tweet,\n",
        "    _TwitterAPIType,\n",
        "    TwitterTweetScraper,\n",
        "    TwitterTweetScraperMode,\n",
        ")\n",
        "\n",
        "def get_items(self):\n",
        "    variables = {\n",
        "        \"tweetId\": str(self._tweetId),\n",
        "        \"includePromotedContent\": True,\n",
        "        \"withCommunity\": True,\n",
        "        \"withVoice\": True,\n",
        "        # !!! these fields may be deprecated\n",
        "        # \"with_rux_injections\": False,\n",
        "        # \"withQuickPromoteEligibilityTweetFields\": True,\n",
        "        # \"withBirdwatchNotes\": False,\n",
        "        # \"withV2Timeline\": True,\n",
        "    }\n",
        "    features = {\n",
        "        \"responsive_web_graphql_exclude_directive_enabled\": True,\n",
        "        \"verified_phone_label_enabled\": False,\n",
        "        \"creator_subscriptions_tweet_preview_api_enabled\": False,\n",
        "        \"responsive_web_graphql_timeline_navigation_enabled\": True,\n",
        "        \"responsive_web_graphql_skip_user_profile_image_extensions_enabled\": False,\n",
        "        \"tweetypie_unmention_optimization_enabled\": True,\n",
        "        \"responsive_web_edit_tweet_api_enabled\": True,\n",
        "        \"graphql_is_translatable_rweb_tweet_is_translatable_enabled\": True,\n",
        "        \"view_counts_everywhere_api_enabled\": True,\n",
        "        \"longform_notetweets_consumption_enabled\": True,\n",
        "        \"tweet_awards_web_tipping_enabled\": False,\n",
        "        \"freedom_of_speech_not_reach_fetch_enabled\": True,\n",
        "        \"standardized_nudges_misinfo\": True,\n",
        "        \"tweet_with_visibility_results_prefer_gql_limited_actions_policy_enabled\": False,\n",
        "        \"longform_notetweets_rich_text_read_enabled\": True,\n",
        "        \"longform_notetweets_inline_media_enabled\": False,\n",
        "        \"responsive_web_enhance_cards_enabled\": False,\n",
        "        \"responsive_web_twitter_article_tweet_consumption_enabled\": False,  # new?\n",
        "        \"responsive_web_media_download_video_enabled\": True,  # new?\n",
        "        # !!! these fields may be deprecated\n",
        "        # \"rweb_lists_timeline_redesign_enabled\": False,\n",
        "        # \"vibe_api_enabled\": True,\n",
        "        # \"interactive_text_enabled\": True,\n",
        "        # \"blue_business_profile_image_shape_enabled\": True,\n",
        "        # \"responsive_web_text_conversations_enabled\": False,\n",
        "    }\n",
        "    fieldToggles = {\n",
        "        \"withArticleRichContentState\": True,\n",
        "        \"withAuxiliaryUserLabels\": True,\n",
        "    }\n",
        "    params = {\n",
        "        \"variables\": variables,\n",
        "        \"features\": features,\n",
        "        \"fieldToggles\": fieldToggles,  # seems optional\n",
        "    }\n",
        "    url = \"https://twitter.com/i/api/graphql/3HC_X_wzxnMmUBRIn3MWpQ/TweetResultByRestId\"\n",
        "    if self._mode is TwitterTweetScraperMode.SINGLE:\n",
        "        obj = self._get_api_data(url, _TwitterAPIType.GRAPHQL, params=params)\n",
        "        if not obj[\"data\"][\"tweetResult\"]:\n",
        "            return\n",
        "        yield self._graphql_timeline_tweet_item_result_to_tweet(\n",
        "            obj[\"data\"][\"tweetResult\"][\"result\"], tweetId=self._tweetId\n",
        "        )\n",
        "\n",
        "# replace this method\n",
        "TwitterTweetScraper.get_items = get_items\n",
        "\n",
        "def get_using_snscrape(tweet_id: int) -> Tweet | None:\n",
        "    print(\"Sending API request...\")\n",
        "    try:\n",
        "        for tweet in TwitterTweetScraper(tweet_id).get_items():\n",
        "            print(\"Response: %r.\" % tweet)\n",
        "            return tweet\n",
        "        print(\"No response from public API.\")\n",
        "    except ScraperException:\n",
        "        print(\"Scraping failed.\")\n",
        "\n",
        "get_using_snscrape(1748319804585660504)"
      ],
      "metadata": {
        "colab": {
          "base_uri": "https://localhost:8080/"
        },
        "id": "1z_SX19rgcpA",
        "outputId": "ecd70115-f844-4be8-d37d-b4f02028235a"
      },
      "execution_count": 10,
      "outputs": [
        {
          "output_type": "stream",
          "name": "stdout",
          "text": [
            "Sending API request...\n",
            "Response: Tweet(url='https://twitter.com/TAXBugnoms/status/1748319804585660504', date=datetime.datetime(2024, 1, 19, 12, 21, 38, tzinfo=datetime.timezone.utc), rawContent='อัปเดท #ยื่นภาษีปี2566 ตอนนี้สามารถใช้ข้อมูลในระบบ My Tax Account ให้ดึงข้อมูลที่สรรพากรมีไปยื่นภาษีอัตโนมัติได้แล้วนะครับ \\n\\nตรงด้านล่างจะมีปุ่มให้เลือก \"ยื่นแบบโดยใช้ข้อมูล\" ครับ \\nเข้าระบบตรงนี้นะ : https://t.co/HwuFchXdLu https://t.co/kFkJFTuQuc', renderedContent='อัปเดท #ยื่นภาษีปี2566 ตอนนี้สามารถใช้ข้อมูลในระบบ My Tax Account ให้ดึงข้อมูลที่สรรพากรมีไปยื่นภาษีอัตโนมัติได้แล้วนะครับ \\n\\nตรงด้านล่างจะมีปุ่มให้เลือก \"ยื่นแบบโดยใช้ข้อมูล\" ครับ \\nเข้าระบบตรงนี้นะ : efiling.rd.go.th/rd-efiling-web… https://t.co/kFkJFTuQuc', id=1748319804585660504, user=User(username='TAXBugnoms', id=1016162716434640896, displayname='TAXBugnoms', rawDescription='ทำให้เรื่อง #ภาษี #บัญชี #การเงิน เป็นเรื่องสนุก และทวิตเรื่องที่อยากเล่า จะติดตามก็ได้ ไม่ติดตามก็ได้ แต่ถ้าติดต่องาน : conTAXBugnoms@gmail.com', renderedDescription='ทำให้เรื่อง #ภาษี #บัญชี #การเงิน เป็นเรื่องสนุก และทวิตเรื่องที่อยากเล่า จะติดตามก็ได้ ไม่ติดตามก็ได้ แต่ถ้าติดต่องาน : conTAXBugnoms@gmail.com', descriptionLinks=None, verified=False, created=datetime.datetime(2018, 7, 9, 3, 30, 45, tzinfo=datetime.timezone.utc), followersCount=95250, friendsCount=0, statusesCount=5440, favouritesCount=72, listedCount=98, mediaCount=1315, location='Thailand', protected=None, link=TextLink(text='taxbugnoms.co', url='http://taxbugnoms.co', tcourl='https://t.co/oPlMOWIGUF', indices=(0, 23)), profileImageUrl='https://pbs.twimg.com/profile_images/1016162906566586368/kyJPKXIf_normal.jpg', profileBannerUrl='https://pbs.twimg.com/profile_banners/1016162716434640896/1640971494', label=None, blue=True, blueType=None, profileImageShape=<ProfileImageShape.CIRCLE: 'circle'>), replyCount=4, retweetCount=495, likeCount=333, quoteCount=3, conversationId=1748319804585660504, lang='th', source=None, sourceUrl=None, sourceLabel=None, links=[TextLink(text='efiling.rd.go.th/rd-efiling-web…', url='https://efiling.rd.go.th/rd-efiling-web/authen/MTA2', tcourl='https://t.co/HwuFchXdLu', indices=(200, 223))], media=[Photo(previewUrl='https://pbs.twimg.com/media/GENHJptbsAAAX-p?format=jpg&name=small', fullUrl='https://pbs.twimg.com/media/GENHJptbsAAAX-p?format=jpg&name=orig', altText=None)], retweetedTweet=None, quotedTweet=None, inReplyToTweetId=None, inReplyToUser=None, mentionedUsers=None, coordinates=None, place=None, hashtags=['ยื่นภาษีปี2566'], cashtags=None, card=None, viewCount=19765, vibe=None, bookmarkCount=166, pinned=None, editState=EditState(editTweetIds=[1748319804585660504], editableUntilDate=datetime.datetime(2024, 1, 19, 13, 21, 38, tzinfo=datetime.timezone.utc), editsRemaining=5), conversationControlPolicy=<ConversationControlPolicy.EVERYONE: 'everyone'>).\n"
          ]
        },
        {
          "output_type": "execute_result",
          "data": {
            "text/plain": [
              "Tweet(url='https://twitter.com/TAXBugnoms/status/1748319804585660504', date=datetime.datetime(2024, 1, 19, 12, 21, 38, tzinfo=datetime.timezone.utc), rawContent='อัปเดท #ยื่นภาษีปี2566 ตอนนี้สามารถใช้ข้อมูลในระบบ My Tax Account ให้ดึงข้อมูลที่สรรพากรมีไปยื่นภาษีอัตโนมัติได้แล้วนะครับ \\n\\nตรงด้านล่างจะมีปุ่มให้เลือก \"ยื่นแบบโดยใช้ข้อมูล\" ครับ \\nเข้าระบบตรงนี้นะ : https://t.co/HwuFchXdLu https://t.co/kFkJFTuQuc', renderedContent='อัปเดท #ยื่นภาษีปี2566 ตอนนี้สามารถใช้ข้อมูลในระบบ My Tax Account ให้ดึงข้อมูลที่สรรพากรมีไปยื่นภาษีอัตโนมัติได้แล้วนะครับ \\n\\nตรงด้านล่างจะมีปุ่มให้เลือก \"ยื่นแบบโดยใช้ข้อมูล\" ครับ \\nเข้าระบบตรงนี้นะ : efiling.rd.go.th/rd-efiling-web… https://t.co/kFkJFTuQuc', id=1748319804585660504, user=User(username='TAXBugnoms', id=1016162716434640896, displayname='TAXBugnoms', rawDescription='ทำให้เรื่อง #ภาษี #บัญชี #การเงิน เป็นเรื่องสนุก และทวิตเรื่องที่อยากเล่า จะติดตามก็ได้ ไม่ติดตามก็ได้ แต่ถ้าติดต่องาน : conTAXBugnoms@gmail.com', renderedDescription='ทำให้เรื่อง #ภาษี #บัญชี #การเงิน เป็นเรื่องสนุก และทวิตเรื่องที่อยากเล่า จะติดตามก็ได้ ไม่ติดตามก็ได้ แต่ถ้าติดต่องาน : conTAXBugnoms@gmail.com', descriptionLinks=None, verified=False, created=datetime.datetime(2018, 7, 9, 3, 30, 45, tzinfo=datetime.timezone.utc), followersCount=95250, friendsCount=0, statusesCount=5440, favouritesCount=72, listedCount=98, mediaCount=1315, location='Thailand', protected=None, link=TextLink(text='taxbugnoms.co', url='http://taxbugnoms.co', tcourl='https://t.co/oPlMOWIGUF', indices=(0, 23)), profileImageUrl='https://pbs.twimg.com/profile_images/1016162906566586368/kyJPKXIf_normal.jpg', profileBannerUrl='https://pbs.twimg.com/profile_banners/1016162716434640896/1640971494', label=None, blue=True, blueType=None, profileImageShape=<ProfileImageShape.CIRCLE: 'circle'>), replyCount=4, retweetCount=495, likeCount=333, quoteCount=3, conversationId=1748319804585660504, lang='th', source=None, sourceUrl=None, sourceLabel=None, links=[TextLink(text='efiling.rd.go.th/rd-efiling-web…', url='https://efiling.rd.go.th/rd-efiling-web/authen/MTA2', tcourl='https://t.co/HwuFchXdLu', indices=(200, 223))], media=[Photo(previewUrl='https://pbs.twimg.com/media/GENHJptbsAAAX-p?format=jpg&name=small', fullUrl='https://pbs.twimg.com/media/GENHJptbsAAAX-p?format=jpg&name=orig', altText=None)], retweetedTweet=None, quotedTweet=None, inReplyToTweetId=None, inReplyToUser=None, mentionedUsers=None, coordinates=None, place=None, hashtags=['ยื่นภาษีปี2566'], cashtags=None, card=None, viewCount=19765, vibe=None, bookmarkCount=166, pinned=None, editState=EditState(editTweetIds=[1748319804585660504], editableUntilDate=datetime.datetime(2024, 1, 19, 13, 21, 38, tzinfo=datetime.timezone.utc), editsRemaining=5), conversationControlPolicy=<ConversationControlPolicy.EVERYONE: 'everyone'>)"
            ]
          },
          "metadata": {},
          "execution_count": 10
        }
      ]
    },
    {
      "cell_type": "markdown",
      "source": [
        "Reference: https://github.com/JustAnotherArchivist/snscrape/blob/master/snscrape/modules/twitter.py\n",
        "\n",
        "Might be the best solution: https://web.archive.org/web/*/https://twitter.com/ekaratrattagan*"
      ],
      "metadata": {
        "id": "t7woNuVfiUOJ"
      }
    },
    {
      "cell_type": "markdown",
      "source": [
        "# snscrape doesn't work"
      ],
      "metadata": {
        "id": "x4arzvfF5nvN"
      }
    },
    {
      "cell_type": "code",
      "source": [
        "import snscrape.modules.twitter as sntwitter\n",
        "import pandas as pd\n",
        "\n",
        "# Setting variables to be used below\n",
        "# maxTweets = 5000\n",
        "\n",
        "# Creating list to append tweet data to\n",
        "tweets_list1 = []\n",
        "\n",
        "# Using TwitterSearchScraper to scrape data and append tweets to list\n",
        "for i, tweet in enumerate(sntwitter.TwitterSearchScraper('bitcoin since:2021-07-01 until:2022-12-31').get_items()):\n",
        "    # if i>maxTweets:\n",
        "    #     break\n",
        "\n",
        "    tweets_list1.append([tweet.date, tweet.id, tweet.rawContent, tweet.user.username])\n",
        "\n",
        "    if (i + 1) % 5000 == 0:\n",
        "\n",
        "        # Creating a dataframe from the tweets list above\n",
        "        tweet_df1 = pd.DataFrame(tweets_list1, columns=['Datetime', 'Tweet Id', 'Text', 'Username'])\n",
        "        print(tweet_df1)\n",
        "\n",
        "        # Export dataframe into a csv\n",
        "        tweet_df1.to_csv(f'bitcoin-{(i+1)/5000}.csv', sep=',', index=False)\n",
        "        tweets_list1 = []"
      ],
      "metadata": {
        "colab": {
          "base_uri": "https://localhost:8080/",
          "height": 471
        },
        "id": "wTeIzRvUW1_P",
        "outputId": "10a4d2ba-4b71-4314-9ec9-9ef08eefb1b9"
      },
      "execution_count": null,
      "outputs": [
        {
          "output_type": "stream",
          "name": "stderr",
          "text": [
            "ERROR:snscrape.base:Error retrieving https://twitter.com/i/api/graphql/7jT5GT59P8IFjgxwqnEdQw/SearchTimeline?variables=%7B%22rawQuery%22%3A%22bitcoin%20since%3A2021-07-01%20until%3A2022-12-31%22%2C%22count%22%3A20%2C%22product%22%3A%22Latest%22%2C%22withDownvotePerspective%22%3Afalse%2C%22withReactionsMetadata%22%3Afalse%2C%22withReactionsPerspective%22%3Afalse%7D&features=%7B%22rweb_lists_timeline_redesign_enabled%22%3Afalse%2C%22blue_business_profile_image_shape_enabled%22%3Afalse%2C%22responsive_web_graphql_exclude_directive_enabled%22%3Atrue%2C%22verified_phone_label_enabled%22%3Afalse%2C%22creator_subscriptions_tweet_preview_api_enabled%22%3Afalse%2C%22responsive_web_graphql_timeline_navigation_enabled%22%3Atrue%2C%22responsive_web_graphql_skip_user_profile_image_extensions_enabled%22%3Afalse%2C%22tweetypie_unmention_optimization_enabled%22%3Atrue%2C%22vibe_api_enabled%22%3Atrue%2C%22responsive_web_edit_tweet_api_enabled%22%3Atrue%2C%22graphql_is_translatable_rweb_tweet_is_translatable_enabled%22%3Atrue%2C%22view_counts_everywhere_api_enabled%22%3Atrue%2C%22longform_notetweets_consumption_enabled%22%3Atrue%2C%22tweet_awards_web_tipping_enabled%22%3Afalse%2C%22freedom_of_speech_not_reach_fetch_enabled%22%3Afalse%2C%22standardized_nudges_misinfo%22%3Atrue%2C%22tweet_with_visibility_results_prefer_gql_limited_actions_policy_enabled%22%3Afalse%2C%22interactive_text_enabled%22%3Atrue%2C%22responsive_web_text_conversations_enabled%22%3Afalse%2C%22longform_notetweets_rich_text_read_enabled%22%3Afalse%2C%22longform_notetweets_inline_media_enabled%22%3Afalse%2C%22responsive_web_enhance_cards_enabled%22%3Afalse%2C%22responsive_web_twitter_blue_verified_badge_is_enabled%22%3Atrue%7D: blocked (404)\n",
            "CRITICAL:snscrape.base:4 requests to https://twitter.com/i/api/graphql/7jT5GT59P8IFjgxwqnEdQw/SearchTimeline?variables=%7B%22rawQuery%22%3A%22bitcoin%20since%3A2021-07-01%20until%3A2022-12-31%22%2C%22count%22%3A20%2C%22product%22%3A%22Latest%22%2C%22withDownvotePerspective%22%3Afalse%2C%22withReactionsMetadata%22%3Afalse%2C%22withReactionsPerspective%22%3Afalse%7D&features=%7B%22rweb_lists_timeline_redesign_enabled%22%3Afalse%2C%22blue_business_profile_image_shape_enabled%22%3Afalse%2C%22responsive_web_graphql_exclude_directive_enabled%22%3Atrue%2C%22verified_phone_label_enabled%22%3Afalse%2C%22creator_subscriptions_tweet_preview_api_enabled%22%3Afalse%2C%22responsive_web_graphql_timeline_navigation_enabled%22%3Atrue%2C%22responsive_web_graphql_skip_user_profile_image_extensions_enabled%22%3Afalse%2C%22tweetypie_unmention_optimization_enabled%22%3Atrue%2C%22vibe_api_enabled%22%3Atrue%2C%22responsive_web_edit_tweet_api_enabled%22%3Atrue%2C%22graphql_is_translatable_rweb_tweet_is_translatable_enabled%22%3Atrue%2C%22view_counts_everywhere_api_enabled%22%3Atrue%2C%22longform_notetweets_consumption_enabled%22%3Atrue%2C%22tweet_awards_web_tipping_enabled%22%3Afalse%2C%22freedom_of_speech_not_reach_fetch_enabled%22%3Afalse%2C%22standardized_nudges_misinfo%22%3Atrue%2C%22tweet_with_visibility_results_prefer_gql_limited_actions_policy_enabled%22%3Afalse%2C%22interactive_text_enabled%22%3Atrue%2C%22responsive_web_text_conversations_enabled%22%3Afalse%2C%22longform_notetweets_rich_text_read_enabled%22%3Afalse%2C%22longform_notetweets_inline_media_enabled%22%3Afalse%2C%22responsive_web_enhance_cards_enabled%22%3Afalse%2C%22responsive_web_twitter_blue_verified_badge_is_enabled%22%3Atrue%7D failed, giving up.\n",
            "CRITICAL:snscrape.base:Errors: blocked (404), blocked (404), blocked (404), blocked (404)\n"
          ]
        },
        {
          "output_type": "error",
          "ename": "ScraperException",
          "evalue": "ignored",
          "traceback": [
            "\u001b[0;31m---------------------------------------------------------------------------\u001b[0m",
            "\u001b[0;31mScraperException\u001b[0m                          Traceback (most recent call last)",
            "\u001b[0;32m<ipython-input-7-799a96841a1d>\u001b[0m in \u001b[0;36m<cell line: 11>\u001b[0;34m()\u001b[0m\n\u001b[1;32m      9\u001b[0m \u001b[0;34m\u001b[0m\u001b[0m\n\u001b[1;32m     10\u001b[0m \u001b[0;31m# Using TwitterSearchScraper to scrape data and append tweets to list\u001b[0m\u001b[0;34m\u001b[0m\u001b[0;34m\u001b[0m\u001b[0m\n\u001b[0;32m---> 11\u001b[0;31m \u001b[0;32mfor\u001b[0m \u001b[0mi\u001b[0m\u001b[0;34m,\u001b[0m \u001b[0mtweet\u001b[0m \u001b[0;32min\u001b[0m \u001b[0menumerate\u001b[0m\u001b[0;34m(\u001b[0m\u001b[0msntwitter\u001b[0m\u001b[0;34m.\u001b[0m\u001b[0mTwitterSearchScraper\u001b[0m\u001b[0;34m(\u001b[0m\u001b[0;34m'bitcoin since:2021-07-01 until:2022-12-31'\u001b[0m\u001b[0;34m)\u001b[0m\u001b[0;34m.\u001b[0m\u001b[0mget_items\u001b[0m\u001b[0;34m(\u001b[0m\u001b[0;34m)\u001b[0m\u001b[0;34m)\u001b[0m\u001b[0;34m:\u001b[0m\u001b[0;34m\u001b[0m\u001b[0;34m\u001b[0m\u001b[0m\n\u001b[0m\u001b[1;32m     12\u001b[0m     \u001b[0;31m# if i>maxTweets:\u001b[0m\u001b[0;34m\u001b[0m\u001b[0;34m\u001b[0m\u001b[0m\n\u001b[1;32m     13\u001b[0m     \u001b[0;31m#     break\u001b[0m\u001b[0;34m\u001b[0m\u001b[0;34m\u001b[0m\u001b[0m\n",
            "\u001b[0;32m/usr/local/lib/python3.10/dist-packages/snscrape/modules/twitter.py\u001b[0m in \u001b[0;36mget_items\u001b[0;34m(self)\u001b[0m\n\u001b[1;32m   1761\u001b[0m                 \u001b[0mpaginationParams\u001b[0m \u001b[0;34m=\u001b[0m \u001b[0;34m{\u001b[0m\u001b[0;34m'variables'\u001b[0m\u001b[0;34m:\u001b[0m \u001b[0mpaginationVariables\u001b[0m\u001b[0;34m,\u001b[0m \u001b[0;34m'features'\u001b[0m\u001b[0;34m:\u001b[0m \u001b[0mfeatures\u001b[0m\u001b[0;34m}\u001b[0m\u001b[0;34m\u001b[0m\u001b[0;34m\u001b[0m\u001b[0m\n\u001b[1;32m   1762\u001b[0m \u001b[0;34m\u001b[0m\u001b[0m\n\u001b[0;32m-> 1763\u001b[0;31m                 \u001b[0;32mfor\u001b[0m \u001b[0mobj\u001b[0m \u001b[0;32min\u001b[0m \u001b[0mself\u001b[0m\u001b[0;34m.\u001b[0m\u001b[0m_iter_api_data\u001b[0m\u001b[0;34m(\u001b[0m\u001b[0;34m'https://twitter.com/i/api/graphql/7jT5GT59P8IFjgxwqnEdQw/SearchTimeline'\u001b[0m\u001b[0;34m,\u001b[0m \u001b[0m_TwitterAPIType\u001b[0m\u001b[0;34m.\u001b[0m\u001b[0mGRAPHQL\u001b[0m\u001b[0;34m,\u001b[0m \u001b[0mparams\u001b[0m\u001b[0;34m,\u001b[0m \u001b[0mpaginationParams\u001b[0m\u001b[0;34m,\u001b[0m \u001b[0mcursor\u001b[0m \u001b[0;34m=\u001b[0m \u001b[0mself\u001b[0m\u001b[0;34m.\u001b[0m\u001b[0m_cursor\u001b[0m\u001b[0;34m,\u001b[0m \u001b[0minstructionsPath\u001b[0m \u001b[0;34m=\u001b[0m \u001b[0;34m[\u001b[0m\u001b[0;34m'data'\u001b[0m\u001b[0;34m,\u001b[0m \u001b[0;34m'search_by_raw_query'\u001b[0m\u001b[0;34m,\u001b[0m \u001b[0;34m'search_timeline'\u001b[0m\u001b[0;34m,\u001b[0m \u001b[0;34m'timeline'\u001b[0m\u001b[0;34m,\u001b[0m \u001b[0;34m'instructions'\u001b[0m\u001b[0;34m]\u001b[0m\u001b[0;34m)\u001b[0m\u001b[0;34m:\u001b[0m\u001b[0;34m\u001b[0m\u001b[0;34m\u001b[0m\u001b[0m\n\u001b[0m\u001b[1;32m   1764\u001b[0m                         \u001b[0;32myield\u001b[0m \u001b[0;32mfrom\u001b[0m \u001b[0mself\u001b[0m\u001b[0;34m.\u001b[0m\u001b[0m_graphql_timeline_instructions_to_tweets\u001b[0m\u001b[0;34m(\u001b[0m\u001b[0mobj\u001b[0m\u001b[0;34m[\u001b[0m\u001b[0;34m'data'\u001b[0m\u001b[0;34m]\u001b[0m\u001b[0;34m[\u001b[0m\u001b[0;34m'search_by_raw_query'\u001b[0m\u001b[0;34m]\u001b[0m\u001b[0;34m[\u001b[0m\u001b[0;34m'search_timeline'\u001b[0m\u001b[0;34m]\u001b[0m\u001b[0;34m[\u001b[0m\u001b[0;34m'timeline'\u001b[0m\u001b[0;34m]\u001b[0m\u001b[0;34m[\u001b[0m\u001b[0;34m'instructions'\u001b[0m\u001b[0;34m]\u001b[0m\u001b[0;34m)\u001b[0m\u001b[0;34m\u001b[0m\u001b[0;34m\u001b[0m\u001b[0m\n\u001b[1;32m   1765\u001b[0m \u001b[0;34m\u001b[0m\u001b[0m\n",
            "\u001b[0;32m/usr/local/lib/python3.10/dist-packages/snscrape/modules/twitter.py\u001b[0m in \u001b[0;36m_iter_api_data\u001b[0;34m(self, endpoint, apiType, params, paginationParams, cursor, direction, instructionsPath)\u001b[0m\n\u001b[1;32m    913\u001b[0m                 \u001b[0;32mwhile\u001b[0m \u001b[0;32mTrue\u001b[0m\u001b[0;34m:\u001b[0m\u001b[0;34m\u001b[0m\u001b[0;34m\u001b[0m\u001b[0m\n\u001b[1;32m    914\u001b[0m                         \u001b[0m_logger\u001b[0m\u001b[0;34m.\u001b[0m\u001b[0minfo\u001b[0m\u001b[0;34m(\u001b[0m\u001b[0;34mf'Retrieving scroll page {cursor}'\u001b[0m\u001b[0;34m)\u001b[0m\u001b[0;34m\u001b[0m\u001b[0;34m\u001b[0m\u001b[0m\n\u001b[0;32m--> 915\u001b[0;31m                         \u001b[0mobj\u001b[0m \u001b[0;34m=\u001b[0m \u001b[0mself\u001b[0m\u001b[0;34m.\u001b[0m\u001b[0m_get_api_data\u001b[0m\u001b[0;34m(\u001b[0m\u001b[0mendpoint\u001b[0m\u001b[0;34m,\u001b[0m \u001b[0mapiType\u001b[0m\u001b[0;34m,\u001b[0m \u001b[0mreqParams\u001b[0m\u001b[0;34m,\u001b[0m \u001b[0minstructionsPath\u001b[0m \u001b[0;34m=\u001b[0m \u001b[0minstructionsPath\u001b[0m\u001b[0;34m)\u001b[0m\u001b[0;34m\u001b[0m\u001b[0;34m\u001b[0m\u001b[0m\n\u001b[0m\u001b[1;32m    916\u001b[0m                         \u001b[0;32myield\u001b[0m \u001b[0mobj\u001b[0m\u001b[0;34m\u001b[0m\u001b[0;34m\u001b[0m\u001b[0m\n\u001b[1;32m    917\u001b[0m \u001b[0;34m\u001b[0m\u001b[0m\n",
            "\u001b[0;32m/usr/local/lib/python3.10/dist-packages/snscrape/modules/twitter.py\u001b[0m in \u001b[0;36m_get_api_data\u001b[0;34m(self, endpoint, apiType, params, instructionsPath)\u001b[0m\n\u001b[1;32m    884\u001b[0m                 \u001b[0;32mif\u001b[0m \u001b[0mapiType\u001b[0m \u001b[0;32mis\u001b[0m \u001b[0m_TwitterAPIType\u001b[0m\u001b[0;34m.\u001b[0m\u001b[0mGRAPHQL\u001b[0m\u001b[0;34m:\u001b[0m\u001b[0;34m\u001b[0m\u001b[0;34m\u001b[0m\u001b[0m\n\u001b[1;32m    885\u001b[0m                         \u001b[0mparams\u001b[0m \u001b[0;34m=\u001b[0m \u001b[0murllib\u001b[0m\u001b[0;34m.\u001b[0m\u001b[0mparse\u001b[0m\u001b[0;34m.\u001b[0m\u001b[0murlencode\u001b[0m\u001b[0;34m(\u001b[0m\u001b[0;34m{\u001b[0m\u001b[0mk\u001b[0m\u001b[0;34m:\u001b[0m \u001b[0mjson\u001b[0m\u001b[0;34m.\u001b[0m\u001b[0mdumps\u001b[0m\u001b[0;34m(\u001b[0m\u001b[0mv\u001b[0m\u001b[0;34m,\u001b[0m \u001b[0mseparators\u001b[0m \u001b[0;34m=\u001b[0m \u001b[0;34m(\u001b[0m\u001b[0;34m','\u001b[0m\u001b[0;34m,\u001b[0m \u001b[0;34m':'\u001b[0m\u001b[0;34m)\u001b[0m\u001b[0;34m)\u001b[0m \u001b[0;32mfor\u001b[0m \u001b[0mk\u001b[0m\u001b[0;34m,\u001b[0m \u001b[0mv\u001b[0m \u001b[0;32min\u001b[0m \u001b[0mparams\u001b[0m\u001b[0;34m.\u001b[0m\u001b[0mitems\u001b[0m\u001b[0;34m(\u001b[0m\u001b[0;34m)\u001b[0m\u001b[0;34m}\u001b[0m\u001b[0;34m,\u001b[0m \u001b[0mquote_via\u001b[0m \u001b[0;34m=\u001b[0m \u001b[0murllib\u001b[0m\u001b[0;34m.\u001b[0m\u001b[0mparse\u001b[0m\u001b[0;34m.\u001b[0m\u001b[0mquote\u001b[0m\u001b[0;34m)\u001b[0m\u001b[0;34m\u001b[0m\u001b[0;34m\u001b[0m\u001b[0m\n\u001b[0;32m--> 886\u001b[0;31m                 \u001b[0mr\u001b[0m \u001b[0;34m=\u001b[0m \u001b[0mself\u001b[0m\u001b[0;34m.\u001b[0m\u001b[0m_get\u001b[0m\u001b[0;34m(\u001b[0m\u001b[0mendpoint\u001b[0m\u001b[0;34m,\u001b[0m \u001b[0mparams\u001b[0m \u001b[0;34m=\u001b[0m \u001b[0mparams\u001b[0m\u001b[0;34m,\u001b[0m \u001b[0mheaders\u001b[0m \u001b[0;34m=\u001b[0m \u001b[0mself\u001b[0m\u001b[0;34m.\u001b[0m\u001b[0m_apiHeaders\u001b[0m\u001b[0;34m,\u001b[0m \u001b[0mresponseOkCallback\u001b[0m \u001b[0;34m=\u001b[0m \u001b[0mfunctools\u001b[0m\u001b[0;34m.\u001b[0m\u001b[0mpartial\u001b[0m\u001b[0;34m(\u001b[0m\u001b[0mself\u001b[0m\u001b[0;34m.\u001b[0m\u001b[0m_check_api_response\u001b[0m\u001b[0;34m,\u001b[0m \u001b[0mapiType\u001b[0m \u001b[0;34m=\u001b[0m \u001b[0mapiType\u001b[0m\u001b[0;34m,\u001b[0m \u001b[0minstructionsPath\u001b[0m \u001b[0;34m=\u001b[0m \u001b[0minstructionsPath\u001b[0m\u001b[0;34m)\u001b[0m\u001b[0;34m)\u001b[0m\u001b[0;34m\u001b[0m\u001b[0;34m\u001b[0m\u001b[0m\n\u001b[0m\u001b[1;32m    887\u001b[0m                 \u001b[0;32mreturn\u001b[0m \u001b[0mr\u001b[0m\u001b[0;34m.\u001b[0m\u001b[0m_snscrapeObj\u001b[0m\u001b[0;34m\u001b[0m\u001b[0;34m\u001b[0m\u001b[0m\n\u001b[1;32m    888\u001b[0m \u001b[0;34m\u001b[0m\u001b[0m\n",
            "\u001b[0;32m/usr/local/lib/python3.10/dist-packages/snscrape/base.py\u001b[0m in \u001b[0;36m_get\u001b[0;34m(self, *args, **kwargs)\u001b[0m\n\u001b[1;32m    273\u001b[0m \u001b[0;34m\u001b[0m\u001b[0m\n\u001b[1;32m    274\u001b[0m         \u001b[0;32mdef\u001b[0m \u001b[0m_get\u001b[0m\u001b[0;34m(\u001b[0m\u001b[0mself\u001b[0m\u001b[0;34m,\u001b[0m \u001b[0;34m*\u001b[0m\u001b[0margs\u001b[0m\u001b[0;34m,\u001b[0m \u001b[0;34m**\u001b[0m\u001b[0mkwargs\u001b[0m\u001b[0;34m)\u001b[0m\u001b[0;34m:\u001b[0m\u001b[0;34m\u001b[0m\u001b[0;34m\u001b[0m\u001b[0m\n\u001b[0;32m--> 275\u001b[0;31m                 \u001b[0;32mreturn\u001b[0m \u001b[0mself\u001b[0m\u001b[0;34m.\u001b[0m\u001b[0m_request\u001b[0m\u001b[0;34m(\u001b[0m\u001b[0;34m'GET'\u001b[0m\u001b[0;34m,\u001b[0m \u001b[0;34m*\u001b[0m\u001b[0margs\u001b[0m\u001b[0;34m,\u001b[0m \u001b[0;34m**\u001b[0m\u001b[0mkwargs\u001b[0m\u001b[0;34m)\u001b[0m\u001b[0;34m\u001b[0m\u001b[0;34m\u001b[0m\u001b[0m\n\u001b[0m\u001b[1;32m    276\u001b[0m \u001b[0;34m\u001b[0m\u001b[0m\n\u001b[1;32m    277\u001b[0m         \u001b[0;32mdef\u001b[0m \u001b[0m_post\u001b[0m\u001b[0;34m(\u001b[0m\u001b[0mself\u001b[0m\u001b[0;34m,\u001b[0m \u001b[0;34m*\u001b[0m\u001b[0margs\u001b[0m\u001b[0;34m,\u001b[0m \u001b[0;34m**\u001b[0m\u001b[0mkwargs\u001b[0m\u001b[0;34m)\u001b[0m\u001b[0;34m:\u001b[0m\u001b[0;34m\u001b[0m\u001b[0;34m\u001b[0m\u001b[0m\n",
            "\u001b[0;32m/usr/local/lib/python3.10/dist-packages/snscrape/base.py\u001b[0m in \u001b[0;36m_request\u001b[0;34m(self, method, url, params, data, headers, timeout, responseOkCallback, allowRedirects, proxies)\u001b[0m\n\u001b[1;32m    269\u001b[0m                         \u001b[0m_logger\u001b[0m\u001b[0;34m.\u001b[0m\u001b[0mfatal\u001b[0m\u001b[0;34m(\u001b[0m\u001b[0mmsg\u001b[0m\u001b[0;34m)\u001b[0m\u001b[0;34m\u001b[0m\u001b[0;34m\u001b[0m\u001b[0m\n\u001b[1;32m    270\u001b[0m                         \u001b[0m_logger\u001b[0m\u001b[0;34m.\u001b[0m\u001b[0mfatal\u001b[0m\u001b[0;34m(\u001b[0m\u001b[0;34mf'Errors: {\", \".join(errors)}'\u001b[0m\u001b[0;34m)\u001b[0m\u001b[0;34m\u001b[0m\u001b[0;34m\u001b[0m\u001b[0m\n\u001b[0;32m--> 271\u001b[0;31m                         \u001b[0;32mraise\u001b[0m \u001b[0mScraperException\u001b[0m\u001b[0;34m(\u001b[0m\u001b[0mmsg\u001b[0m\u001b[0;34m)\u001b[0m\u001b[0;34m\u001b[0m\u001b[0;34m\u001b[0m\u001b[0m\n\u001b[0m\u001b[1;32m    272\u001b[0m                 \u001b[0;32mraise\u001b[0m \u001b[0mRuntimeError\u001b[0m\u001b[0;34m(\u001b[0m\u001b[0;34m'Reached unreachable code'\u001b[0m\u001b[0;34m)\u001b[0m\u001b[0;34m\u001b[0m\u001b[0;34m\u001b[0m\u001b[0m\n\u001b[1;32m    273\u001b[0m \u001b[0;34m\u001b[0m\u001b[0m\n",
            "\u001b[0;31mScraperException\u001b[0m: 4 requests to https://twitter.com/i/api/graphql/7jT5GT59P8IFjgxwqnEdQw/SearchTimeline?variables=%7B%22rawQuery%22%3A%22bitcoin%20since%3A2021-07-01%20until%3A2022-12-31%22%2C%22count%22%3A20%2C%22product%22%3A%22Latest%22%2C%22withDownvotePerspective%22%3Afalse%2C%22withReactionsMetadata%22%3Afalse%2C%22withReactionsPerspective%22%3Afalse%7D&features=%7B%22rweb_lists_timeline_redesign_enabled%22%3Afalse%2C%22blue_business_profile_image_shape_enabled%22%3Afalse%2C%22responsive_web_graphql_exclude_directive_enabled%22%3Atrue%2C%22verified_phone_label_enabled%22%3Afalse%2C%22creator_subscriptions_tweet_preview_api_enabled%22%3Afalse%2C%22responsive_web_graphql_timeline_navigation_enabled%22%3Atrue%2C%22responsive_web_graphql_skip_user_profile_image_extensions_enabled%22%3Afalse%2C%22tweetypie_unmention_optimization_enabled%22%3Atrue%2C%22vibe_api_enabled%22%3Atrue%2C%22responsive_web_edit_tweet_api_enabled%22%3Atrue%2C%22graphql_is_translatable_rweb_tweet_is_translatable_enabled%22%3Atrue%2C%22view_counts_everywhere_api_enabled%22%3Atrue%2C%22longform_notetweets_consumption_enabled%22%3Atrue%2C%22tweet_awards_web_tipping_enabled%22%3Afalse%2C%22freedom_of_speech_not_reach_fetch_enabled%22%3Afalse%2C%22standardized_nudges_misinfo%22%3Atrue%2C%22tweet_with_visibility_results_prefer_gql_limited_actions_policy_enabled%22%3Afalse%2C%22interactive_text_enabled%22%3Atrue%2C%22responsive_web_text_conversations_enabled%22%3Afalse%2C%22longform_notetweets_r..."
          ]
        }
      ]
    },
    {
      "cell_type": "code",
      "source": [
        "!snscrape twitter-user textfiles"
      ],
      "metadata": {
        "colab": {
          "base_uri": "https://localhost:8080/"
        },
        "id": "tJ5xgRIc1_Qh",
        "outputId": "d6d6dcba-fc6b-45be-8497-492696c29d77"
      },
      "execution_count": 9,
      "outputs": [
        {
          "output_type": "stream",
          "name": "stdout",
          "text": [
            "2024-01-19 13:10:38.681  ERROR  snscrape.base  Error retrieving https://twitter.com/i/api/graphql/7jT5GT59P8IFjgxwqnEdQw/SearchTimeline?variables=%7B%22rawQuery%22%3A%22from%3Atextfiles%22%2C%22count%22%3A20%2C%22product%22%3A%22Latest%22%2C%22withDownvotePerspective%22%3Afalse%2C%22withReactionsMetadata%22%3Afalse%2C%22withReactionsPerspective%22%3Afalse%7D&features=%7B%22rweb_lists_timeline_redesign_enabled%22%3Afalse%2C%22blue_business_profile_image_shape_enabled%22%3Afalse%2C%22responsive_web_graphql_exclude_directive_enabled%22%3Atrue%2C%22verified_phone_label_enabled%22%3Afalse%2C%22creator_subscriptions_tweet_preview_api_enabled%22%3Afalse%2C%22responsive_web_graphql_timeline_navigation_enabled%22%3Atrue%2C%22responsive_web_graphql_skip_user_profile_image_extensions_enabled%22%3Afalse%2C%22tweetypie_unmention_optimization_enabled%22%3Atrue%2C%22vibe_api_enabled%22%3Atrue%2C%22responsive_web_edit_tweet_api_enabled%22%3Atrue%2C%22graphql_is_translatable_rweb_tweet_is_translatable_enabled%22%3Atrue%2C%22view_counts_everywhere_api_enabled%22%3Atrue%2C%22longform_notetweets_consumption_enabled%22%3Atrue%2C%22tweet_awards_web_tipping_enabled%22%3Afalse%2C%22freedom_of_speech_not_reach_fetch_enabled%22%3Afalse%2C%22standardized_nudges_misinfo%22%3Atrue%2C%22tweet_with_visibility_results_prefer_gql_limited_actions_policy_enabled%22%3Afalse%2C%22interactive_text_enabled%22%3Atrue%2C%22responsive_web_text_conversations_enabled%22%3Afalse%2C%22longform_notetweets_rich_text_read_enabled%22%3Afalse%2C%22longform_notetweets_inline_media_enabled%22%3Afalse%2C%22responsive_web_enhance_cards_enabled%22%3Afalse%2C%22responsive_web_twitter_blue_verified_badge_is_enabled%22%3Atrue%7D: blocked (404)\n",
            "2024-01-19 13:10:38.681  CRITICAL  snscrape.base  4 requests to https://twitter.com/i/api/graphql/7jT5GT59P8IFjgxwqnEdQw/SearchTimeline?variables=%7B%22rawQuery%22%3A%22from%3Atextfiles%22%2C%22count%22%3A20%2C%22product%22%3A%22Latest%22%2C%22withDownvotePerspective%22%3Afalse%2C%22withReactionsMetadata%22%3Afalse%2C%22withReactionsPerspective%22%3Afalse%7D&features=%7B%22rweb_lists_timeline_redesign_enabled%22%3Afalse%2C%22blue_business_profile_image_shape_enabled%22%3Afalse%2C%22responsive_web_graphql_exclude_directive_enabled%22%3Atrue%2C%22verified_phone_label_enabled%22%3Afalse%2C%22creator_subscriptions_tweet_preview_api_enabled%22%3Afalse%2C%22responsive_web_graphql_timeline_navigation_enabled%22%3Atrue%2C%22responsive_web_graphql_skip_user_profile_image_extensions_enabled%22%3Afalse%2C%22tweetypie_unmention_optimization_enabled%22%3Atrue%2C%22vibe_api_enabled%22%3Atrue%2C%22responsive_web_edit_tweet_api_enabled%22%3Atrue%2C%22graphql_is_translatable_rweb_tweet_is_translatable_enabled%22%3Atrue%2C%22view_counts_everywhere_api_enabled%22%3Atrue%2C%22longform_notetweets_consumption_enabled%22%3Atrue%2C%22tweet_awards_web_tipping_enabled%22%3Afalse%2C%22freedom_of_speech_not_reach_fetch_enabled%22%3Afalse%2C%22standardized_nudges_misinfo%22%3Atrue%2C%22tweet_with_visibility_results_prefer_gql_limited_actions_policy_enabled%22%3Afalse%2C%22interactive_text_enabled%22%3Atrue%2C%22responsive_web_text_conversations_enabled%22%3Afalse%2C%22longform_notetweets_rich_text_read_enabled%22%3Afalse%2C%22longform_notetweets_inline_media_enabled%22%3Afalse%2C%22responsive_web_enhance_cards_enabled%22%3Afalse%2C%22responsive_web_twitter_blue_verified_badge_is_enabled%22%3Atrue%7D failed, giving up.\n",
            "2024-01-19 13:10:38.681  CRITICAL  snscrape.base  Errors: blocked (404), blocked (404), blocked (404), blocked (404)\n",
            "2024-01-19 13:10:38.712  CRITICAL  snscrape._cli  Dumped stack and locals to /tmp/snscrape_locals_d0wv0lfw\n",
            "Traceback (most recent call last):\n",
            "  File \"/usr/local/bin/snscrape\", line 8, in <module>\n",
            "    sys.exit(main())\n",
            "  File \"/usr/local/lib/python3.10/dist-packages/snscrape/_cli.py\", line 323, in main\n",
            "    for i, item in enumerate(scraper.get_items(), start = 1):\n",
            "  File \"/usr/local/lib/python3.10/dist-packages/snscrape/modules/twitter.py\", line 1824, in get_items\n",
            "    yield from super().get_items()\n",
            "  File \"/usr/local/lib/python3.10/dist-packages/snscrape/modules/twitter.py\", line 1763, in get_items\n",
            "    for obj in self._iter_api_data('https://twitter.com/i/api/graphql/7jT5GT59P8IFjgxwqnEdQw/SearchTimeline', _TwitterAPIType.GRAPHQL, params, paginationParams, cursor = self._cursor, instructionsPath = ['data', 'search_by_raw_query', 'search_timeline', 'timeline', 'instructions']):\n",
            "  File \"/usr/local/lib/python3.10/dist-packages/snscrape/modules/twitter.py\", line 915, in _iter_api_data\n",
            "    obj = self._get_api_data(endpoint, apiType, reqParams, instructionsPath = instructionsPath)\n",
            "  File \"/usr/local/lib/python3.10/dist-packages/snscrape/modules/twitter.py\", line 886, in _get_api_data\n",
            "    r = self._get(endpoint, params = params, headers = self._apiHeaders, responseOkCallback = functools.partial(self._check_api_response, apiType = apiType, instructionsPath = instructionsPath))\n",
            "  File \"/usr/local/lib/python3.10/dist-packages/snscrape/base.py\", line 275, in _get\n",
            "    return self._request('GET', *args, **kwargs)\n",
            "  File \"/usr/local/lib/python3.10/dist-packages/snscrape/base.py\", line 271, in _request\n",
            "    raise ScraperException(msg)\n",
            "snscrape.base.ScraperException: 4 requests to https://twitter.com/i/api/graphql/7jT5GT59P8IFjgxwqnEdQw/SearchTimeline?variables=%7B%22rawQuery%22%3A%22from%3Atextfiles%22%2C%22count%22%3A20%2C%22product%22%3A%22Latest%22%2C%22withDownvotePerspective%22%3Afalse%2C%22withReactionsMetadata%22%3Afalse%2C%22withReactionsPerspective%22%3Afalse%7D&features=%7B%22rweb_lists_timeline_redesign_enabled%22%3Afalse%2C%22blue_business_profile_image_shape_enabled%22%3Afalse%2C%22responsive_web_graphql_exclude_directive_enabled%22%3Atrue%2C%22verified_phone_label_enabled%22%3Afalse%2C%22creator_subscriptions_tweet_preview_api_enabled%22%3Afalse%2C%22responsive_web_graphql_timeline_navigation_enabled%22%3Atrue%2C%22responsive_web_graphql_skip_user_profile_image_extensions_enabled%22%3Afalse%2C%22tweetypie_unmention_optimization_enabled%22%3Atrue%2C%22vibe_api_enabled%22%3Atrue%2C%22responsive_web_edit_tweet_api_enabled%22%3Atrue%2C%22graphql_is_translatable_rweb_tweet_is_translatable_enabled%22%3Atrue%2C%22view_counts_everywhere_api_enabled%22%3Atrue%2C%22longform_notetweets_consumption_enabled%22%3Atrue%2C%22tweet_awards_web_tipping_enabled%22%3Afalse%2C%22freedom_of_speech_not_reach_fetch_enabled%22%3Afalse%2C%22standardized_nudges_misinfo%22%3Atrue%2C%22tweet_with_visibility_results_prefer_gql_limited_actions_policy_enabled%22%3Afalse%2C%22interactive_text_enabled%22%3Atrue%2C%22responsive_web_text_conversations_enabled%22%3Afalse%2C%22longform_notetweets_rich_text_read_enabled%22%3Afalse%2C%22longform_notetweets_inline_media_enabled%22%3Afalse%2C%22responsive_web_enhance_cards_enabled%22%3Afalse%2C%22responsive_web_twitter_blue_verified_badge_is_enabled%22%3Atrue%7D failed, giving up.\n"
          ]
        }
      ]
    }
  ]
}