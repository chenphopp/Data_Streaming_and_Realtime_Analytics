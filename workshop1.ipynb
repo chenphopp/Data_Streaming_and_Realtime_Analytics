{
  "nbformat": 4,
  "nbformat_minor": 0,
  "metadata": {
    "colab": {
      "provenance": [],
      "include_colab_link": true
    },
    "kernelspec": {
      "name": "python3",
      "display_name": "Python 3"
    },
    "language_info": {
      "name": "python"
    }
  },
  "cells": [
    {
      "cell_type": "markdown",
      "metadata": {
        "id": "view-in-github",
        "colab_type": "text"
      },
      "source": [
        "<a href=\"https://colab.research.google.com/github/ekaratnida/Data_Streaming_and_Realtime_Analytics/blob/main/workshop1.ipynb\" target=\"_parent\"><img src=\"https://colab.research.google.com/assets/colab-badge.svg\" alt=\"Open In Colab\"/></a>"
      ]
    },
    {
      "cell_type": "markdown",
      "source": [
        "#Data journey: From raw data to insights"
      ],
      "metadata": {
        "id": "hvYU7n5U59pj"
      }
    },
    {
      "cell_type": "markdown",
      "source": [
        "# Use case: Youtube comment analytics\n",
        "## https://www.youtube.com/watch?v=VDQFqn0evfM"
      ],
      "metadata": {
        "id": "sD8ky2n3mkQQ"
      }
    },
    {
      "cell_type": "markdown",
      "source": [
        "## 1. Data collection"
      ],
      "metadata": {
        "id": "qbqaWrs-1xSY"
      }
    },
    {
      "cell_type": "code",
      "source": [
        "!pip install pytchat #https://github.com/taizan-hokuto/pytchat/wiki"
      ],
      "metadata": {
        "id": "Pgo6b68WmFIJ"
      },
      "execution_count": null,
      "outputs": []
    },
    {
      "cell_type": "code",
      "source": [
        "import pytchat\n",
        "import pandas as pd\n",
        "chat = pytchat.create(video_id=\"VDQFqn0evfM\")\n",
        "\n",
        "dList = []\n",
        "aList = []\n",
        "mList = []\n",
        "\n",
        "i = 0\n",
        "rows = 10\n",
        "while chat.is_alive():\n",
        "  for c in chat.get().sync_items():\n",
        "    print(f\"{c.datetime} [{c.author.name}]-{c.message}\")\n",
        "    dList.append(c.datetime)\n",
        "    aList.append(c.author.name)\n",
        "    mList.append(c.message)\n",
        "    i = i+1\n",
        "    if i == rows:\n",
        "      chat.terminate()\n",
        "      break\n",
        "\n",
        "# dictionary of lists\n",
        "dict = {'datetime': dList, 'authorname': aList, 'message': mList}\n",
        "\n",
        "df = pd.DataFrame(dict)\n",
        "df.head()\n",
        "\n",
        "from google.colab import files\n",
        "df.to_csv(\"data.csv\", encoding=\"utf_8_sig\", index=False) #cp874, #TIS-620\n",
        "files.download(\"data.csv\")"
      ],
      "metadata": {
        "id": "vsr1OM129uRq"
      },
      "execution_count": null,
      "outputs": []
    },
    {
      "cell_type": "markdown",
      "source": [
        "## 2. Sentiment analysis"
      ],
      "metadata": {
        "id": "mICmJjJ412Ul"
      }
    },
    {
      "cell_type": "code",
      "source": [
        "!pip install -q transformers"
      ],
      "metadata": {
        "id": "IfJwzhylmEWB"
      },
      "execution_count": null,
      "outputs": []
    },
    {
      "cell_type": "code",
      "source": [
        "from transformers import pipeline\n",
        "sp = pipeline(model=\"poom-sci/WangchanBERTa-finetuned-sentiment\")"
      ],
      "metadata": {
        "id": "F59-3rZVmWhq"
      },
      "execution_count": null,
      "outputs": []
    },
    {
      "cell_type": "code",
      "source": [
        "import pytchat\n",
        "import pandas as pd\n",
        "chat = pytchat.create(video_id=\"VDQFqn0evfM\")\n",
        "\n",
        "dList = []\n",
        "aList = []\n",
        "mList = []\n",
        "sList = []\n",
        "i = 0\n",
        "rows = 10\n",
        "while chat.is_alive():\n",
        "  for c in chat.get().sync_items():\n",
        "    data = sp([c.message])[0]\n",
        "    print(f\"{c.datetime} [{c.author.name}]-{c.message},  sentiment --> { data['label']   }\")\n",
        "    dList.append(c.datetime)\n",
        "    aList.append(c.author.name)\n",
        "    mList.append(c.message)\n",
        "    sList.append(data['label'])\n",
        "    i = i+1\n",
        "    if i == rows:\n",
        "      chat.terminate()\n",
        "      break\n",
        "\n",
        "# dictionary of lists\n",
        "dict = {'datetime': dList, 'authorname': aList, 'message': mList, 'sentiment':sList}\n",
        "\n",
        "df = pd.DataFrame(dict)\n",
        "df.head()\n",
        "\n",
        "from google.colab import files\n",
        "df.to_csv(\"data_sentiment.csv\", encoding=\"utf_8_sig\", index=False) #cp874, #TIS-620\n",
        "files.download(\"data_sentiment.csv\")"
      ],
      "metadata": {
        "id": "R4zkr30m1owA"
      },
      "execution_count": null,
      "outputs": []
    }
  ]
}