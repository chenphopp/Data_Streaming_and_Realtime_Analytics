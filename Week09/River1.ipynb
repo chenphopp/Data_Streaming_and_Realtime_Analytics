{
  "nbformat": 4,
  "nbformat_minor": 0,
  "metadata": {
    "colab": {
      "provenance": [],
      "include_colab_link": true
    },
    "kernelspec": {
      "name": "python3",
      "display_name": "Python 3"
    },
    "language_info": {
      "name": "python"
    }
  },
  "cells": [
    {
      "cell_type": "markdown",
      "metadata": {
        "id": "view-in-github",
        "colab_type": "text"
      },
      "source": [
        "<a href=\"https://colab.research.google.com/github/ekaratnida/Data_Streaming_and_Realtime_Analytics/blob/main/Week09/River1.ipynb\" target=\"_parent\"><img src=\"https://colab.research.google.com/assets/colab-badge.svg\" alt=\"Open In Colab\"/></a>"
      ]
    },
    {
      "cell_type": "code",
      "source": [
        "!pip install river"
      ],
      "metadata": {
        "colab": {
          "base_uri": "https://localhost:8080/"
        },
        "id": "bsEGYDyIoLmZ",
        "outputId": "21362ffc-0493-4ed2-cfd7-4115108e9797"
      },
      "execution_count": null,
      "outputs": [
        {
          "output_type": "stream",
          "name": "stdout",
          "text": [
            "Looking in indexes: https://pypi.org/simple, https://us-python.pkg.dev/colab-wheels/public/simple/\n",
            "Collecting river\n",
            "  Downloading river-0.15.0-cp39-cp39-manylinux_2_17_x86_64.manylinux2014_x86_64.whl (3.2 MB)\n",
            "\u001b[2K     \u001b[90m━━━━━━━━━━━━━━━━━━━━━━━━━━━━━━━━━━━━━━━━\u001b[0m \u001b[32m3.2/3.2 MB\u001b[0m \u001b[31m8.4 MB/s\u001b[0m eta \u001b[36m0:00:00\u001b[0m\n",
            "\u001b[?25hRequirement already satisfied: scipy>=1.5 in /usr/local/lib/python3.9/dist-packages (from river) (1.10.1)\n",
            "Collecting numpy>=1.24.1\n",
            "  Downloading numpy-1.24.2-cp39-cp39-manylinux_2_17_x86_64.manylinux2014_x86_64.whl (17.3 MB)\n",
            "\u001b[2K     \u001b[90m━━━━━━━━━━━━━━━━━━━━━━━━━━━━━━━━━━━━━━━━\u001b[0m \u001b[32m17.3/17.3 MB\u001b[0m \u001b[31m47.0 MB/s\u001b[0m eta \u001b[36m0:00:00\u001b[0m\n",
            "\u001b[?25hRequirement already satisfied: pandas>=1.3 in /usr/local/lib/python3.9/dist-packages (from river) (1.5.3)\n",
            "Requirement already satisfied: pytz>=2020.1 in /usr/local/lib/python3.9/dist-packages (from pandas>=1.3->river) (2022.7.1)\n",
            "Requirement already satisfied: python-dateutil>=2.8.1 in /usr/local/lib/python3.9/dist-packages (from pandas>=1.3->river) (2.8.2)\n",
            "Requirement already satisfied: six>=1.5 in /usr/local/lib/python3.9/dist-packages (from python-dateutil>=2.8.1->pandas>=1.3->river) (1.16.0)\n",
            "Installing collected packages: numpy, river\n",
            "  Attempting uninstall: numpy\n",
            "    Found existing installation: numpy 1.22.4\n",
            "    Uninstalling numpy-1.22.4:\n",
            "      Successfully uninstalled numpy-1.22.4\n",
            "\u001b[31mERROR: pip's dependency resolver does not currently take into account all the packages that are installed. This behaviour is the source of the following dependency conflicts.\n",
            "tensorflow 2.12.0 requires numpy<1.24,>=1.22, but you have numpy 1.24.2 which is incompatible.\n",
            "numba 0.56.4 requires numpy<1.24,>=1.18, but you have numpy 1.24.2 which is incompatible.\u001b[0m\u001b[31m\n",
            "\u001b[0mSuccessfully installed numpy-1.24.2 river-0.15.0\n"
          ]
        }
      ]
    },
    {
      "cell_type": "code",
      "execution_count": null,
      "metadata": {
        "colab": {
          "base_uri": "https://localhost:8080/"
        },
        "id": "ffBRB75kk_Ae",
        "outputId": "7a542b92-1a50-4701-9931-dceeef8107b9"
      },
      "outputs": [
        {
          "output_type": "execute_result",
          "data": {
            "text/plain": [
              "Phishing websites.\n",
              "\n",
              "This dataset contains features from web pages that are classified as phishing or not.\n",
              "\n",
              "    Name  Phishing                                                             \n",
              "    Task  Binary classification                                                \n",
              " Samples  1,250                                                                \n",
              "Features  9                                                                    \n",
              "  Sparse  False                                                                \n",
              "    Path  /usr/local/lib/python3.9/dist-packages/river/datasets/phishing.csv.gz"
            ]
          },
          "metadata": {},
          "execution_count": 2
        }
      ],
      "source": [
        "from river import datasets\n",
        "\n",
        "dataset = datasets.Phishing()\n",
        "dataset\n"
      ]
    },
    {
      "cell_type": "code",
      "source": [
        "x, y = next(iter(dataset))\n",
        "x\n"
      ],
      "metadata": {
        "colab": {
          "base_uri": "https://localhost:8080/"
        },
        "id": "MSQ_Vyu5o18R",
        "outputId": "1895ad24-7a7f-4d10-d8f2-0bddd38619e6"
      },
      "execution_count": null,
      "outputs": [
        {
          "output_type": "execute_result",
          "data": {
            "text/plain": [
              "{'empty_server_form_handler': 0.0,\n",
              " 'popup_window': 0.0,\n",
              " 'https': 0.0,\n",
              " 'request_from_other_domain': 0.0,\n",
              " 'anchor_from_other_domain': 0.0,\n",
              " 'is_popular': 0.5,\n",
              " 'long_url': 1.0,\n",
              " 'age_of_domain': 1,\n",
              " 'ip_in_url': 1}"
            ]
          },
          "metadata": {},
          "execution_count": 3
        }
      ]
    },
    {
      "cell_type": "code",
      "source": [
        "y"
      ],
      "metadata": {
        "colab": {
          "base_uri": "https://localhost:8080/"
        },
        "id": "r0mDLL1zo3zI",
        "outputId": "84a250e0-e89d-470c-c459-415ccb22b8fc"
      },
      "execution_count": null,
      "outputs": [
        {
          "output_type": "execute_result",
          "data": {
            "text/plain": [
              "True"
            ]
          },
          "metadata": {},
          "execution_count": 4
        }
      ]
    },
    {
      "cell_type": "code",
      "source": [
        "from river import metrics\n",
        "from river import linear_model\n",
        "\n",
        "from river import compose\n",
        "from river import preprocessing\n",
        "\n",
        "model = compose.Pipeline(\n",
        "    preprocessing.StandardScaler(),\n",
        "    linear_model.LogisticRegression()\n",
        ")\n",
        "\n",
        "metric = metrics.ROCAUC()\n",
        "\n",
        "for x, y in dataset:\n",
        "    y_pred = model.predict_proba_one(x)\n",
        "    model.learn_one(x, y)\n",
        "    metric.update(y, y_pred)\n",
        "\n",
        "metric\n"
      ],
      "metadata": {
        "colab": {
          "base_uri": "https://localhost:8080/"
        },
        "id": "nVI7XrAPpAYh",
        "outputId": "377329e5-4c91-447c-beb4-edf9d0087937"
      },
      "execution_count": null,
      "outputs": [
        {
          "output_type": "execute_result",
          "data": {
            "text/plain": [
              "ROCAUC: 95.04%"
            ]
          },
          "metadata": {},
          "execution_count": 6
        }
      ]
    }
  ]
}