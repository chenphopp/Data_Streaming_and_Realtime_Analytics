{
  "nbformat": 4,
  "nbformat_minor": 5,
  "metadata": {
    "kernelspec": {
      "display_name": "Python 3",
      "language": "python",
      "name": "python3"
    },
    "language_info": {
      "codemirror_mode": {
        "name": "ipython",
        "version": 3
      },
      "file_extension": ".py",
      "mimetype": "text/x-python",
      "name": "python",
      "nbconvert_exporter": "python",
      "pygments_lexer": "ipython3",
      "version": "3.9.1+"
    },
    "colab": {
      "provenance": [],
      "include_colab_link": true
    }
  },
  "cells": [
    {
      "cell_type": "markdown",
      "metadata": {
        "id": "view-in-github",
        "colab_type": "text"
      },
      "source": [
        "<a href=\"https://colab.research.google.com/github/ekaratnida/Data_Streaming_and_Realtime_Analytics/blob/main/Week09/Online_ML_with_River_Python.ipynb\" target=\"_parent\"><img src=\"https://colab.research.google.com/assets/colab-badge.svg\" alt=\"Open In Colab\"/></a>"
      ]
    },
    {
      "cell_type": "markdown",
      "metadata": {
        "id": "be1b37e0-dfe3-4f3a-8fc1-7b8bf6d24a1c"
      },
      "source": [
        "### Online /Incremental Machine Learning Tools\n",
        "+ Offline ML Learning : it means we have a batch of data, and we optimize an equation to make a prediction \n",
        "+ Online ML learning: used when we have streaming data, where we want to process one sample of data at a time.\n",
        "    - real-time data one observation at a time\n",
        "    - we update our estimates as each new data point arrives rather than waiting until “the end” (which may never occur)\n",
        "+ Incremental learning is a method of machine learning in which input data is continuously used to extend the existing model's knowledge i.e. to further train the model. \n",
        "+ It represents a dynamic technique of supervised learning and unsupervised learning that can be applied when training data becomes available gradually over time or its size is out of system memory limits.\n",
        "+ The AIM\n",
        "    - for the learning model to adapt to new data without forgetting its existing knowledge.\n",
        "\n",
        "\n",
        "\n",
        "#### Tools For Incremental or Online ML\n",
        "+ River\n",
        "\n",
        "\n",
        "#### Usefulness\n",
        "+ For Online ML \n",
        "+ For ml on streaming data\n",
        "\n",
        "\n",
        "\n",
        "\n",
        "#### Installation\n",
        "+ !pip install river\n"
      ],
      "id": "be1b37e0-dfe3-4f3a-8fc1-7b8bf6d24a1c"
    },
    {
      "cell_type": "markdown",
      "metadata": {
        "id": "ed43a93b-74c2-4e5d-ad22-98ab721b8a54"
      },
      "source": [
        "### Incremental /Online Machine Learning with River"
      ],
      "id": "ed43a93b-74c2-4e5d-ad22-98ab721b8a54"
    },
    {
      "cell_type": "code",
      "metadata": {
        "id": "RyScfwR6QNML",
        "colab": {
          "base_uri": "https://localhost:8080/"
        },
        "outputId": "7a6a43a9-5c71-41e4-e1ac-f64afae58e1f"
      },
      "source": [
        "!pip install river\n",
        "!pip install -U numpy"
      ],
      "id": "RyScfwR6QNML",
      "execution_count": 1,
      "outputs": [
        {
          "output_type": "stream",
          "name": "stdout",
          "text": [
            "Looking in indexes: https://pypi.org/simple, https://us-python.pkg.dev/colab-wheels/public/simple/\n",
            "Requirement already satisfied: river in /usr/local/lib/python3.9/dist-packages (0.15.0)\n",
            "Requirement already satisfied: numpy>=1.24.1 in /usr/local/lib/python3.9/dist-packages (from river) (1.24.2)\n",
            "Requirement already satisfied: scipy>=1.5 in /usr/local/lib/python3.9/dist-packages (from river) (1.10.1)\n",
            "Requirement already satisfied: pandas>=1.3 in /usr/local/lib/python3.9/dist-packages (from river) (1.5.3)\n",
            "Requirement already satisfied: pytz>=2020.1 in /usr/local/lib/python3.9/dist-packages (from pandas>=1.3->river) (2022.7.1)\n",
            "Requirement already satisfied: python-dateutil>=2.8.1 in /usr/local/lib/python3.9/dist-packages (from pandas>=1.3->river) (2.8.2)\n",
            "Requirement already satisfied: six>=1.5 in /usr/local/lib/python3.9/dist-packages (from python-dateutil>=2.8.1->pandas>=1.3->river) (1.16.0)\n",
            "Looking in indexes: https://pypi.org/simple, https://us-python.pkg.dev/colab-wheels/public/simple/\n",
            "Requirement already satisfied: numpy in /usr/local/lib/python3.9/dist-packages (1.24.2)\n"
          ]
        }
      ]
    },
    {
      "cell_type": "code",
      "metadata": {
        "id": "7d12ad0d-ef02-43ea-adbd-8f58977dcdcd"
      },
      "source": [
        "# Load ML Pkgs\n",
        "import river"
      ],
      "id": "7d12ad0d-ef02-43ea-adbd-8f58977dcdcd",
      "execution_count": 2,
      "outputs": []
    },
    {
      "cell_type": "code",
      "metadata": {
        "jupyter": {
          "outputs_hidden": true
        },
        "tags": [],
        "id": "5d51c15e-06e8-451e-9235-ec8e52893b4c",
        "outputId": "c5b002cd-0fb5-4276-c062-eabcb8bbf8d8",
        "colab": {
          "base_uri": "https://localhost:8080/"
        }
      },
      "source": [
        "# Method\n",
        "dir(river)"
      ],
      "id": "5d51c15e-06e8-451e-9235-ec8e52893b4c",
      "execution_count": 3,
      "outputs": [
        {
          "output_type": "execute_result",
          "data": {
            "text/plain": [
              "['__builtins__',\n",
              " '__cached__',\n",
              " '__doc__',\n",
              " '__file__',\n",
              " '__loader__',\n",
              " '__name__',\n",
              " '__package__',\n",
              " '__path__',\n",
              " '__spec__',\n",
              " '__version__']"
            ]
          },
          "metadata": {},
          "execution_count": 3
        }
      ]
    },
    {
      "cell_type": "code",
      "metadata": {
        "tags": [],
        "id": "a81a881f-c4ff-4789-af28-f935897f6eef"
      },
      "source": [
        "# Load Estimators\n",
        "from river.naive_bayes import MultinomialNB\n",
        "from river.feature_extraction import BagOfWords\n",
        "import pandas as pd"
      ],
      "id": "a81a881f-c4ff-4789-af28-f935897f6eef",
      "execution_count": 4,
      "outputs": []
    },
    {
      "cell_type": "markdown",
      "source": [
        "More on BagOfWords: https://medium.com/analytics-vidhya/text-classification-from-bag-of-words-to-bert-1e628a2dd4c9"
      ],
      "metadata": {
        "id": "INOTLIQeJgu5"
      },
      "id": "INOTLIQeJgu5"
    },
    {
      "cell_type": "code",
      "metadata": {
        "tags": [],
        "id": "852ea480-3664-4ec8-8f11-fb8168c92f7b"
      },
      "source": [
        "def get_all_attributes(package):\n",
        "    subpackages = []\n",
        "    submodules = []\n",
        "    for i in dir(package):\n",
        "        if str(i) not in [\"__all__\", \"__builtins__\", \"__cached__\", \"__doc__\", \"__file__\", \"__loader__\", \"__name__\", \"__package__\", \"__path__\", \"__pdoc__\", \"__spec__\", \"__version__\"]:\n",
        "            subpackages.append(i)\n",
        "            res = [j for j in dir(eval(\"river.{}\".format(i)))]\n",
        "            submodules.append(res)\n",
        "    df = pd.DataFrame(submodules)\n",
        "    # Transpose\n",
        "    df = df.T\n",
        "    df.columns = subpackages\n",
        "    res_df = df.dropna()\n",
        "    return res_df\n",
        "           \n",
        "    "
      ],
      "id": "852ea480-3664-4ec8-8f11-fb8168c92f7b",
      "execution_count": 5,
      "outputs": []
    },
    {
      "cell_type": "code",
      "metadata": {
        "id": "d8ea68e5-efd1-456b-84ca-3f35d83b1e48",
        "outputId": "7cfa7195-2a3e-4a7a-8a2c-9d8bb43bfc37",
        "colab": {
          "base_uri": "https://localhost:8080/",
          "height": 582
        }
      },
      "source": [
        "river_df = get_all_attributes(river)\n",
        "river_df"
      ],
      "id": "d8ea68e5-efd1-456b-84ca-3f35d83b1e48",
      "execution_count": 6,
      "outputs": [
        {
          "output_type": "execute_result",
          "data": {
            "text/plain": [
              "                              base  feature_extraction    naive_bayes  \\\n",
              "0                             Base                 Agg    BernoulliNB   \n",
              "1    BinaryDriftAndWarningDetector          BagOfWords   ComplementNB   \n",
              "2              BinaryDriftDetector  PolynomialExtender     GaussianNB   \n",
              "3                       Classifier          RBFSampler  MultinomialNB   \n",
              "4                        Clusterer               TFIDF        __all__   \n",
              "5          DriftAndWarningDetector           TargetAgg   __builtins__   \n",
              "6                    DriftDetector             __all__     __cached__   \n",
              "7                         Ensemble        __builtins__        __doc__   \n",
              "8                        Estimator          __cached__       __file__   \n",
              "9              MiniBatchClassifier             __doc__     __loader__   \n",
              "10              MiniBatchRegressor            __file__       __name__   \n",
              "11  MiniBatchSupervisedTransformer          __loader__    __package__   \n",
              "12            MiniBatchTransformer            __name__       __path__   \n",
              "13            MultiLabelClassifier         __package__       __spec__   \n",
              "14            MultiTargetRegressor            __path__           base   \n",
              "15                       Regressor            __spec__      bernoulli   \n",
              "16           SupervisedTransformer                 agg     complement   \n",
              "\n",
              "           proba         stats             utils  \n",
              "0           Beta        AbsMax           Rolling  \n",
              "1       Gaussian      AutoCorr      SortedWindow  \n",
              "2    Multinomial  BayesianMean       TimeRolling  \n",
              "3        __all__         Count        VectorDict  \n",
              "4   __builtins__           Cov           __all__  \n",
              "5     __cached__        EWMean      __builtins__  \n",
              "6        __doc__         EWVar        __cached__  \n",
              "7       __file__       Entropy           __doc__  \n",
              "8     __loader__           IQR          __file__  \n",
              "9       __name__      Kurtosis        __loader__  \n",
              "10   __package__          Link          __name__  \n",
              "11      __path__           MAD       __package__  \n",
              "12      __spec__           Max          __path__  \n",
              "13          base          Mean          __spec__  \n",
              "14          beta           Min  context_managers  \n",
              "15      gaussian          Mode   data_conversion  \n",
              "16   multinomial       NUnique        dict2numpy  "
            ],
            "text/html": [
              "\n",
              "  <div id=\"df-eba5d467-f650-476e-b16b-1c5f2459511f\">\n",
              "    <div class=\"colab-df-container\">\n",
              "      <div>\n",
              "<style scoped>\n",
              "    .dataframe tbody tr th:only-of-type {\n",
              "        vertical-align: middle;\n",
              "    }\n",
              "\n",
              "    .dataframe tbody tr th {\n",
              "        vertical-align: top;\n",
              "    }\n",
              "\n",
              "    .dataframe thead th {\n",
              "        text-align: right;\n",
              "    }\n",
              "</style>\n",
              "<table border=\"1\" class=\"dataframe\">\n",
              "  <thead>\n",
              "    <tr style=\"text-align: right;\">\n",
              "      <th></th>\n",
              "      <th>base</th>\n",
              "      <th>feature_extraction</th>\n",
              "      <th>naive_bayes</th>\n",
              "      <th>proba</th>\n",
              "      <th>stats</th>\n",
              "      <th>utils</th>\n",
              "    </tr>\n",
              "  </thead>\n",
              "  <tbody>\n",
              "    <tr>\n",
              "      <th>0</th>\n",
              "      <td>Base</td>\n",
              "      <td>Agg</td>\n",
              "      <td>BernoulliNB</td>\n",
              "      <td>Beta</td>\n",
              "      <td>AbsMax</td>\n",
              "      <td>Rolling</td>\n",
              "    </tr>\n",
              "    <tr>\n",
              "      <th>1</th>\n",
              "      <td>BinaryDriftAndWarningDetector</td>\n",
              "      <td>BagOfWords</td>\n",
              "      <td>ComplementNB</td>\n",
              "      <td>Gaussian</td>\n",
              "      <td>AutoCorr</td>\n",
              "      <td>SortedWindow</td>\n",
              "    </tr>\n",
              "    <tr>\n",
              "      <th>2</th>\n",
              "      <td>BinaryDriftDetector</td>\n",
              "      <td>PolynomialExtender</td>\n",
              "      <td>GaussianNB</td>\n",
              "      <td>Multinomial</td>\n",
              "      <td>BayesianMean</td>\n",
              "      <td>TimeRolling</td>\n",
              "    </tr>\n",
              "    <tr>\n",
              "      <th>3</th>\n",
              "      <td>Classifier</td>\n",
              "      <td>RBFSampler</td>\n",
              "      <td>MultinomialNB</td>\n",
              "      <td>__all__</td>\n",
              "      <td>Count</td>\n",
              "      <td>VectorDict</td>\n",
              "    </tr>\n",
              "    <tr>\n",
              "      <th>4</th>\n",
              "      <td>Clusterer</td>\n",
              "      <td>TFIDF</td>\n",
              "      <td>__all__</td>\n",
              "      <td>__builtins__</td>\n",
              "      <td>Cov</td>\n",
              "      <td>__all__</td>\n",
              "    </tr>\n",
              "    <tr>\n",
              "      <th>5</th>\n",
              "      <td>DriftAndWarningDetector</td>\n",
              "      <td>TargetAgg</td>\n",
              "      <td>__builtins__</td>\n",
              "      <td>__cached__</td>\n",
              "      <td>EWMean</td>\n",
              "      <td>__builtins__</td>\n",
              "    </tr>\n",
              "    <tr>\n",
              "      <th>6</th>\n",
              "      <td>DriftDetector</td>\n",
              "      <td>__all__</td>\n",
              "      <td>__cached__</td>\n",
              "      <td>__doc__</td>\n",
              "      <td>EWVar</td>\n",
              "      <td>__cached__</td>\n",
              "    </tr>\n",
              "    <tr>\n",
              "      <th>7</th>\n",
              "      <td>Ensemble</td>\n",
              "      <td>__builtins__</td>\n",
              "      <td>__doc__</td>\n",
              "      <td>__file__</td>\n",
              "      <td>Entropy</td>\n",
              "      <td>__doc__</td>\n",
              "    </tr>\n",
              "    <tr>\n",
              "      <th>8</th>\n",
              "      <td>Estimator</td>\n",
              "      <td>__cached__</td>\n",
              "      <td>__file__</td>\n",
              "      <td>__loader__</td>\n",
              "      <td>IQR</td>\n",
              "      <td>__file__</td>\n",
              "    </tr>\n",
              "    <tr>\n",
              "      <th>9</th>\n",
              "      <td>MiniBatchClassifier</td>\n",
              "      <td>__doc__</td>\n",
              "      <td>__loader__</td>\n",
              "      <td>__name__</td>\n",
              "      <td>Kurtosis</td>\n",
              "      <td>__loader__</td>\n",
              "    </tr>\n",
              "    <tr>\n",
              "      <th>10</th>\n",
              "      <td>MiniBatchRegressor</td>\n",
              "      <td>__file__</td>\n",
              "      <td>__name__</td>\n",
              "      <td>__package__</td>\n",
              "      <td>Link</td>\n",
              "      <td>__name__</td>\n",
              "    </tr>\n",
              "    <tr>\n",
              "      <th>11</th>\n",
              "      <td>MiniBatchSupervisedTransformer</td>\n",
              "      <td>__loader__</td>\n",
              "      <td>__package__</td>\n",
              "      <td>__path__</td>\n",
              "      <td>MAD</td>\n",
              "      <td>__package__</td>\n",
              "    </tr>\n",
              "    <tr>\n",
              "      <th>12</th>\n",
              "      <td>MiniBatchTransformer</td>\n",
              "      <td>__name__</td>\n",
              "      <td>__path__</td>\n",
              "      <td>__spec__</td>\n",
              "      <td>Max</td>\n",
              "      <td>__path__</td>\n",
              "    </tr>\n",
              "    <tr>\n",
              "      <th>13</th>\n",
              "      <td>MultiLabelClassifier</td>\n",
              "      <td>__package__</td>\n",
              "      <td>__spec__</td>\n",
              "      <td>base</td>\n",
              "      <td>Mean</td>\n",
              "      <td>__spec__</td>\n",
              "    </tr>\n",
              "    <tr>\n",
              "      <th>14</th>\n",
              "      <td>MultiTargetRegressor</td>\n",
              "      <td>__path__</td>\n",
              "      <td>base</td>\n",
              "      <td>beta</td>\n",
              "      <td>Min</td>\n",
              "      <td>context_managers</td>\n",
              "    </tr>\n",
              "    <tr>\n",
              "      <th>15</th>\n",
              "      <td>Regressor</td>\n",
              "      <td>__spec__</td>\n",
              "      <td>bernoulli</td>\n",
              "      <td>gaussian</td>\n",
              "      <td>Mode</td>\n",
              "      <td>data_conversion</td>\n",
              "    </tr>\n",
              "    <tr>\n",
              "      <th>16</th>\n",
              "      <td>SupervisedTransformer</td>\n",
              "      <td>agg</td>\n",
              "      <td>complement</td>\n",
              "      <td>multinomial</td>\n",
              "      <td>NUnique</td>\n",
              "      <td>dict2numpy</td>\n",
              "    </tr>\n",
              "  </tbody>\n",
              "</table>\n",
              "</div>\n",
              "      <button class=\"colab-df-convert\" onclick=\"convertToInteractive('df-eba5d467-f650-476e-b16b-1c5f2459511f')\"\n",
              "              title=\"Convert this dataframe to an interactive table.\"\n",
              "              style=\"display:none;\">\n",
              "        \n",
              "  <svg xmlns=\"http://www.w3.org/2000/svg\" height=\"24px\"viewBox=\"0 0 24 24\"\n",
              "       width=\"24px\">\n",
              "    <path d=\"M0 0h24v24H0V0z\" fill=\"none\"/>\n",
              "    <path d=\"M18.56 5.44l.94 2.06.94-2.06 2.06-.94-2.06-.94-.94-2.06-.94 2.06-2.06.94zm-11 1L8.5 8.5l.94-2.06 2.06-.94-2.06-.94L8.5 2.5l-.94 2.06-2.06.94zm10 10l.94 2.06.94-2.06 2.06-.94-2.06-.94-.94-2.06-.94 2.06-2.06.94z\"/><path d=\"M17.41 7.96l-1.37-1.37c-.4-.4-.92-.59-1.43-.59-.52 0-1.04.2-1.43.59L10.3 9.45l-7.72 7.72c-.78.78-.78 2.05 0 2.83L4 21.41c.39.39.9.59 1.41.59.51 0 1.02-.2 1.41-.59l7.78-7.78 2.81-2.81c.8-.78.8-2.07 0-2.86zM5.41 20L4 18.59l7.72-7.72 1.47 1.35L5.41 20z\"/>\n",
              "  </svg>\n",
              "      </button>\n",
              "      \n",
              "  <style>\n",
              "    .colab-df-container {\n",
              "      display:flex;\n",
              "      flex-wrap:wrap;\n",
              "      gap: 12px;\n",
              "    }\n",
              "\n",
              "    .colab-df-convert {\n",
              "      background-color: #E8F0FE;\n",
              "      border: none;\n",
              "      border-radius: 50%;\n",
              "      cursor: pointer;\n",
              "      display: none;\n",
              "      fill: #1967D2;\n",
              "      height: 32px;\n",
              "      padding: 0 0 0 0;\n",
              "      width: 32px;\n",
              "    }\n",
              "\n",
              "    .colab-df-convert:hover {\n",
              "      background-color: #E2EBFA;\n",
              "      box-shadow: 0px 1px 2px rgba(60, 64, 67, 0.3), 0px 1px 3px 1px rgba(60, 64, 67, 0.15);\n",
              "      fill: #174EA6;\n",
              "    }\n",
              "\n",
              "    [theme=dark] .colab-df-convert {\n",
              "      background-color: #3B4455;\n",
              "      fill: #D2E3FC;\n",
              "    }\n",
              "\n",
              "    [theme=dark] .colab-df-convert:hover {\n",
              "      background-color: #434B5C;\n",
              "      box-shadow: 0px 1px 3px 1px rgba(0, 0, 0, 0.15);\n",
              "      filter: drop-shadow(0px 1px 2px rgba(0, 0, 0, 0.3));\n",
              "      fill: #FFFFFF;\n",
              "    }\n",
              "  </style>\n",
              "\n",
              "      <script>\n",
              "        const buttonEl =\n",
              "          document.querySelector('#df-eba5d467-f650-476e-b16b-1c5f2459511f button.colab-df-convert');\n",
              "        buttonEl.style.display =\n",
              "          google.colab.kernel.accessAllowed ? 'block' : 'none';\n",
              "\n",
              "        async function convertToInteractive(key) {\n",
              "          const element = document.querySelector('#df-eba5d467-f650-476e-b16b-1c5f2459511f');\n",
              "          const dataTable =\n",
              "            await google.colab.kernel.invokeFunction('convertToInteractive',\n",
              "                                                     [key], {});\n",
              "          if (!dataTable) return;\n",
              "\n",
              "          const docLinkHtml = 'Like what you see? Visit the ' +\n",
              "            '<a target=\"_blank\" href=https://colab.research.google.com/notebooks/data_table.ipynb>data table notebook</a>'\n",
              "            + ' to learn more about interactive tables.';\n",
              "          element.innerHTML = '';\n",
              "          dataTable['output_type'] = 'display_data';\n",
              "          await google.colab.output.renderOutput(dataTable, element);\n",
              "          const docLink = document.createElement('div');\n",
              "          docLink.innerHTML = docLinkHtml;\n",
              "          element.appendChild(docLink);\n",
              "        }\n",
              "      </script>\n",
              "    </div>\n",
              "  </div>\n",
              "  "
            ]
          },
          "metadata": {},
          "execution_count": 6
        }
      ]
    },
    {
      "cell_type": "code",
      "metadata": {
        "id": "49f666f0-a568-497f-b298-1edaaa7b222c"
      },
      "source": [
        "### Data: Predict if a text if hardware or software related\n",
        "data = [(\"my python program is runnning\",\"software\"),\n",
        "(\"I tried to run this program, but it has bugs\",\"software\"),\n",
        "(\"I need a new machine\",\"hardware\"),\n",
        "(\"the flashdisk is broken\",\"hardware\"),\n",
        "(\"We need to test our code\",\"software\"),\n",
        "(\"programming concepts and testing\",\"software\"),\n",
        "(\"Electrical device\",\"hardware\"),\n",
        "(\"device drives\",\"hardware\"),\n",
        "(\"The generator is broken\",\"hardware\"),\n",
        "(\"im buidling a REST API\",\"software\"),\n",
        "(\"design the best API so far\",\"software\"),\n",
        "(\"they need more electrical wiring\",\"hardware\"),\n",
        "(\"my code has errors\",\"software\"),\n",
        "(\"i found some program test faulty\",\"software\"),\n",
        "(\"i broke the car handle\",\"hardware\"),\n",
        "(\"i tested the user interface code\",\"software\")]\n",
        "\n",
        "test_data = [('he writes programs daily','software'),\n",
        "             ('my disk is broken','hardware'),\n",
        "             (\"program mantainance\",\"software\"),\n",
        "             ('The drive is full','hardware')]"
      ],
      "id": "49f666f0-a568-497f-b298-1edaaa7b222c",
      "execution_count": 7,
      "outputs": []
    },
    {
      "cell_type": "markdown",
      "metadata": {
        "id": "2c6b2733-5f45-404b-a9c7-b3aa8ce2c534"
      },
      "source": [
        "### Text classification\n",
        "+ vectorized the text\n",
        "    - CountVectorizer/ BagOfWords\n",
        "+ Then build the Naive Bayes model"
      ],
      "id": "2c6b2733-5f45-404b-a9c7-b3aa8ce2c534"
    },
    {
      "cell_type": "code",
      "metadata": {
        "id": "2f300d1c-10f9-4151-9112-f0464e6493e5"
      },
      "source": [
        "#  Make a Pipeline\n",
        "from river.compose import Pipeline"
      ],
      "id": "2f300d1c-10f9-4151-9112-f0464e6493e5",
      "execution_count": 8,
      "outputs": []
    },
    {
      "cell_type": "code",
      "metadata": {
        "id": "00a2f540-5551-47fe-ac56-60f01b8ef460"
      },
      "source": [
        "pipe_nb = Pipeline(('vectorizer',BagOfWords(lowercase=True)),('nb',MultinomialNB()))"
      ],
      "id": "00a2f540-5551-47fe-ac56-60f01b8ef460",
      "execution_count": 9,
      "outputs": []
    },
    {
      "cell_type": "code",
      "metadata": {
        "collapsed": true,
        "jupyter": {
          "outputs_hidden": true
        },
        "tags": [],
        "id": "4a17b519-37ca-411f-a97c-b187c9f2bd66",
        "outputId": "5fbbf4bd-d923-4ce1-dc79-e8a064c66c21",
        "colab": {
          "base_uri": "https://localhost:8080/",
          "height": 155
        }
      },
      "source": [
        "### Visualize the Pipeline\n",
        "pipe_nb"
      ],
      "id": "4a17b519-37ca-411f-a97c-b187c9f2bd66",
      "execution_count": 10,
      "outputs": [
        {
          "output_type": "execute_result",
          "data": {
            "text/plain": [
              "Pipeline (\n",
              "  BagOfWords (\n",
              "    on=None\n",
              "    strip_accents=True\n",
              "    lowercase=True\n",
              "    preprocessor=None\n",
              "    stop_words=None\n",
              "    tokenizer_pattern=\"(?u)\\b\\w[\\w\\-]+\\b\"\n",
              "    tokenizer=None\n",
              "    ngram_range=(1, 1)\n",
              "  ),\n",
              "  MultinomialNB (\n",
              "    alpha=1.\n",
              "  )\n",
              ")"
            ],
            "text/html": [
              "<div><div class=\"river-component river-pipeline\"><details class=\"river-component river-estimator\"><summary class=\"river-summary\"><pre class=\"river-estimator-name\">BagOfWords</pre></summary><code class=\"river-estimator-params\">(\n",
              "  on=None\n",
              "  strip_accents=True\n",
              "  lowercase=True\n",
              "  preprocessor=None\n",
              "  stop_words=None\n",
              "  tokenizer_pattern=\"(?u)\\b\\w[\\w\\-]+\\b\"\n",
              "  tokenizer=None\n",
              "  ngram_range=(1, 1)\n",
              ")\n",
              "\n",
              "</code></details><details class=\"river-component river-estimator\"><summary class=\"river-summary\"><pre class=\"river-estimator-name\">MultinomialNB</pre></summary><code class=\"river-estimator-params\">(\n",
              "  alpha=1.\n",
              ")\n",
              "\n",
              "</code></details></div><style scoped>\n",
              ".river-estimator {\n",
              "    padding: 1em;\n",
              "    border-style: solid;\n",
              "    background: white;\n",
              "}\n",
              "\n",
              ".river-pipeline {\n",
              "    display: flex;\n",
              "    flex-direction: column;\n",
              "    align-items: center;\n",
              "    background: linear-gradient(#000, #000) no-repeat center / 3px 100%;\n",
              "}\n",
              "\n",
              ".river-union {\n",
              "    display: flex;\n",
              "    flex-direction: row;\n",
              "    align-items: center;\n",
              "    justify-content: center;\n",
              "    padding: 1em;\n",
              "    border-style: solid;\n",
              "    background: white;\n",
              "}\n",
              "\n",
              ".river-wrapper {\n",
              "    display: flex;\n",
              "    flex-direction: column;\n",
              "    align-items: center;\n",
              "    justify-content: center;\n",
              "    padding: 1em;\n",
              "    border-style: solid;\n",
              "    background: white;\n",
              "}\n",
              "\n",
              ".river-wrapper > .river-estimator {\n",
              "    margin-top: 1em;\n",
              "}\n",
              "\n",
              "/* Vertical spacing between steps */\n",
              "\n",
              ".river-component + .river-component {\n",
              "    margin-top: 2em;\n",
              "}\n",
              "\n",
              ".river-union > .river-estimator {\n",
              "    margin-top: 0;\n",
              "}\n",
              "\n",
              ".river-union > .pipeline {\n",
              "    margin-top: 0;\n",
              "}\n",
              "\n",
              "/* Spacing within a union of estimators */\n",
              "\n",
              ".river-union > .river-component + .river-component {\n",
              "    margin-left: 1em;\n",
              "}\n",
              "\n",
              "/* Typography */\n",
              "\n",
              ".river-estimator-params {\n",
              "    display: block;\n",
              "    white-space: pre-wrap;\n",
              "    font-size: 120%;\n",
              "    margin-bottom: -1em;\n",
              "}\n",
              "\n",
              ".river-estimator > .river-estimator-params,\n",
              ".river-wrapper > .river-details > river-estimator-params {\n",
              "    background-color: white !important;\n",
              "}\n",
              "\n",
              ".river-estimator-name {\n",
              "    display: inline;\n",
              "    margin: 0;\n",
              "    font-size: 130%;\n",
              "}\n",
              "\n",
              "/* Toggle */\n",
              "\n",
              ".river-summary {\n",
              "    display: flex;\n",
              "    align-items:center;\n",
              "    cursor: pointer;\n",
              "}\n",
              "\n",
              ".river-summary > div {\n",
              "    width: 100%;\n",
              "}\n",
              "</style></div>"
            ]
          },
          "metadata": {},
          "execution_count": 10
        }
      ]
    },
    {
      "cell_type": "code",
      "metadata": {
        "jupyter": {
          "outputs_hidden": true
        },
        "tags": [],
        "id": "526c2ef5-7490-44c8-a31e-f5b1c683a26b",
        "outputId": "18c952c9-d262-45f0-c691-93cc0c10c47e",
        "colab": {
          "base_uri": "https://localhost:8080/"
        }
      },
      "source": [
        "# Get steps\n",
        "pipe_nb.steps"
      ],
      "id": "526c2ef5-7490-44c8-a31e-f5b1c683a26b",
      "execution_count": 11,
      "outputs": [
        {
          "output_type": "execute_result",
          "data": {
            "text/plain": [
              "OrderedDict([('vectorizer',\n",
              "              BagOfWords (\n",
              "                on=None\n",
              "                strip_accents=True\n",
              "                lowercase=True\n",
              "                preprocessor=None\n",
              "                stop_words=None\n",
              "                tokenizer_pattern=\"(?u)\\b\\w[\\w\\-]+\\b\"\n",
              "                tokenizer=None\n",
              "                ngram_range=(1, 1)\n",
              "              )),\n",
              "             ('nb',\n",
              "              MultinomialNB (\n",
              "                alpha=1.\n",
              "              ))])"
            ]
          },
          "metadata": {},
          "execution_count": 11
        }
      ]
    },
    {
      "cell_type": "code",
      "metadata": {
        "id": "3f8a8218-4786-4edc-88b4-346de5b59cb0"
      },
      "source": [
        "# Fit on our data\n",
        "# Learn one at a time\n",
        "# predict_one\n",
        "\n",
        "for text,label in data:\n",
        "#     print(label)\n",
        "    pipe_nb = pipe_nb.learn_one(text,label)"
      ],
      "id": "3f8a8218-4786-4edc-88b4-346de5b59cb0",
      "execution_count": 12,
      "outputs": []
    },
    {
      "cell_type": "code",
      "metadata": {
        "collapsed": true,
        "jupyter": {
          "outputs_hidden": true
        },
        "tags": [],
        "id": "d777bd0f-acc2-4b40-b9cb-5102a53c8d87",
        "outputId": "931bf656-f052-4f1b-8dac-851b3a0315fc",
        "colab": {
          "base_uri": "https://localhost:8080/",
          "height": 155
        }
      },
      "source": [
        "pipe_nb"
      ],
      "id": "d777bd0f-acc2-4b40-b9cb-5102a53c8d87",
      "execution_count": 13,
      "outputs": [
        {
          "output_type": "execute_result",
          "data": {
            "text/plain": [
              "Pipeline (\n",
              "  BagOfWords (\n",
              "    on=None\n",
              "    strip_accents=True\n",
              "    lowercase=True\n",
              "    preprocessor=None\n",
              "    stop_words=None\n",
              "    tokenizer_pattern=\"(?u)\\b\\w[\\w\\-]+\\b\"\n",
              "    tokenizer=None\n",
              "    ngram_range=(1, 1)\n",
              "  ),\n",
              "  MultinomialNB (\n",
              "    alpha=1.\n",
              "  )\n",
              ")"
            ],
            "text/html": [
              "<div><div class=\"river-component river-pipeline\"><details class=\"river-component river-estimator\"><summary class=\"river-summary\"><pre class=\"river-estimator-name\">BagOfWords</pre></summary><code class=\"river-estimator-params\">(\n",
              "  on=None\n",
              "  strip_accents=True\n",
              "  lowercase=True\n",
              "  preprocessor=None\n",
              "  stop_words=None\n",
              "  tokenizer_pattern=\"(?u)\\b\\w[\\w\\-]+\\b\"\n",
              "  tokenizer=None\n",
              "  ngram_range=(1, 1)\n",
              ")\n",
              "\n",
              "</code></details><details class=\"river-component river-estimator\"><summary class=\"river-summary\"><pre class=\"river-estimator-name\">MultinomialNB</pre></summary><code class=\"river-estimator-params\">(\n",
              "  alpha=1.\n",
              ")\n",
              "\n",
              "</code></details></div><style scoped>\n",
              ".river-estimator {\n",
              "    padding: 1em;\n",
              "    border-style: solid;\n",
              "    background: white;\n",
              "}\n",
              "\n",
              ".river-pipeline {\n",
              "    display: flex;\n",
              "    flex-direction: column;\n",
              "    align-items: center;\n",
              "    background: linear-gradient(#000, #000) no-repeat center / 3px 100%;\n",
              "}\n",
              "\n",
              ".river-union {\n",
              "    display: flex;\n",
              "    flex-direction: row;\n",
              "    align-items: center;\n",
              "    justify-content: center;\n",
              "    padding: 1em;\n",
              "    border-style: solid;\n",
              "    background: white;\n",
              "}\n",
              "\n",
              ".river-wrapper {\n",
              "    display: flex;\n",
              "    flex-direction: column;\n",
              "    align-items: center;\n",
              "    justify-content: center;\n",
              "    padding: 1em;\n",
              "    border-style: solid;\n",
              "    background: white;\n",
              "}\n",
              "\n",
              ".river-wrapper > .river-estimator {\n",
              "    margin-top: 1em;\n",
              "}\n",
              "\n",
              "/* Vertical spacing between steps */\n",
              "\n",
              ".river-component + .river-component {\n",
              "    margin-top: 2em;\n",
              "}\n",
              "\n",
              ".river-union > .river-estimator {\n",
              "    margin-top: 0;\n",
              "}\n",
              "\n",
              ".river-union > .pipeline {\n",
              "    margin-top: 0;\n",
              "}\n",
              "\n",
              "/* Spacing within a union of estimators */\n",
              "\n",
              ".river-union > .river-component + .river-component {\n",
              "    margin-left: 1em;\n",
              "}\n",
              "\n",
              "/* Typography */\n",
              "\n",
              ".river-estimator-params {\n",
              "    display: block;\n",
              "    white-space: pre-wrap;\n",
              "    font-size: 120%;\n",
              "    margin-bottom: -1em;\n",
              "}\n",
              "\n",
              ".river-estimator > .river-estimator-params,\n",
              ".river-wrapper > .river-details > river-estimator-params {\n",
              "    background-color: white !important;\n",
              "}\n",
              "\n",
              ".river-estimator-name {\n",
              "    display: inline;\n",
              "    margin: 0;\n",
              "    font-size: 130%;\n",
              "}\n",
              "\n",
              "/* Toggle */\n",
              "\n",
              ".river-summary {\n",
              "    display: flex;\n",
              "    align-items:center;\n",
              "    cursor: pointer;\n",
              "}\n",
              "\n",
              ".river-summary > div {\n",
              "    width: 100%;\n",
              "}\n",
              "</style></div>"
            ]
          },
          "metadata": {},
          "execution_count": 13
        }
      ]
    },
    {
      "cell_type": "code",
      "metadata": {
        "id": "aa115b6f-2f6c-4e17-a251-d4d7412b17c1",
        "outputId": "2d954079-4cce-484c-a34e-06e62e13cf88",
        "colab": {
          "base_uri": "https://localhost:8080/",
          "height": 35
        }
      },
      "source": [
        "# Make Prediction\n",
        "pipe_nb.predict_one(\"I built an API\")"
      ],
      "id": "aa115b6f-2f6c-4e17-a251-d4d7412b17c1",
      "execution_count": 14,
      "outputs": [
        {
          "output_type": "execute_result",
          "data": {
            "text/plain": [
              "'software'"
            ],
            "application/vnd.google.colaboratory.intrinsic+json": {
              "type": "string"
            }
          },
          "metadata": {},
          "execution_count": 14
        }
      ]
    },
    {
      "cell_type": "code",
      "metadata": {
        "id": "25a6d2e3-93db-4e6b-bab2-4fc1a240b26a",
        "outputId": "71c6f759-1cfa-462d-9527-9df25f3b7065",
        "colab": {
          "base_uri": "https://localhost:8080/"
        }
      },
      "source": [
        "# Make Prediction\n",
        "pipe_nb.predict_proba_one(\"I built an API\")"
      ],
      "id": "25a6d2e3-93db-4e6b-bab2-4fc1a240b26a",
      "execution_count": 15,
      "outputs": [
        {
          "output_type": "execute_result",
          "data": {
            "text/plain": [
              "{'software': 0.6286935444447462, 'hardware': 0.37130645555525305}"
            ]
          },
          "metadata": {},
          "execution_count": 15
        }
      ]
    },
    {
      "cell_type": "code",
      "metadata": {
        "id": "8036d962-b32b-4efa-b546-1c6a6e9a892b",
        "outputId": "17209000-9f49-4710-ae26-b78a8bc6bac2",
        "colab": {
          "base_uri": "https://localhost:8080/",
          "height": 35
        }
      },
      "source": [
        "# Other \n",
        "pipe_nb.predict_one(\"the hard drive  in the computer is damaged\")"
      ],
      "id": "8036d962-b32b-4efa-b546-1c6a6e9a892b",
      "execution_count": 16,
      "outputs": [
        {
          "output_type": "execute_result",
          "data": {
            "text/plain": [
              "'hardware'"
            ],
            "application/vnd.google.colaboratory.intrinsic+json": {
              "type": "string"
            }
          },
          "metadata": {},
          "execution_count": 16
        }
      ]
    },
    {
      "cell_type": "code",
      "source": [
        "pipe_nb.predict_proba_one(\"the hard drive  in the computer is damaged\")"
      ],
      "metadata": {
        "id": "usq3SIlA6a4f",
        "outputId": "d008dde3-296f-4a3a-a21c-c9158d2997e0",
        "colab": {
          "base_uri": "https://localhost:8080/"
        }
      },
      "id": "usq3SIlA6a4f",
      "execution_count": 17,
      "outputs": [
        {
          "output_type": "execute_result",
          "data": {
            "text/plain": [
              "{'software': 0.05093100668206932, 'hardware': 0.9490689933179305}"
            ]
          },
          "metadata": {},
          "execution_count": 17
        }
      ]
    },
    {
      "cell_type": "code",
      "metadata": {
        "id": "0df51b10-a7e2-4086-ab42-b83626df57b6",
        "outputId": "8eda61b6-ed7d-40a8-e781-631a14294957",
        "colab": {
          "base_uri": "https://localhost:8080/"
        }
      },
      "source": [
        "# Update the Model on the test data & Check Accuracy\n",
        "from river.metrics.accuracy import Accuracy\n",
        "metric = Accuracy()\n",
        "print(\"1.\",metric)\n",
        "for text,label in test_data:\n",
        "#     print(label)\n",
        "    y_pred_before = pipe_nb.predict_one(text)\n",
        "    print(\"y_pred_before\",y_pred_before)\n",
        "    metric = metric.update(label,y_pred_before)\n",
        "    print(\"2.\", metric)\n",
        "    # Has already learnt the pattern\n",
        "    pipe_nb = pipe_nb.learn_one(text,label)\n",
        "    "
      ],
      "id": "0df51b10-a7e2-4086-ab42-b83626df57b6",
      "execution_count": 18,
      "outputs": [
        {
          "output_type": "stream",
          "name": "stdout",
          "text": [
            "1. Accuracy: 0.00%\n",
            "y_pred_before hardware\n",
            "2. Accuracy: 0.00%\n",
            "y_pred_before hardware\n",
            "2. Accuracy: 50.00%\n",
            "y_pred_before software\n",
            "2. Accuracy: 66.67%\n",
            "y_pred_before hardware\n",
            "2. Accuracy: 75.00%\n"
          ]
        }
      ]
    },
    {
      "cell_type": "code",
      "metadata": {
        "id": "fc913bf0-9906-45d5-a265-60d048af4969",
        "outputId": "e95d65ca-1731-456e-cc34-eb92547e8b11",
        "colab": {
          "base_uri": "https://localhost:8080/"
        }
      },
      "source": [
        "metric"
      ],
      "id": "fc913bf0-9906-45d5-a265-60d048af4969",
      "execution_count": 19,
      "outputs": [
        {
          "output_type": "execute_result",
          "data": {
            "text/plain": [
              "Accuracy: 75.00%"
            ]
          },
          "metadata": {},
          "execution_count": 19
        }
      ]
    }
  ]
}