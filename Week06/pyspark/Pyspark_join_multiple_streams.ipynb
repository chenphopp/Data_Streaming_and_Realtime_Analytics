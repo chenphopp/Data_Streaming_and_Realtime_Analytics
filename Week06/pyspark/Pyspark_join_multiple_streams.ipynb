{
  "nbformat": 4,
  "nbformat_minor": 0,
  "metadata": {
    "colab": {
      "provenance": [],
      "include_colab_link": true
    },
    "kernelspec": {
      "name": "python3",
      "display_name": "Python 3"
    },
    "language_info": {
      "name": "python"
    }
  },
  "cells": [
    {
      "cell_type": "markdown",
      "metadata": {
        "id": "view-in-github",
        "colab_type": "text"
      },
      "source": [
        "<a href=\"https://colab.research.google.com/github/ekaratnida/Data_Streaming_and_Realtime_Analytics/blob/main/Week06/pyspark/Pyspark_join_multiple_streams.ipynb\" target=\"_parent\"><img src=\"https://colab.research.google.com/assets/colab-badge.svg\" alt=\"Open In Colab\"/></a>"
      ]
    },
    {
      "cell_type": "code",
      "execution_count": null,
      "metadata": {
        "id": "FxRUnxF4PBdy"
      },
      "outputs": [],
      "source": [
        "!apt-get install openjdk-8-jdk-headless -qq > /dev/null\n",
        "!wget https://mirrors.estointernet.in/apache/spark/spark-2.4.8/spark-2.4.8-bin-hadoop2.7.tgz\n",
        "!tar -xvf spark-2.4.8-bin-hadoop2.7.tgz\n",
        "!pip install findspark"
      ]
    },
    {
      "cell_type": "code",
      "source": [
        "!wget \"https://repo1.maven.org/maven2/org/apache/spark/spark-streaming-kafka-0-8-assembly_2.11/2.4.8/spark-streaming-kafka-0-8-assembly_2.11-2.4.8.jar\""
      ],
      "metadata": {
        "colab": {
          "base_uri": "https://localhost:8080/"
        },
        "id": "ysUW0BrpPyQR",
        "outputId": "ed666e10-3afb-45a7-fed4-a0fd2e17a40c"
      },
      "execution_count": 3,
      "outputs": [
        {
          "output_type": "stream",
          "name": "stdout",
          "text": [
            "--2022-10-23 14:12:20--  https://repo1.maven.org/maven2/org/apache/spark/spark-streaming-kafka-0-8-assembly_2.11/2.4.8/spark-streaming-kafka-0-8-assembly_2.11-2.4.8.jar\n",
            "Resolving repo1.maven.org (repo1.maven.org)... 199.232.192.209, 199.232.196.209\n",
            "Connecting to repo1.maven.org (repo1.maven.org)|199.232.192.209|:443... connected.\n",
            "HTTP request sent, awaiting response... 200 OK\n",
            "Length: 12002039 (11M) [application/java-archive]\n",
            "Saving to: ‘spark-streaming-kafka-0-8-assembly_2.11-2.4.8.jar.1’\n",
            "\n",
            "\r          spark-str   0%[                    ]       0  --.-KB/s               \rspark-streaming-kaf 100%[===================>]  11.45M  --.-KB/s    in 0.07s   \n",
            "\n",
            "2022-10-23 14:12:20 (164 MB/s) - ‘spark-streaming-kafka-0-8-assembly_2.11-2.4.8.jar.1’ saved [12002039/12002039]\n",
            "\n"
          ]
        }
      ]
    },
    {
      "cell_type": "code",
      "source": [
        "import os\n",
        "os.environ[\"JAVA_HOME\"] = \"/usr/lib/jvm/java-8-openjdk-amd64\"\n",
        "os.environ[\"SPARK_HOME\"] = \"/content/spark-2.4.8-bin-hadoop2.7\"\n",
        "os.environ['PYSPARK_SUBMIT_ARGS'] = '--jars /content/spark-streaming-kafka-0-8-assembly_2.11-2.4.8.jar pyspark-shell'"
      ],
      "metadata": {
        "id": "m2ph4QQcQDTp"
      },
      "execution_count": 4,
      "outputs": []
    },
    {
      "cell_type": "code",
      "source": [
        "import findspark\n",
        "findspark.init()\n",
        "from pyspark.sql import SparkSession\n",
        "from pyspark.sql.functions import *\n",
        "from pyspark.ml.feature import Normalizer, StandardScaler\n",
        "import pyspark\n",
        "from pyspark import SparkContext, SparkConf\n",
        "from pyspark.streaming import StreamingContext\n",
        "from pyspark.streaming.kafka import KafkaUtils"
      ],
      "metadata": {
        "id": "9C4yFGwjQKvZ"
      },
      "execution_count": 77,
      "outputs": []
    },
    {
      "cell_type": "code",
      "source": [
        "kafka_topic_name = \"my-first-topic\"\n",
        "kafka_topic_name2 = \"my-first-topic2\"\n",
        "kafka_bootstrap_servers = 'ec2-13-229-46-113.ap-southeast-1.compute.amazonaws.com:9092'"
      ],
      "metadata": {
        "id": "NkOsjPVjQOZx"
      },
      "execution_count": 78,
      "outputs": []
    },
    {
      "cell_type": "code",
      "source": [
        "sc = pyspark.SparkContext()\n",
        "ssc = StreamingContext(sc,2) # Show results every 2 seconds\n",
        "\n",
        "kvs1 = KafkaUtils.createDirectStream(ssc, \n",
        "                                    [kafka_topic_name], \n",
        "                                    {\n",
        "                        'bootstrap.servers':kafka_bootstrap_servers,\n",
        "                        'group.id':'test-group',\n",
        "                        'auto.offset.reset':'smallest'\n",
        "                        })\n",
        "\n",
        "kvs2 = KafkaUtils.createDirectStream(ssc, \n",
        "                                    [kafka_topic_name2], \n",
        "                                    {\n",
        "                        'bootstrap.servers':kafka_bootstrap_servers,\n",
        "                        'group.id':'test-group',\n",
        "                        'auto.offset.reset':'smallest'\n",
        "                        })\n",
        "\n",
        "#pairs = lines.map(lambda x: (x.split(\" \")[0], x))\n",
        "\n",
        "kvs1.pprint()\n",
        "k1 = kvs1.map(lambda x:x[1]).flatMap(lambda x: x.split(\",\")).map(lambda x: (x.split(\":\")[0],x.split(\":\")[1]))\n",
        "k1.pprint(30)\n",
        "\n",
        "k2 = kvs2.map(lambda x:x[1]).flatMap(lambda x: x.split(\",\")).map(lambda x: (x.split(\":\")[0],x.split(\":\")[1]))\n",
        "k2.pprint(30)\n",
        "\n",
        "k1.fullOuterJoin(k2).pprint(30)\n",
        "\n",
        "#wc = kvs2.map(lambda x: x[1]).flatMap(lambda line: line.split(' ')).map(lambda word: (word, 1)).reduceByKey(lambda a, b: a+b)\n",
        "#wc.pprint()\n",
        "#kvs3 = wc.join(kvs1)\n",
        "#kvs3.pprint()\n",
        "'''kvs2 = KafkaUtils.createDirectStream(ssc, \n",
        "                                    [kafka_topic_name2], \n",
        "                                    {\n",
        "                        'bootstrap.servers':kafka_bootstrap_servers,\n",
        "                        'group.id':'test-group1',\n",
        "                        'auto.offset.reset':'smallest'\n",
        "                        })\n",
        "\n",
        "kvs2.pprint()'''\n",
        "\n",
        "'''step0 = kvs.map(lambda x: x[1])\n",
        "#print(\"step0\") # print once\n",
        "step0.pprint()\n",
        "step1 = step0.flatMap(lambda line: line.split(' '))\n",
        "step1.pprint()\n",
        "step2 = step1.map(lambda word: (word, 1))\n",
        "step2.pprint()\n",
        "step3 = step2.reduceByKey(lambda a, b: a+b) #.filter(lambda y: y[1]>5)\n",
        "step3.pprint()'''\n",
        "\n",
        "ssc.start()\n",
        "ssc.awaitTerminationOrTimeout(5)\n",
        "ssc.stop()\n",
        "sc.stop()"
      ],
      "metadata": {
        "colab": {
          "base_uri": "https://localhost:8080/"
        },
        "id": "gNy0brrZQTcy",
        "outputId": "db63d734-c09d-4168-fe2a-f2917038a4b5"
      },
      "execution_count": 142,
      "outputs": [
        {
          "output_type": "stream",
          "name": "stdout",
          "text": [
            "-------------------------------------------\n",
            "Time: 2022-10-23 15:44:54\n",
            "-------------------------------------------\n",
            "('a4066d11-4de2-459c-843d-a6133f464837', ' name:Gal, salary:20000 ')\n",
            "('f6403d54-a6d1-4219-9cc4-a4d488510a51', ' name:Pok, salary:25000 ')\n",
            "('c7d9eae6-d873-4d8f-8cf2-4716dc6fbc22', ' name:Vyy, salary:30000 ')\n",
            "\n",
            "-------------------------------------------\n",
            "Time: 2022-10-23 15:44:54\n",
            "-------------------------------------------\n",
            "(' name', 'Gal')\n",
            "(' salary', '20000 ')\n",
            "(' name', 'Pok')\n",
            "(' salary', '25000 ')\n",
            "(' name', 'Vyy')\n",
            "(' salary', '30000 ')\n",
            "\n",
            "-------------------------------------------\n",
            "Time: 2022-10-23 15:44:54\n",
            "-------------------------------------------\n",
            "(' name', 'Gal')\n",
            "(' age', '20 ')\n",
            "(' name', 'Pok')\n",
            "(' age', '25 ')\n",
            "(' name', 'Vyy')\n",
            "(' age', '30 ')\n",
            "\n",
            "-------------------------------------------\n",
            "Time: 2022-10-23 15:44:54\n",
            "-------------------------------------------\n",
            "(' name', ('Gal', 'Gal'))\n",
            "(' name', ('Gal', 'Pok'))\n",
            "(' name', ('Gal', 'Vyy'))\n",
            "(' name', ('Pok', 'Gal'))\n",
            "(' name', ('Pok', 'Pok'))\n",
            "(' name', ('Pok', 'Vyy'))\n",
            "(' name', ('Vyy', 'Gal'))\n",
            "(' name', ('Vyy', 'Pok'))\n",
            "(' name', ('Vyy', 'Vyy'))\n",
            "(' salary', ('20000 ', None))\n",
            "(' salary', ('25000 ', None))\n",
            "(' salary', ('30000 ', None))\n",
            "(' age', (None, '20 '))\n",
            "(' age', (None, '25 '))\n",
            "(' age', (None, '30 '))\n",
            "\n",
            "-------------------------------------------\n",
            "Time: 2022-10-23 15:44:56\n",
            "-------------------------------------------\n",
            "\n",
            "-------------------------------------------\n",
            "Time: 2022-10-23 15:44:56\n",
            "-------------------------------------------\n",
            "\n",
            "-------------------------------------------\n",
            "Time: 2022-10-23 15:44:56\n",
            "-------------------------------------------\n",
            "\n",
            "-------------------------------------------\n",
            "Time: 2022-10-23 15:44:56\n",
            "-------------------------------------------\n",
            "\n",
            "-------------------------------------------\n",
            "Time: 2022-10-23 15:44:58\n",
            "-------------------------------------------\n",
            "\n",
            "-------------------------------------------\n",
            "Time: 2022-10-23 15:44:58\n",
            "-------------------------------------------\n",
            "\n",
            "-------------------------------------------\n",
            "Time: 2022-10-23 15:44:58\n",
            "-------------------------------------------\n",
            "\n",
            "-------------------------------------------\n",
            "Time: 2022-10-23 15:44:58\n",
            "-------------------------------------------\n",
            "\n"
          ]
        }
      ]
    },
    {
      "cell_type": "code",
      "source": [
        "ssc.stop()\n",
        "sc.stop()"
      ],
      "metadata": {
        "id": "Uji_LW23QVp5"
      },
      "execution_count": 138,
      "outputs": []
    }
  ]
}