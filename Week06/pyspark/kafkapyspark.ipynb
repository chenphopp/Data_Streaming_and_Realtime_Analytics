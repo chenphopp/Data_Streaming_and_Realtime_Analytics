{
  "cells": [
    {
      "cell_type": "markdown",
      "metadata": {
        "id": "view-in-github",
        "colab_type": "text"
      },
      "source": [
        "<a href=\"https://colab.research.google.com/github/ekaratnida/Data_Streaming_and_Realtime_Analytics/blob/main/Week06/pyspark/kafkapyspark.ipynb\" target=\"_parent\"><img src=\"https://colab.research.google.com/assets/colab-badge.svg\" alt=\"Open In Colab\"/></a>"
      ]
    },
    {
      "cell_type": "code",
      "execution_count": null,
      "id": "f03d6216-6f3a-4124-b0b5-4fed4dbef2b9",
      "metadata": {
        "id": "f03d6216-6f3a-4124-b0b5-4fed4dbef2b9"
      },
      "outputs": [],
      "source": [
        "%%capture\n",
        "!wget \"https://repo1.maven.org/maven2/org/apache/spark/spark-sql-kafka-0-10_2.12/3.3.1/spark-sql-kafka-0-10_2.12-3.3.1.jar\"\n",
        "!wget \"https://repo1.maven.org/maven2/org/apache/spark/spark-streaming-kafka-0-10_2.12/3.1.3/spark-streaming-kafka-0-10_2.12-3.1.3.jar\""
      ]
    },
    {
      "cell_type": "code",
      "execution_count": null,
      "id": "7b509087-1c09-4cca-b4bd-7c792a068288",
      "metadata": {
        "id": "7b509087-1c09-4cca-b4bd-7c792a068288"
      },
      "outputs": [],
      "source": [
        "import os\n",
        "os.environ['PYSPARK_SUBMIT_ARGS'] = '--packages org.apache.spark:spark-streaming-kafka-0-10_2.12:3.1.3,org.apache.spark:spark-sql-kafka-0-10_2.12:3.3.1 pyspark-shell'"
      ]
    },
    {
      "cell_type": "code",
      "execution_count": null,
      "id": "a3eb2552-ca9d-4d96-a0e1-615f62da6453",
      "metadata": {
        "id": "a3eb2552-ca9d-4d96-a0e1-615f62da6453"
      },
      "outputs": [],
      "source": [
        "from pyspark.sql import SparkSession\n",
        "from pyspark.sql.functions import *\n",
        "from pyspark.sql.types import *"
      ]
    },
    {
      "cell_type": "code",
      "execution_count": null,
      "id": "6fecb656-9dcc-4110-b10e-cce4006c1d1c",
      "metadata": {
        "id": "6fecb656-9dcc-4110-b10e-cce4006c1d1c"
      },
      "outputs": [],
      "source": [
        "spark = SparkSession.builder.appName(\"readFromKafka\").master(\"local\").getOrCreate()\n",
        "\n",
        "df = spark \\\n",
        "  .readStream \\\n",
        "  .format(\"kafka\") \\\n",
        "  .option(\"kafka.bootstrap.servers\", \"10.10.34.94:8087\") \\\n",
        "  .option(\"subscribe\", \"nida\") \\\n",
        "  .option(\"startingOffsets\", \"earliest\") \\\n",
        "  .load()\n"
      ]
    },
    {
      "cell_type": "code",
      "execution_count": null,
      "id": "f45a3063-a3e1-4a18-8d93-fdc94d197da1",
      "metadata": {
        "id": "f45a3063-a3e1-4a18-8d93-fdc94d197da1",
        "outputId": "f67e3604-9ed7-40d7-aa2b-a9b22bb7a2b6"
      },
      "outputs": [
        {
          "data": {
            "text/plain": [
              "DataFrame[key: binary, value: binary, topic: string, partition: int, offset: bigint, timestamp: timestamp, timestampType: int]"
            ]
          },
          "execution_count": 9,
          "metadata": {},
          "output_type": "execute_result"
        }
      ],
      "source": [
        "df"
      ]
    },
    {
      "cell_type": "code",
      "execution_count": null,
      "id": "e2264556-528f-4f16-9b75-77979766163f",
      "metadata": {
        "id": "e2264556-528f-4f16-9b75-77979766163f"
      },
      "outputs": [],
      "source": []
    }
  ],
  "metadata": {
    "kernelspec": {
      "display_name": "Python 3 (ipykernel)",
      "language": "python",
      "name": "python3"
    },
    "language_info": {
      "codemirror_mode": {
        "name": "ipython",
        "version": 3
      },
      "file_extension": ".py",
      "mimetype": "text/x-python",
      "name": "python",
      "nbconvert_exporter": "python",
      "pygments_lexer": "ipython3",
      "version": "3.11.5"
    },
    "colab": {
      "provenance": [],
      "include_colab_link": true
    }
  },
  "nbformat": 4,
  "nbformat_minor": 5
}