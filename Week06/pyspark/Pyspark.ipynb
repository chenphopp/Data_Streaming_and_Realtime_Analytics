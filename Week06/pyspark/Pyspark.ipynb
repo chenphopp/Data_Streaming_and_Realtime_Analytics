{
  "nbformat": 4,
  "nbformat_minor": 0,
  "metadata": {
    "colab": {
      "provenance": [],
      "include_colab_link": true
    },
    "kernelspec": {
      "name": "python3",
      "display_name": "Python 3"
    },
    "language_info": {
      "name": "python"
    }
  },
  "cells": [
    {
      "cell_type": "markdown",
      "metadata": {
        "id": "view-in-github",
        "colab_type": "text"
      },
      "source": [
        "<a href=\"https://colab.research.google.com/github/ekaratnida/Data_Streaming_and_Realtime_Analytics/blob/main/Week06/pyspark/Pyspark.ipynb\" target=\"_parent\"><img src=\"https://colab.research.google.com/assets/colab-badge.svg\" alt=\"Open In Colab\"/></a>"
      ]
    },
    {
      "cell_type": "code",
      "execution_count": null,
      "metadata": {
        "id": "FxRUnxF4PBdy"
      },
      "outputs": [],
      "source": [
        "!apt-get install openjdk-8-jdk-headless -qq > /dev/null\n",
        "!wget https://mirrors.estointernet.in/apache/spark/spark-2.4.8/spark-2.4.8-bin-hadoop2.7.tgz\n",
        "!tar -xvf spark-2.4.8-bin-hadoop2.7.tgz\n",
        "!pip install findspark"
      ]
    },
    {
      "cell_type": "code",
      "source": [
        "!wget \"https://repo1.maven.org/maven2/org/apache/spark/spark-streaming-kafka-0-8-assembly_2.11/2.4.8/spark-streaming-kafka-0-8-assembly_2.11-2.4.8.jar\""
      ],
      "metadata": {
        "colab": {
          "base_uri": "https://localhost:8080/"
        },
        "id": "ysUW0BrpPyQR",
        "outputId": "4f8a408f-0359-4cbc-8bde-f328260ebef0"
      },
      "execution_count": null,
      "outputs": [
        {
          "output_type": "stream",
          "name": "stdout",
          "text": [
            "--2022-10-21 06:13:15--  https://repo1.maven.org/maven2/org/apache/spark/spark-streaming-kafka-0-8-assembly_2.11/2.4.8/spark-streaming-kafka-0-8-assembly_2.11-2.4.8.jar\n",
            "Resolving repo1.maven.org (repo1.maven.org)... 199.232.192.209, 199.232.196.209\n",
            "Connecting to repo1.maven.org (repo1.maven.org)|199.232.192.209|:443... connected.\n",
            "HTTP request sent, awaiting response... 200 OK\n",
            "Length: 12002039 (11M) [application/java-archive]\n",
            "Saving to: ‘spark-streaming-kafka-0-8-assembly_2.11-2.4.8.jar.6’\n",
            "\n",
            "\r          spark-str   0%[                    ]       0  --.-KB/s               \rspark-streaming-kaf 100%[===================>]  11.45M  --.-KB/s    in 0.04s   \n",
            "\n",
            "2022-10-21 06:13:15 (258 MB/s) - ‘spark-streaming-kafka-0-8-assembly_2.11-2.4.8.jar.6’ saved [12002039/12002039]\n",
            "\n"
          ]
        }
      ]
    },
    {
      "cell_type": "code",
      "source": [
        "import os\n",
        "os.environ[\"JAVA_HOME\"] = \"/usr/lib/jvm/java-8-openjdk-amd64\"\n",
        "os.environ[\"SPARK_HOME\"] = \"/content/spark-2.4.8-bin-hadoop2.7\"\n",
        "os.environ['PYSPARK_SUBMIT_ARGS'] = '--jars /content/spark-streaming-kafka-0-8-assembly_2.11-2.4.8.jar pyspark-shell'"
      ],
      "metadata": {
        "id": "m2ph4QQcQDTp"
      },
      "execution_count": null,
      "outputs": []
    },
    {
      "cell_type": "code",
      "source": [
        "import findspark\n",
        "findspark.init()\n",
        "from pyspark.sql import SparkSession\n",
        "from pyspark.sql.functions import *\n",
        "from pyspark.ml.feature import Normalizer, StandardScaler\n",
        "import pyspark\n",
        "from pyspark import SparkContext, SparkConf\n",
        "from pyspark.streaming import StreamingContext\n",
        "from pyspark.streaming.kafka import KafkaUtils"
      ],
      "metadata": {
        "id": "9C4yFGwjQKvZ"
      },
      "execution_count": null,
      "outputs": []
    },
    {
      "cell_type": "code",
      "source": [
        "kafka_topic_name = \"my-first-topic\"\n",
        "kafka_bootstrap_servers = 'ec2-13-229-46-113.ap-southeast-1.compute.amazonaws.com:9092'"
      ],
      "metadata": {
        "id": "NkOsjPVjQOZx"
      },
      "execution_count": null,
      "outputs": []
    },
    {
      "cell_type": "code",
      "source": [
        "sc = pyspark.SparkContext()\n",
        "ssc = StreamingContext(sc,5) # Show results every 5 seconds"
      ],
      "metadata": {
        "id": "CKQ_jaJMpOMu"
      },
      "execution_count": null,
      "outputs": []
    },
    {
      "cell_type": "code",
      "source": [
        "kvs = KafkaUtils.createDirectStream(ssc, \n",
        "                                    [kafka_topic_name], \n",
        "                                    {\n",
        "                        'bootstrap.servers':kafka_bootstrap_servers,\n",
        "                        'group.id':'test-group',\n",
        "                        'auto.offset.reset':'smallest'\n",
        "                        })\n",
        "wc = kvs.map(lambda x: x[1]).flatMap(lambda line: line.split(' ')).map(lambda word: (word, 1)).reduceByKey(lambda a, b: a+b)\n",
        "wc.pprint()\n",
        "\n",
        "'''step0 = kvs.map(lambda x: x[1])\n",
        "#print(\"step0\") # print once\n",
        "step0.pprint()\n",
        "step1 = step0.flatMap(lambda line: line.split(' '))\n",
        "step1.pprint()\n",
        "step2 = step1.map(lambda word: (word, 1))\n",
        "step2.pprint()\n",
        "step3 = step2.reduceByKey(lambda a, b: a+b) #.filter(lambda y: y[1]>5)\n",
        "step3.pprint()'''\n",
        "\n",
        "ssc.start()\n",
        "ssc.awaitTerminationOrTimeout(100)"
      ],
      "metadata": {
        "id": "gNy0brrZQTcy"
      },
      "execution_count": null,
      "outputs": []
    },
    {
      "cell_type": "code",
      "source": [
        "ssc.stop()\n",
        "sc.stop()"
      ],
      "metadata": {
        "id": "Uji_LW23QVp5"
      },
      "execution_count": null,
      "outputs": []
    }
  ]
}