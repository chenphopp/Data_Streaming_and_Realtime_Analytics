{
  "nbformat": 4,
  "nbformat_minor": 0,
  "metadata": {
    "colab": {
      "provenance": [],
      "include_colab_link": true
    },
    "kernelspec": {
      "name": "python3",
      "display_name": "Python 3"
    },
    "language_info": {
      "name": "python"
    }
  },
  "cells": [
    {
      "cell_type": "markdown",
      "metadata": {
        "id": "view-in-github",
        "colab_type": "text"
      },
      "source": [
        "<a href=\"https://colab.research.google.com/github/ekaratnida/Data_Streaming_and_Realtime_Analytics/blob/main/Week06/pyspark/Pyspark_queueStream_Streaming.ipynb\" target=\"_parent\"><img src=\"https://colab.research.google.com/assets/colab-badge.svg\" alt=\"Open In Colab\"/></a>"
      ]
    },
    {
      "cell_type": "code",
      "execution_count": null,
      "metadata": {
        "id": "FxRUnxF4PBdy"
      },
      "outputs": [],
      "source": [
        "!apt-get install openjdk-8-jdk-headless -qq > /dev/null\n",
        "!wget https://mirrors.estointernet.in/apache/spark/spark-2.4.8/spark-2.4.8-bin-hadoop2.7.tgz\n",
        "!tar -xvf spark-2.4.8-bin-hadoop2.7.tgz\n",
        "!pip install findspark"
      ]
    },
    {
      "cell_type": "code",
      "source": [
        "import os\n",
        "os.environ[\"JAVA_HOME\"] = \"/usr/lib/jvm/java-8-openjdk-amd64\"\n",
        "os.environ[\"SPARK_HOME\"] = \"/content/spark-2.4.8-bin-hadoop2.7\""
      ],
      "metadata": {
        "id": "m2ph4QQcQDTp"
      },
      "execution_count": 2,
      "outputs": []
    },
    {
      "cell_type": "code",
      "source": [
        "import findspark\n",
        "findspark.init()\n",
        "import pyspark\n",
        "from pyspark.streaming import StreamingContext\n",
        "from time import sleep\n",
        "#from pyspark.streaming.kafka import KafkaUtils"
      ],
      "metadata": {
        "id": "9C4yFGwjQKvZ"
      },
      "execution_count": 3,
      "outputs": []
    },
    {
      "cell_type": "code",
      "source": [
        "sc = pyspark.SparkContext()\n",
        "ssc = StreamingContext(sc,2) # Show results every 2 seconds\n",
        "\n",
        "rddQueue1 = [ssc.sparkContext.parallelize([(\"id\",1),(\"name\",\"ekarat\"),(\"id\",2),(\"name\",\"rattagan\")])]\n",
        "rddQueue2 = [ssc.sparkContext.parallelize([(\"id\",2),(\"age\",30),(\"id\",3),(\"age\",35)])]\n",
        "inputStream1 = ssc.queueStream(rddQueue1)\n",
        "inputStream2 = ssc.queueStream(rddQueue2)\n",
        "\n",
        "'''\n",
        "#Example 1 reduceByKey\n",
        "reducedStream = inputStream1.reduceByKey(lambda a, b: a + b)\n",
        "reducedStream.pprint()\n",
        "'''\n",
        "\n",
        "''' \n",
        "#Example 2 join\n",
        "# leftOuterJoin\n",
        "# rightOuterJoin\n",
        "# fullOuterJoin\n",
        "inputStream1.rightOuterJoin(inputStream2).pprint()\n",
        "'''\n",
        "\n",
        "#'''\n",
        "#Example 3 union\n",
        "#inputStream1.union(inputStream2).pprint()\n",
        "#'''\n",
        "\n",
        "#'''\n",
        "#Example 4 groupByKey\n",
        "x1 = inputStream1.groupByKey().map(lambda x : (x[0], list(x[1])))\n",
        "x1.pprint()\n",
        "x2 = inputStream2.groupByKey().map(lambda x : (x[0], list(x[1])))\n",
        "x2.pprint()\n",
        "x1.join(x2).pprint()\n",
        "\n",
        "#'''\n",
        "\n",
        "ssc.start()             # Start the computation\n",
        "ssc.awaitTermination(10)  # Wait for the computation to terminate\n",
        "ssc.stop()\n",
        "sc.stop()"
      ],
      "metadata": {
        "id": "CKQ_jaJMpOMu",
        "colab": {
          "base_uri": "https://localhost:8080/"
        },
        "outputId": "4d4520b9-6657-46cd-e278-9d3aec897743"
      },
      "execution_count": 48,
      "outputs": [
        {
          "output_type": "stream",
          "name": "stdout",
          "text": [
            "-------------------------------------------\n",
            "Time: 2022-10-27 03:42:58\n",
            "-------------------------------------------\n",
            "('name', ['ekarat', 'rattagan'])\n",
            "('id', [1, 2])\n",
            "\n",
            "-------------------------------------------\n",
            "Time: 2022-10-27 03:42:58\n",
            "-------------------------------------------\n",
            "('id', [2, 3])\n",
            "('age', [30, 35])\n",
            "\n",
            "-------------------------------------------\n",
            "Time: 2022-10-27 03:42:58\n",
            "-------------------------------------------\n",
            "('id', ([1, 2], [2, 3]))\n",
            "\n",
            "-------------------------------------------\n",
            "Time: 2022-10-27 03:43:00\n",
            "-------------------------------------------\n",
            "\n",
            "-------------------------------------------\n",
            "Time: 2022-10-27 03:43:00\n",
            "-------------------------------------------\n",
            "\n",
            "-------------------------------------------\n",
            "Time: 2022-10-27 03:43:00\n",
            "-------------------------------------------\n",
            "\n",
            "-------------------------------------------\n",
            "Time: 2022-10-27 03:43:02\n",
            "-------------------------------------------\n",
            "\n",
            "-------------------------------------------\n",
            "Time: 2022-10-27 03:43:02\n",
            "-------------------------------------------\n",
            "\n",
            "-------------------------------------------\n",
            "Time: 2022-10-27 03:43:02\n",
            "-------------------------------------------\n",
            "\n",
            "-------------------------------------------\n",
            "Time: 2022-10-27 03:43:04\n",
            "-------------------------------------------\n",
            "\n",
            "-------------------------------------------\n",
            "Time: 2022-10-27 03:43:04\n",
            "-------------------------------------------\n",
            "\n",
            "-------------------------------------------\n",
            "Time: 2022-10-27 03:43:04\n",
            "-------------------------------------------\n",
            "\n",
            "-------------------------------------------\n",
            "Time: 2022-10-27 03:43:06\n",
            "-------------------------------------------\n",
            "\n",
            "-------------------------------------------\n",
            "Time: 2022-10-27 03:43:06\n",
            "-------------------------------------------\n",
            "\n",
            "-------------------------------------------\n",
            "Time: 2022-10-27 03:43:06\n",
            "-------------------------------------------\n",
            "\n"
          ]
        }
      ]
    },
    {
      "cell_type": "code",
      "source": [
        "ssc.stop()\n",
        "sc.stop()"
      ],
      "metadata": {
        "id": "Uji_LW23QVp5"
      },
      "execution_count": 36,
      "outputs": []
    }
  ]
}