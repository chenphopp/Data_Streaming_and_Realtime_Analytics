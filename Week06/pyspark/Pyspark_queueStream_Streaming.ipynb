{
  "nbformat": 4,
  "nbformat_minor": 0,
  "metadata": {
    "colab": {
      "provenance": [],
      "include_colab_link": true
    },
    "kernelspec": {
      "name": "python3",
      "display_name": "Python 3"
    },
    "language_info": {
      "name": "python"
    }
  },
  "cells": [
    {
      "cell_type": "markdown",
      "metadata": {
        "id": "view-in-github",
        "colab_type": "text"
      },
      "source": [
        "<a href=\"https://colab.research.google.com/github/ekaratnida/Data_Streaming_and_Realtime_Analytics/blob/main/Week06/pyspark/Pyspark_queueStream_Streaming.ipynb\" target=\"_parent\"><img src=\"https://colab.research.google.com/assets/colab-badge.svg\" alt=\"Open In Colab\"/></a>"
      ]
    },
    {
      "cell_type": "code",
      "execution_count": null,
      "metadata": {
        "id": "FxRUnxF4PBdy"
      },
      "outputs": [],
      "source": [
        "!apt-get install openjdk-8-jdk-headless -qq > /dev/null\n",
        "!wget https://mirrors.estointernet.in/apache/spark/spark-2.4.8/spark-2.4.8-bin-hadoop2.7.tgz\n",
        "!tar -xvf spark-2.4.8-bin-hadoop2.7.tgz\n",
        "!pip install findspark"
      ]
    },
    {
      "cell_type": "code",
      "source": [
        "import os\n",
        "os.environ[\"JAVA_HOME\"] = \"/usr/lib/jvm/java-8-openjdk-amd64\"\n",
        "os.environ[\"SPARK_HOME\"] = \"/content/spark-2.4.8-bin-hadoop2.7\""
      ],
      "metadata": {
        "id": "m2ph4QQcQDTp"
      },
      "execution_count": 2,
      "outputs": []
    },
    {
      "cell_type": "code",
      "source": [
        "import findspark\n",
        "findspark.init()\n",
        "import pyspark\n",
        "from pyspark.streaming import StreamingContext\n",
        "from time import sleep\n",
        "#from pyspark.streaming.kafka import KafkaUtils"
      ],
      "metadata": {
        "id": "9C4yFGwjQKvZ"
      },
      "execution_count": 3,
      "outputs": []
    },
    {
      "cell_type": "code",
      "source": [
        "sc = pyspark.SparkContext()\n",
        "ssc = StreamingContext(sc,2) # Show results every 5 seconds\n",
        "\n",
        "rddQueue1 = [ssc.sparkContext.parallelize([(\"id1\",1),(\"id1\",3)])]\n",
        "rddQueue2 = [ssc.sparkContext.parallelize([(\"id1\",4),(\"id2\",5)])]\n",
        "inputStream1 = ssc.queueStream(rddQueue1)\n",
        "inputStream2 = ssc.queueStream(rddQueue2)\n",
        "\n",
        "#'''\n",
        "#Example 1 reduceByKey\n",
        "reducedStream = inputStream1.reduceByKey(lambda a, b: a + b)\n",
        "reducedStream.pprint()\n",
        "#'''\n",
        "\n",
        "''' \n",
        "#Example 2 join\n",
        "inputStream1.join(inputStream2).pprint()\n",
        "'''\n",
        "\n",
        "'''\n",
        " #Example 3 union\n",
        "inputStream1.union(inputStream2).pprint()\n",
        "'''\n",
        "\n",
        "'''\n",
        "#Example 4 groupByKey\n",
        "x = inputStream1.groupByKey().map(lambda x : (x[0], list(x[1])))\n",
        "x.pprint()\n",
        "'''\n",
        "\n",
        "ssc.start()             # Start the computation\n",
        "ssc.awaitTermination(10)  # Wait for the computation to terminate"
      ],
      "metadata": {
        "id": "CKQ_jaJMpOMu",
        "colab": {
          "base_uri": "https://localhost:8080/"
        },
        "outputId": "4fd8ab16-5efb-48bb-fbb0-d1ad431be099"
      },
      "execution_count": 4,
      "outputs": [
        {
          "output_type": "stream",
          "name": "stdout",
          "text": [
            "-------------------------------------------\n",
            "Time: 2022-10-22 13:11:52\n",
            "-------------------------------------------\n",
            "('id1', 4)\n",
            "\n",
            "-------------------------------------------\n",
            "Time: 2022-10-22 13:11:54\n",
            "-------------------------------------------\n",
            "\n",
            "-------------------------------------------\n",
            "Time: 2022-10-22 13:11:56\n",
            "-------------------------------------------\n",
            "\n",
            "-------------------------------------------\n",
            "Time: 2022-10-22 13:11:58\n",
            "-------------------------------------------\n",
            "\n",
            "-------------------------------------------\n",
            "Time: 2022-10-22 13:12:00\n",
            "-------------------------------------------\n",
            "\n"
          ]
        }
      ]
    },
    {
      "cell_type": "code",
      "source": [
        "ssc.stop()\n",
        "sc.stop()"
      ],
      "metadata": {
        "id": "Uji_LW23QVp5"
      },
      "execution_count": 5,
      "outputs": []
    }
  ]
}