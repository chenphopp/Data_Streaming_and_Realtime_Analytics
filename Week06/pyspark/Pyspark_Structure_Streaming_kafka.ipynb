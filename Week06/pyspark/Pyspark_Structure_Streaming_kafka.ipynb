{
  "nbformat": 4,
  "nbformat_minor": 0,
  "metadata": {
    "colab": {
      "provenance": [],
      "include_colab_link": true
    },
    "kernelspec": {
      "name": "python3",
      "display_name": "Python 3"
    },
    "language_info": {
      "name": "python"
    }
  },
  "cells": [
    {
      "cell_type": "markdown",
      "metadata": {
        "id": "view-in-github",
        "colab_type": "text"
      },
      "source": [
        "<a href=\"https://colab.research.google.com/github/ekaratnida/Data_Streaming_and_Realtime_Analytics/blob/main/Week06/pyspark/Pyspark_Structure_Streaming_kafka.ipynb\" target=\"_parent\"><img src=\"https://colab.research.google.com/assets/colab-badge.svg\" alt=\"Open In Colab\"/></a>"
      ]
    },
    {
      "cell_type": "code",
      "execution_count": null,
      "metadata": {
        "id": "FxRUnxF4PBdy"
      },
      "outputs": [],
      "source": [
        "!apt-get install openjdk-8-jdk-headless -qq > /dev/null\n",
        "!wget https://mirrors.estointernet.in/apache/spark/spark-3.2.1/spark-3.2.1-bin-hadoop3.2.tgz\n",
        "#!wget https://www.apache.org/dyn/closer.lua/spark/spark-3.3.1/spark-3.3.1-bin-hadoop3.tgz\n",
        "!tar -xvf spark-3.2.1-bin-hadoop3.2.tgz\n",
        "!pip install findspark"
      ]
    },
    {
      "cell_type": "code",
      "source": [
        "import os\n",
        "os.environ[\"JAVA_HOME\"] = \"/usr/lib/jvm/java-8-openjdk-amd64\"\n",
        "os.environ[\"SPARK_HOME\"] = \"/content/spark-3.2.1-bin-hadoop3.2\"\n",
        "os.environ['PYSPARK_SUBMIT_ARGS'] = '--packages org.apache.spark:spark-streaming-kafka-0-8_2.11:2.1.0,org.apache.spark:spark-sql-kafka-0-10_2.12:3.3.1 pyspark-shell'"
      ],
      "metadata": {
        "id": "m2ph4QQcQDTp"
      },
      "execution_count": 2,
      "outputs": []
    },
    {
      "cell_type": "code",
      "source": [
        "import findspark\n",
        "findspark.init()\n",
        "from pyspark.sql import SparkSession\n",
        "from pyspark.sql.functions import *\n",
        "from pyspark.sql.types import *"
      ],
      "metadata": {
        "id": "9C4yFGwjQKvZ"
      },
      "execution_count": 10,
      "outputs": []
    },
    {
      "cell_type": "code",
      "source": [
        "spark = SparkSession.builder.appName(\"readFromKafka\").master(\"local\").getOrCreate()"
      ],
      "metadata": {
        "id": "5lWbKDE82Ffp"
      },
      "execution_count": 4,
      "outputs": []
    },
    {
      "cell_type": "code",
      "source": [
        "df = spark \\\n",
        "  .readStream \\\n",
        "  .format(\"kafka\") \\\n",
        "  .option(\"kafka.bootstrap.servers\", \"ec2-13-229-46-113.ap-southeast-1.compute.amazonaws.com:9092\") \\\n",
        "  .option(\"subscribe\", \"my-first-topic\") \\\n",
        "  .option(\"startingOffsets\", \"earliest\") \\\n",
        "  .load()\n",
        "\n",
        "#ds = df.selectExpr(\"CAST(key AS STRING)\", \"CAST(value AS STRING)\")\n",
        "display(df)\n",
        "#ds = df.selectExpr(\"CAST(value AS STRING)\")"
      ],
      "metadata": {
        "colab": {
          "base_uri": "https://localhost:8080/",
          "height": 34
        },
        "id": "CVsK2xUR0NR4",
        "outputId": "daf0cef1-4db4-42c7-cd63-d9b61ac67272"
      },
      "execution_count": 61,
      "outputs": [
        {
          "output_type": "display_data",
          "data": {
            "text/plain": [
              "DataFrame[key: binary, value: binary, topic: string, partition: int, offset: bigint, timestamp: timestamp, timestampType: int]"
            ]
          },
          "metadata": {}
        }
      ]
    },
    {
      "cell_type": "code",
      "source": [
        "personStringDF = df.selectExpr(\"CAST(value AS STRING)\")\n",
        "display(personStringDF)"
      ],
      "metadata": {
        "id": "lBQIwEVc1Jv9",
        "outputId": "5cd58c1a-15ae-4315-87be-8c02b89d8292",
        "colab": {
          "base_uri": "https://localhost:8080/",
          "height": 34
        }
      },
      "execution_count": 62,
      "outputs": [
        {
          "output_type": "display_data",
          "data": {
            "text/plain": [
              "DataFrame[value: string]"
            ]
          },
          "metadata": {}
        }
      ]
    },
    {
      "cell_type": "code",
      "source": [
        "schema1 = StructType([StructField('id', IntegerType(), True), \\\n",
        "      StructField('firstname', StringType(), True), \\\n",
        "      StructField('middlename', StringType(), True), \\\n",
        "      StructField('lastname', StringType(), True), \\\n",
        "      StructField('dob_year', IntegerType(), True), \\\n",
        "      StructField('dob_month', IntegerType(), True),\n",
        "      StructField('profession', StringType(), True),\n",
        "      StructField('gender', StringType(), True),\n",
        "      StructField('salary', IntegerType(), True)])"
      ],
      "metadata": {
        "id": "NeJVUegdDn89"
      },
      "execution_count": 63,
      "outputs": []
    },
    {
      "cell_type": "code",
      "source": [
        "personDF = personStringDF.select(from_json(personStringDF.value,schema1)).selectExpr(\"*\")\n",
        "personDF.printSchema()\n",
        "personDF.writeStream.format(\"console\").outputMode(\"append\").start().awaitTermination()"
      ],
      "metadata": {
        "id": "eRdiAPLxEKYz"
      },
      "execution_count": null,
      "outputs": []
    }
  ]
}