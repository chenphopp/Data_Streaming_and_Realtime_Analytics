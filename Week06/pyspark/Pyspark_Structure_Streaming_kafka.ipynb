{
  "nbformat": 4,
  "nbformat_minor": 0,
  "metadata": {
    "colab": {
      "provenance": [],
      "include_colab_link": true
    },
    "kernelspec": {
      "name": "python3",
      "display_name": "Python 3"
    },
    "language_info": {
      "name": "python"
    }
  },
  "cells": [
    {
      "cell_type": "markdown",
      "metadata": {
        "id": "view-in-github",
        "colab_type": "text"
      },
      "source": [
        "<a href=\"https://colab.research.google.com/github/ekaratnida/Data_Streaming_and_Realtime_Analytics/blob/main/Week06/pyspark/Pyspark_Structure_Streaming_kafka.ipynb\" target=\"_parent\"><img src=\"https://colab.research.google.com/assets/colab-badge.svg\" alt=\"Open In Colab\"/></a>"
      ]
    },
    {
      "cell_type": "code",
      "execution_count": 43,
      "metadata": {
        "id": "FxRUnxF4PBdy"
      },
      "outputs": [],
      "source": [
        "%%capture\n",
        "!apt-get install openjdk-8-jdk-headless -qq > /dev/null\n",
        "!wget https://mirrors.estointernet.in/apache/spark/spark-3.2.1/spark-3.2.1-bin-hadoop3.2.tgz\n",
        "!tar -xvf spark-3.2.1-bin-hadoop3.2.tgz\n",
        "!pip install findspark"
      ]
    },
    {
      "cell_type": "code",
      "source": [
        "%%capture\n",
        "!wget \"https://repo1.maven.org/maven2/org/apache/spark/spark-sql-kafka-0-10_2.12/3.3.1/spark-sql-kafka-0-10_2.12-3.3.1.jar\"\n",
        "!wget \"https://repo1.maven.org/maven2/org/apache/spark/spark-streaming-kafka-0-10_2.12/3.1.3/spark-streaming-kafka-0-10_2.12-3.1.3.jar\""
      ],
      "metadata": {
        "id": "CWsoQhb0NZ2q"
      },
      "execution_count": 44,
      "outputs": []
    },
    {
      "cell_type": "code",
      "source": [
        "import os\n",
        "os.environ[\"JAVA_HOME\"] = \"/usr/lib/jvm/java-8-openjdk-amd64\"\n",
        "os.environ[\"SPARK_HOME\"] = \"/content/spark-3.2.1-bin-hadoop3.2\"\n",
        "os.environ['PYSPARK_SUBMIT_ARGS'] = '--packages org.apache.spark:spark-streaming-kafka-0-10_2.12:3.1.3,org.apache.spark:spark-sql-kafka-0-10_2.12:3.3.1 pyspark-shell'"
      ],
      "metadata": {
        "id": "m2ph4QQcQDTp"
      },
      "execution_count": 45,
      "outputs": []
    },
    {
      "cell_type": "code",
      "source": [
        "import findspark\n",
        "findspark.init()\n",
        "from pyspark.sql import SparkSession\n",
        "from pyspark.sql.functions import *\n",
        "from pyspark.sql.types import *"
      ],
      "metadata": {
        "id": "9C4yFGwjQKvZ"
      },
      "execution_count": 46,
      "outputs": []
    },
    {
      "cell_type": "markdown",
      "source": [
        "# Read stream from kafka"
      ],
      "metadata": {
        "id": "p9igzPvkVzBX"
      }
    },
    {
      "cell_type": "code",
      "source": [
        "spark = SparkSession.builder.appName(\"readFromKafka\").master(\"local\").getOrCreate()\n",
        "\n",
        "df = spark \\\n",
        "  .readStream \\\n",
        "  .format(\"kafka\") \\\n",
        "  .option(\"kafka.bootstrap.servers\", \"ec2-13-229-46-113.ap-southeast-1.compute.amazonaws.com:9092\") \\\n",
        "  .option(\"subscribe\", \"my-first-topic\") \\\n",
        "  .option(\"startingOffsets\", \"earliest\") \\\n",
        "  .load()\n",
        "\n",
        "df = df.selectExpr(\"CAST(key AS STRING)\", \"CAST(value AS STRING)\")\n",
        "df.printSchema()\n"
      ],
      "metadata": {
        "colab": {
          "base_uri": "https://localhost:8080/"
        },
        "id": "CVsK2xUR0NR4",
        "outputId": "d3729d2c-9735-4ad2-912f-35afb0c8c244"
      },
      "execution_count": 47,
      "outputs": [
        {
          "output_type": "stream",
          "name": "stdout",
          "text": [
            "root\n",
            " |-- key: string (nullable = true)\n",
            " |-- value: string (nullable = true)\n",
            "\n"
          ]
        }
      ]
    },
    {
      "cell_type": "markdown",
      "source": [
        "# Write stream to kafka"
      ],
      "metadata": {
        "id": "c6kCHDxYVwOD"
      }
    },
    {
      "cell_type": "code",
      "source": [
        "schema1 = StructType([StructField('id', IntegerType(), True), \\\n",
        "      StructField('firstname', StringType(), True), \\\n",
        "      StructField('middlename', StringType(), True), \\\n",
        "      StructField('lastname', StringType(), True), \\\n",
        "      StructField('dob_year', IntegerType(), True), \\\n",
        "      StructField('dob_month', IntegerType(), True), \\\n",
        "      StructField('gender', StringType(), True), \\\n",
        "      StructField('salary', IntegerType(), True)])\n",
        "\n",
        "person = df \\\n",
        "    .select(from_json(df.value, schema1).alias(\"data\")) \\\n",
        "    .select(\"data.*\")\n",
        "\n",
        "person.printSchema()"
      ],
      "metadata": {
        "id": "1WPK5a78WOCA",
        "colab": {
          "base_uri": "https://localhost:8080/"
        },
        "outputId": "dc49fb9a-d643-460c-e416-e9404675bd5a"
      },
      "execution_count": 48,
      "outputs": [
        {
          "output_type": "stream",
          "name": "stdout",
          "text": [
            "root\n",
            " |-- id: integer (nullable = true)\n",
            " |-- firstname: string (nullable = true)\n",
            " |-- middlename: string (nullable = true)\n",
            " |-- lastname: string (nullable = true)\n",
            " |-- dob_year: integer (nullable = true)\n",
            " |-- dob_month: integer (nullable = true)\n",
            " |-- gender: string (nullable = true)\n",
            " |-- salary: integer (nullable = true)\n",
            "\n"
          ]
        }
      ]
    },
    {
      "cell_type": "markdown",
      "source": [
        "Example 1"
      ],
      "metadata": {
        "id": "GAjEXrN6_vxh"
      }
    },
    {
      "cell_type": "code",
      "source": [
        "qDF = person.selectExpr(\"salary\",\"lastname\")"
      ],
      "metadata": {
        "id": "7t1Je84bejne"
      },
      "execution_count": 49,
      "outputs": []
    },
    {
      "cell_type": "markdown",
      "source": [
        "Example 2"
      ],
      "metadata": {
        "id": "b2u6TisK_xSv"
      }
    },
    {
      "cell_type": "code",
      "source": [
        "#person.createOrReplaceTempView(\"people\")\n",
        "#qDF = spark.sql(\"SELECT firstname,gender FROM people\")"
      ],
      "metadata": {
        "id": "acx3VBBy_OPh"
      },
      "execution_count": 50,
      "outputs": []
    },
    {
      "cell_type": "markdown",
      "source": [
        "Example 3 (TBD timestamp 'timestamp':'123344453')"
      ],
      "metadata": {
        "id": "pIN--sRYESMI"
      }
    },
    {
      "cell_type": "code",
      "source": [
        "ds = qDF \\\n",
        "  .selectExpr(\"to_json(struct(*)) AS value\") \\\n",
        "  .writeStream \\\n",
        "  .format(\"kafka\") \\\n",
        "  .trigger(continuous='2 second') \\\n",
        "  .option(\"kafka.bootstrap.servers\", \"ec2-13-229-46-113.ap-southeast-1.compute.amazonaws.com:9092\") \\\n",
        "  .option(\"topic\", \"my-first-topic5\") \\\n",
        "  .option(\"checkpointLocation\", \"/content/checkpoint\") \\\n",
        "  .start() \\\n",
        "  .awaitTermination()"
      ],
      "metadata": {
        "id": "KE5STxTWRC4W"
      },
      "execution_count": null,
      "outputs": []
    },
    {
      "cell_type": "markdown",
      "source": [
        "Reference\n",
        "https://spark.apache.org/docs/2.2.0/sql-programming-guide.html"
      ],
      "metadata": {
        "id": "nNgPSx_7AaCA"
      }
    }
  ]
}