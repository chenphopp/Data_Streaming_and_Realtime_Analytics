{
  "nbformat": 4,
  "nbformat_minor": 0,
  "metadata": {
    "colab": {
      "provenance": [],
      "include_colab_link": true
    },
    "kernelspec": {
      "name": "python3",
      "display_name": "Python 3"
    },
    "language_info": {
      "name": "python"
    }
  },
  "cells": [
    {
      "cell_type": "markdown",
      "metadata": {
        "id": "view-in-github",
        "colab_type": "text"
      },
      "source": [
        "<a href=\"https://colab.research.google.com/github/ekaratnida/Data_Streaming_and_Realtime_Analytics/blob/main/Week06/pyspark/Pyspark_join_multiple_dstreams_json2dataframe.ipynb\" target=\"_parent\"><img src=\"https://colab.research.google.com/assets/colab-badge.svg\" alt=\"Open In Colab\"/></a>"
      ]
    },
    {
      "cell_type": "code",
      "execution_count": 1,
      "metadata": {
        "id": "FxRUnxF4PBdy"
      },
      "outputs": [],
      "source": [
        "%%capture\n",
        "!apt-get install openjdk-8-jdk-headless -qq > /dev/null\n",
        "!wget https://mirrors.estointernet.in/apache/spark/spark-2.4.8/spark-2.4.8-bin-hadoop2.7.tgz\n",
        "!tar -xvf spark-2.4.8-bin-hadoop2.7.tgz\n",
        "!pip install findspark"
      ]
    },
    {
      "cell_type": "code",
      "source": [
        "%%capture\n",
        "!wget \"https://repo1.maven.org/maven2/org/apache/spark/spark-streaming-kafka-0-8-assembly_2.11/2.4.8/spark-streaming-kafka-0-8-assembly_2.11-2.4.8.jar\""
      ],
      "metadata": {
        "id": "ysUW0BrpPyQR"
      },
      "execution_count": 2,
      "outputs": []
    },
    {
      "cell_type": "code",
      "source": [
        "import os\n",
        "os.environ[\"JAVA_HOME\"] = \"/usr/lib/jvm/java-8-openjdk-amd64\"\n",
        "os.environ[\"SPARK_HOME\"] = \"/content/spark-2.4.8-bin-hadoop2.7\"\n",
        "os.environ['PYSPARK_SUBMIT_ARGS'] = '--jars /content/spark-streaming-kafka-0-8-assembly_2.11-2.4.8.jar pyspark-shell'"
      ],
      "metadata": {
        "id": "m2ph4QQcQDTp"
      },
      "execution_count": 3,
      "outputs": []
    },
    {
      "cell_type": "code",
      "source": [
        "import findspark\n",
        "findspark.init()\n",
        "from pyspark.sql import SparkSession\n",
        "from pyspark.sql.functions import *\n",
        "from pyspark.ml.feature import Normalizer, StandardScaler\n",
        "import pyspark\n",
        "from pyspark import SparkContext, SparkConf\n",
        "from pyspark.streaming import StreamingContext\n",
        "from pyspark.streaming.kafka import KafkaUtils\n",
        "import json"
      ],
      "metadata": {
        "id": "9C4yFGwjQKvZ"
      },
      "execution_count": 4,
      "outputs": []
    },
    {
      "cell_type": "code",
      "source": [
        "kafka_topic_name = \"my-first-topic\"\n",
        "kafka_topic_name2 = \"my-first-topic2\"\n",
        "kafka_bootstrap_servers = 'ec2-13-229-46-113.ap-southeast-1.compute.amazonaws.com:9092'"
      ],
      "metadata": {
        "id": "NkOsjPVjQOZx"
      },
      "execution_count": 5,
      "outputs": []
    },
    {
      "cell_type": "code",
      "source": [
        "sc = pyspark.SparkContext()\n",
        "spark = SparkSession(sc)\n",
        "ssc = StreamingContext(sc,2) # Show results every 2 seconds"
      ],
      "metadata": {
        "id": "TNIt3ojoVT3z"
      },
      "execution_count": 19,
      "outputs": []
    },
    {
      "cell_type": "markdown",
      "source": [
        "Ex1"
      ],
      "metadata": {
        "id": "_46eTXSPbvuP"
      }
    },
    {
      "cell_type": "code",
      "source": [
        "def readMyStream(rdd):\n",
        "  if not rdd.isEmpty():\n",
        "    df = spark.read.json(rdd)\n",
        "    print(df.dtypes)\n",
        "    print('Started the Process')\n",
        "    print('Selection of Columns')\n",
        "    df = df.select('firstname','lastname')\n",
        "    df.show()"
      ],
      "metadata": {
        "id": "GqHJi4mQMInm"
      },
      "execution_count": 15,
      "outputs": []
    },
    {
      "cell_type": "markdown",
      "source": [
        "Ex2"
      ],
      "metadata": {
        "id": "Y55eizpGbwnH"
      }
    },
    {
      "cell_type": "code",
      "source": [
        "def readMyStream2(rdd):\n",
        "  if not rdd.isEmpty():\n",
        "    df = spark.read.json(rdd)\n",
        "\n",
        "    # The inferred schema can be visualized using the printSchema() method\n",
        "    df.printSchema()\n",
        "\n",
        "    # Creates a temporary view using the DataFrame\n",
        "    df.createOrReplaceTempView(\"people\")\n",
        "\n",
        "    # SQL statements can be run by using the sql methods provided by spark\n",
        "    teenagerNamesDF = spark.sql(\"SELECT SUM(salary) FROM people\")\n",
        "    teenagerNamesDF.show()\n",
        "    \n",
        "    print(df.dtypes)\n",
        "    print('Started the Process')\n",
        "    print('Selection of Columns')\n",
        "    df = df.select('firstname','lastname') #.where(col(\"timestamp\").isNotNull())\n",
        "    df.show()"
      ],
      "metadata": {
        "id": "Qnr5dEBebuP4"
      },
      "execution_count": 16,
      "outputs": []
    },
    {
      "cell_type": "code",
      "source": [
        "kvs1 = KafkaUtils.createDirectStream(ssc, \n",
        "                                    [kafka_topic_name], \n",
        "                                    {\n",
        "                        'bootstrap.servers':kafka_bootstrap_servers,\n",
        "                        'group.id':'test-group',\n",
        "                        'auto.offset.reset':'smallest'\n",
        "                        })\n",
        "\n",
        "kvs2 = KafkaUtils.createDirectStream(ssc, \n",
        "                                    [kafka_topic_name2], \n",
        "                                    {\n",
        "                        'bootstrap.servers':kafka_bootstrap_servers,\n",
        "                        'group.id':'test-group',\n",
        "                        'auto.offset.reset':'largest'\n",
        "                        })\n",
        "\n",
        "kvs2.pprint()\n",
        "parsed = kvs2.map(lambda x: x[1])\n",
        "parsed.foreachRDD( lambda rdd: readMyStream2(rdd) )\n",
        "\n",
        "\n",
        "ssc.start()\n",
        "ssc.awaitTerminationOrTimeout(60)\n",
        "ssc.stop()\n",
        "sc.stop()"
      ],
      "metadata": {
        "colab": {
          "base_uri": "https://localhost:8080/"
        },
        "id": "gNy0brrZQTcy",
        "outputId": "93bf0e92-a735-4132-ead8-b43d503681f2"
      },
      "execution_count": 20,
      "outputs": [
        {
          "output_type": "stream",
          "name": "stdout",
          "text": [
            "-------------------------------------------\n",
            "Time: 2022-11-01 05:08:00\n",
            "-------------------------------------------\n",
            "\n",
            "-------------------------------------------\n",
            "Time: 2022-11-01 05:08:02\n",
            "-------------------------------------------\n",
            "\n",
            "-------------------------------------------\n",
            "Time: 2022-11-01 05:08:04\n",
            "-------------------------------------------\n",
            "\n",
            "-------------------------------------------\n",
            "Time: 2022-11-01 05:08:06\n",
            "-------------------------------------------\n",
            "\n",
            "-------------------------------------------\n",
            "Time: 2022-11-01 05:08:08\n",
            "-------------------------------------------\n",
            "\n",
            "-------------------------------------------\n",
            "Time: 2022-11-01 05:08:10\n",
            "-------------------------------------------\n",
            "\n",
            "-------------------------------------------\n",
            "Time: 2022-11-01 05:08:12\n",
            "-------------------------------------------\n",
            "\n",
            "-------------------------------------------\n",
            "Time: 2022-11-01 05:08:14\n",
            "-------------------------------------------\n",
            "\n",
            "-------------------------------------------\n",
            "Time: 2022-11-01 05:08:16\n",
            "-------------------------------------------\n",
            "\n",
            "-------------------------------------------\n",
            "Time: 2022-11-01 05:08:18\n",
            "-------------------------------------------\n",
            "\n",
            "-------------------------------------------\n",
            "Time: 2022-11-01 05:08:20\n",
            "-------------------------------------------\n",
            "\n",
            "-------------------------------------------\n",
            "Time: 2022-11-01 05:08:22\n",
            "-------------------------------------------\n",
            "('1f9a8ce6-b4dc-4784-98b2-49f79d5b7f8a', ' {\"id\":2,\"firstname\":\"Peter2\",\"middlename\":\"\",\"lastname\":\"Parker3\",\"dob_year\":2018,\"dob_month\":1,\"gender\":\"M\",\"salary\":3000} ')\n",
            "('3b85f408-084e-4a43-9bac-0e22c24ae0d4', ' {\"id\":1,\"firstname\":\"Peter1\",\"middlename\":\"\",\"lastname\":\"Parker3\",\"dob_year\":2018,\"dob_month\":1,\"gender\":\"M\",\"salary\":4000} ')\n",
            "\n",
            "root\n",
            " |-- dob_month: long (nullable = true)\n",
            " |-- dob_year: long (nullable = true)\n",
            " |-- firstname: string (nullable = true)\n",
            " |-- gender: string (nullable = true)\n",
            " |-- id: long (nullable = true)\n",
            " |-- lastname: string (nullable = true)\n",
            " |-- middlename: string (nullable = true)\n",
            " |-- salary: long (nullable = true)\n",
            "\n",
            "+-----------+\n",
            "|sum(salary)|\n",
            "+-----------+\n",
            "|       7000|\n",
            "+-----------+\n",
            "\n",
            "[('dob_month', 'bigint'), ('dob_year', 'bigint'), ('firstname', 'string'), ('gender', 'string'), ('id', 'bigint'), ('lastname', 'string'), ('middlename', 'string'), ('salary', 'bigint')]\n",
            "Started the Process\n",
            "Selection of Columns\n",
            "+---------+--------+\n",
            "|firstname|lastname|\n",
            "+---------+--------+\n",
            "|   Peter2| Parker3|\n",
            "|   Peter1| Parker3|\n",
            "+---------+--------+\n",
            "\n",
            "-------------------------------------------\n",
            "Time: 2022-11-01 05:08:24\n",
            "-------------------------------------------\n",
            "('3e8b3b0b-75d0-4b6f-8b9a-7c5792649c61', ' {\"id\":3,\"firstname\":\"Peter3\",\"middlename\":\"\",\"lastname\":\"Parker3\",\"dob_year\":2018,\"dob_month\":1,\"gender\":\"M\",\"salary\":5000} ')\n",
            "\n",
            "root\n",
            " |-- dob_month: long (nullable = true)\n",
            " |-- dob_year: long (nullable = true)\n",
            " |-- firstname: string (nullable = true)\n",
            " |-- gender: string (nullable = true)\n",
            " |-- id: long (nullable = true)\n",
            " |-- lastname: string (nullable = true)\n",
            " |-- middlename: string (nullable = true)\n",
            " |-- salary: long (nullable = true)\n",
            "\n",
            "+-----------+\n",
            "|sum(salary)|\n",
            "+-----------+\n",
            "|       5000|\n",
            "+-----------+\n",
            "\n",
            "[('dob_month', 'bigint'), ('dob_year', 'bigint'), ('firstname', 'string'), ('gender', 'string'), ('id', 'bigint'), ('lastname', 'string'), ('middlename', 'string'), ('salary', 'bigint')]\n",
            "Started the Process\n",
            "Selection of Columns\n",
            "+---------+--------+\n",
            "|firstname|lastname|\n",
            "+---------+--------+\n",
            "|   Peter3| Parker3|\n",
            "+---------+--------+\n",
            "\n",
            "-------------------------------------------\n",
            "Time: 2022-11-01 05:08:26\n",
            "-------------------------------------------\n",
            "\n",
            "-------------------------------------------\n",
            "Time: 2022-11-01 05:08:28\n",
            "-------------------------------------------\n",
            "\n"
          ]
        }
      ]
    },
    {
      "cell_type": "code",
      "source": [
        "ssc.stop()\n",
        "sc.stop()"
      ],
      "metadata": {
        "id": "Uji_LW23QVp5"
      },
      "execution_count": 18,
      "outputs": []
    }
  ]
}