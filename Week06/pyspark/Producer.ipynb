{
  "nbformat": 4,
  "nbformat_minor": 0,
  "metadata": {
    "colab": {
      "provenance": [],
      "include_colab_link": true
    },
    "kernelspec": {
      "name": "python3",
      "display_name": "Python 3"
    },
    "language_info": {
      "name": "python"
    }
  },
  "cells": [
    {
      "cell_type": "markdown",
      "metadata": {
        "id": "view-in-github",
        "colab_type": "text"
      },
      "source": [
        "<a href=\"https://colab.research.google.com/github/ekaratnida/Data_Streaming_and_Realtime_Analytics/blob/main/Week06/pyspark/Producer.ipynb\" target=\"_parent\"><img src=\"https://colab.research.google.com/assets/colab-badge.svg\" alt=\"Open In Colab\"/></a>"
      ]
    },
    {
      "cell_type": "code",
      "source": [
        "!pip install confluent_kafka"
      ],
      "metadata": {
        "colab": {
          "base_uri": "https://localhost:8080/"
        },
        "id": "iEOZKcobYWbr",
        "outputId": "d15dd6c9-8c18-4d67-f445-75e7b271f95a"
      },
      "execution_count": 1,
      "outputs": [
        {
          "output_type": "stream",
          "name": "stdout",
          "text": [
            "Looking in indexes: https://pypi.org/simple, https://us-python.pkg.dev/colab-wheels/public/simple/\n",
            "Collecting confluent_kafka\n",
            "  Downloading confluent_kafka-1.9.2-cp37-cp37m-manylinux_2_17_x86_64.manylinux2014_x86_64.whl (3.1 MB)\n",
            "\u001b[K     |████████████████████████████████| 3.1 MB 33.2 MB/s \n",
            "\u001b[?25hInstalling collected packages: confluent-kafka\n",
            "Successfully installed confluent-kafka-1.9.2\n"
          ]
        }
      ]
    },
    {
      "cell_type": "code",
      "execution_count": 14,
      "metadata": {
        "colab": {
          "base_uri": "https://localhost:8080/"
        },
        "id": "UbHPxw_kYTI3",
        "outputId": "4935391f-5789-4a4e-aa70-46b781d41372"
      },
      "outputs": [
        {
          "output_type": "stream",
          "name": "stdout",
          "text": [
            "Message delivered to name:Gal,age:20\n",
            "Message delivered to name:Pok,age:25\n",
            "Message delivered to name:Vyy,age:30\n"
          ]
        },
        {
          "output_type": "execute_result",
          "data": {
            "text/plain": [
              "0"
            ]
          },
          "metadata": {},
          "execution_count": 14
        }
      ],
      "source": [
        "from confluent_kafka import Producer\n",
        "import time\n",
        "import json\n",
        "from uuid import uuid4\n",
        "\n",
        "p = Producer({'bootstrap.servers': 'ec2-13-229-46-113.ap-southeast-1.compute.amazonaws.com:9092'})\n",
        "\n",
        "def delivery_report(err, msg):\n",
        "    \"\"\" Called once for each message produced to indicate delivery result.\n",
        "        Triggered by poll() or flush(). \"\"\"\n",
        "    if err is not None:\n",
        "        print('Message delivery failed: {}'.format(err))\n",
        "    else:\n",
        "        print('Message delivered to {}'.format(msg.value().decode('utf-8')))\n",
        "\n",
        "#file1 = open('message.txt', 'r') \n",
        "#Lines = ['a a a','b b','c c c c c'] #file1.readlines()\n",
        "\n",
        "jsonString1 = \"\"\"name:Gal,age:20\"\"\"\n",
        "jsonString2 = \"\"\"name:Pok,age:25\"\"\"\n",
        "jsonString3 = \"\"\"name:Vyy,age:30\"\"\"\n",
        " \n",
        "jsonv1 = jsonString1.encode()\n",
        "jsonv2 = jsonString2.encode()\n",
        "jsonv3 = jsonString3.encode()\n",
        "Lines = [jsonv1, jsonv2, jsonv3]\n",
        "\n",
        "for line in Lines:\n",
        "    p.poll(0)\n",
        "    sendMsg = line # line.encode().decode('utf-8').strip('\\n')\n",
        "    p.produce('my-first-topic2', key=str(uuid4()), value=sendMsg , callback=delivery_report)\n",
        "    time.sleep(1)\n",
        "\n",
        "p.flush()"
      ]
    }
  ]
}