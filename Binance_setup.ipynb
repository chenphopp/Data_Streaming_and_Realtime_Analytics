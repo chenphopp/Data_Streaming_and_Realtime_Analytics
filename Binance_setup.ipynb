{
  "nbformat": 4,
  "nbformat_minor": 0,
  "metadata": {
    "colab": {
      "provenance": [],
      "authorship_tag": "ABX9TyNqmyIqigkqvwLOc2O+F7F1",
      "include_colab_link": true
    },
    "kernelspec": {
      "name": "python3",
      "display_name": "Python 3"
    },
    "language_info": {
      "name": "python"
    }
  },
  "cells": [
    {
      "cell_type": "markdown",
      "metadata": {
        "id": "view-in-github",
        "colab_type": "text"
      },
      "source": [
        "<a href=\"https://colab.research.google.com/github/ekaratnida/Data_Streaming_and_Realtime_Analytics/blob/main/Binance_setup.ipynb\" target=\"_parent\"><img src=\"https://colab.research.google.com/assets/colab-badge.svg\" alt=\"Open In Colab\"/></a>"
      ]
    },
    {
      "cell_type": "code",
      "execution_count": null,
      "metadata": {
        "id": "DWob9EyANegb"
      },
      "outputs": [],
      "source": [
        "!pip install python-binance"
      ]
    },
    {
      "cell_type": "code",
      "source": [
        "from binance import Client\n",
        "api_key = 'xxfdsfdfdfd'\n",
        "api_secret = 'afdfdkjfkdjf'\n",
        "client = Client(api_key,api_secret)"
      ],
      "metadata": {
        "id": "QGI4KyqHOYeT"
      },
      "execution_count": null,
      "outputs": []
    },
    {
      "cell_type": "code",
      "source": [
        "candles = client.get_historical_klines('BTCUSDT',Client.KLINE_INTERVAL_4HOUR, \"1 day ago UTC\")\n",
        "candles"
      ],
      "metadata": {
        "id": "-J4Wsc3ROks7"
      },
      "execution_count": null,
      "outputs": []
    },
    {
      "cell_type": "markdown",
      "source": [
        "OHLCV\n",
        "Open time, Open, High, Low, Close, Volume, Close time, Quote asset volume, Number of trades, Taker buy base asset volume, Taker buy quote asset volume, ignore)"
      ],
      "metadata": {
        "id": "4cTRsZBYPsiT"
      }
    }
  ]
}