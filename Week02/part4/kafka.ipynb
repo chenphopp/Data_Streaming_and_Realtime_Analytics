{
  "cells": [
    {
      "cell_type": "code",
      "execution_count": 2,
      "metadata": {
        "id": "YUj0878jPyz7"
      },
      "outputs": [],
      "source": [
        "!curl -sSOL https://archive.apache.org/dist/kafka/2.7.0/kafka_2.13-2.7.0.tgz\n",
        "!tar -xzf kafka_2.13-2.7.0.tgz"
      ]
    },
    {
      "cell_type": "code",
      "source": [
        "!curl -sSOL https://archive.apache.org/dist/kafka/2.7.0/kafka-2.7.0-src.tgz\n",
        "!tar -xzf kafka-2.7.0-src.tgz"
      ],
      "metadata": {
        "id": "eEeCOYkaOKxo"
      },
      "execution_count": 3,
      "outputs": []
    }
  ],
  "metadata": {
    "accelerator": "GPU",
    "colab": {
      "collapsed_sections": [],
      "name": "kafka.ipynb",
      "provenance": []
    },
    "kernelspec": {
      "display_name": "Python 3",
      "name": "python3"
    }
  },
  "nbformat": 4,
  "nbformat_minor": 0
}