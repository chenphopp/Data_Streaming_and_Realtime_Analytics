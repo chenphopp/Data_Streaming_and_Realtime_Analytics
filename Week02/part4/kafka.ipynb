{
  "cells": [
    {
      "cell_type": "code",
      "execution_count": 2,
      "metadata": {
        "id": "YUj0878jPyz7"
      },
      "outputs": [],
      "source": [
        "!curl -sSOL https://archive.apache.org/dist/kafka/2.7.0/kafka_2.13-2.7.0.tgz\n",
        "!tar -xzf kafka_2.13-2.7.0.tgz"
      ]
    },
    {
      "cell_type": "code",
      "source": [
        "!curl -sSOL https://archive.apache.org/dist/kafka/2.7.0/kafka-2.7.0-src.tgz\n",
        "!tar -xzf kafka-2.7.0-src.tgz"
      ],
      "metadata": {
        "id": "eEeCOYkaOKxo"
      },
      "execution_count": 3,
      "outputs": []
    },
    {
      "cell_type": "code",
      "source": [
        "cd kafka-2.7.0-src/"
      ],
      "metadata": {
        "colab": {
          "base_uri": "https://localhost:8080/"
        },
        "id": "p9g5axW0RTfx",
        "outputId": "2e9947a7-7e12-4e86-bc9b-ea8b6ac524c1"
      },
      "execution_count": 5,
      "outputs": [
        {
          "output_type": "stream",
          "name": "stdout",
          "text": [
            "/content/kafka-2.7.0-src\n"
          ]
        }
      ]
    },
    {
      "cell_type": "code",
      "source": [
        "!./gradlew assemble -x clients:javadoc streams:test-utils:javadoc streams:streams-scala:scaladoc connect:mirror-client:javadoc connect:api:javadoc core:javadoc"
      ],
      "metadata": {
        "id": "qqEZuOarQ_-j"
      },
      "execution_count": null,
      "outputs": []
    },
    {
      "cell_type": "code",
      "source": [
        "mv streams/examples/build/libs/kafka-streams-examples-2.7.0.jar /content/kafka_2.13-2.7.0/libs"
      ],
      "metadata": {
        "id": "NW-0aS6eU605"
      },
      "execution_count": 13,
      "outputs": []
    }
  ],
  "metadata": {
    "accelerator": "GPU",
    "colab": {
      "collapsed_sections": [],
      "name": "kafka.ipynb",
      "provenance": []
    },
    "kernelspec": {
      "display_name": "Python 3",
      "name": "python3"
    }
  },
  "nbformat": 4,
  "nbformat_minor": 0
}