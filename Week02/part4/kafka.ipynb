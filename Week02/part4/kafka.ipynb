{
  "cells": [
    {
      "cell_type": "code",
      "execution_count": 2,
      "metadata": {
        "id": "YUj0878jPyz7"
      },
      "outputs": [],
      "source": [
        "!curl -sSOL https://archive.apache.org/dist/kafka/2.7.0/kafka_2.13-2.7.0.tgz\n",
        "!tar -xzf kafka_2.13-2.7.0.tgz"
      ]
    },
    {
      "cell_type": "code",
      "source": [
        "!curl -sSOL https://archive.apache.org/dist/kafka/2.7.0/kafka-2.7.0-src.tgz\n",
        "!tar -xzf kafka-2.7.0-src.tgz"
      ],
      "metadata": {
        "id": "eEeCOYkaOKxo"
      },
      "execution_count": 3,
      "outputs": []
    },
    {
      "cell_type": "code",
      "source": [
        "cd kafka-2.7.0-src/"
      ],
      "metadata": {
        "id": "p9g5axW0RTfx",
        "outputId": "2e9947a7-7e12-4e86-bc9b-ea8b6ac524c1",
        "colab": {
          "base_uri": "https://localhost:8080/"
        }
      },
      "execution_count": 5,
      "outputs": [
        {
          "output_type": "stream",
          "name": "stdout",
          "text": [
            "/content/kafka-2.7.0-src\n"
          ]
        }
      ]
    },
    {
      "cell_type": "code",
      "source": [
        "!./gradlew assemble -x clients:javadoc streams:test-utils:javadoc streams:streams-scala:scaladoc connect:mirror-client:javadoc connect:api:javadoc core:javadoc"
      ],
      "metadata": {
        "id": "qqEZuOarQ_-j",
        "outputId": "d30d4cf6-aeb7-494b-b37c-80c50d1bcad7",
        "colab": {
          "base_uri": "https://localhost:8080/"
        }
      },
      "execution_count": 8,
      "outputs": [
        {
          "output_type": "stream",
          "name": "stdout",
          "text": [
            "\n",
            "\n",
            "\u001b[1A\u001b[1m> Connecting to Daemon\u001b[m\u001b[22D\u001b[1B\u001b[2A\u001b[1m<\u001b[0;1m-------------> 0% CONFIGURING [66ms]\u001b[m\u001b[37D\u001b[1B\u001b[1m> root project > Resolve dependencies of :classpath\u001b[m\u001b[51D\u001b[1B\u001b[2A\u001b[1m<\u001b[0;1m-------------> 0% CONFIGURING [166ms]\u001b[m\u001b[38D\u001b[2B\u001b[2A\u001b[1m<\u001b[0;1m-------------> 0% CONFIGURING [266ms]\u001b[m\u001b[38D\u001b[1B\u001b[1m> root project\u001b[m\u001b[0K\u001b[14D\u001b[1B\u001b[2A\u001b[1m<\u001b[0;1m-------------> 0% CONFIGURING [366ms]\u001b[m\u001b[38D\u001b[2B\u001b[2A\u001b[1m<\u001b[0;1m-------------> 0% CONFIGURING [466ms]\u001b[m\u001b[38D\u001b[2B\u001b[2A\u001b[1m<\u001b[0;1m-------------> 0% CONFIGURING [566ms]\u001b[m\u001b[38D\u001b[2B\u001b[2A\u001b[1m<\u001b[0;1m-------------> 0% CONFIGURING [666ms]\u001b[m\u001b[38D\u001b[2B\u001b[2A\u001b[1m<\u001b[0;1m-------------> 0% CONFIGURING [766ms]\u001b[m\u001b[38D\u001b[2B\u001b[2A\u001b[1m<\u001b[0;1m-------------> 0% CONFIGURING [866ms]\u001b[m\u001b[38D\u001b[2B\u001b[2A\u001b[1m<\u001b[0;1m-------------> 0% CONFIGURING [967ms]\u001b[m\u001b[38D\u001b[2B\u001b[2A\u001b[0K\n",
            "\u001b[1m> Configure project :\u001b[m\u001b[0K\n",
            "Building project 'core' with Scala version 2.13.3\n",
            "Building project 'streams-scala' with Scala version 2.13.3\n",
            "\u001b[0K\n",
            "\u001b[0K\n",
            "\u001b[2A\u001b[1m<\u001b[0;32;1m==\u001b[0;39;1m-----------> 17% CONFIGURING [1s]\u001b[m\u001b[36D\u001b[1B\u001b[1m> :jmh-benchmarks\u001b[m\u001b[17D\u001b[1B\u001b[2A\u001b[1m<\u001b[0;32;1m=============\u001b[0;39;1m> 100% CONFIGURING [1s]\u001b[m\u001b[37D\u001b[1B> IDLE\u001b[0K\u001b[6D\u001b[1B\u001b[2A\u001b[1m<\u001b[0;1m-------------> 0% EXECUTING [1s]\u001b[m\u001b[0K\u001b[33D\u001b[1B\u001b[1m> :generator:compileJava > Resolve files of :generator:compileClasspath\u001b[m\u001b[71D\u001b[1B\u001b[2A\u001b[1m<\u001b[0;1m-------------> 2% EXECUTING [1s]\u001b[m\u001b[33D\u001b[1B> IDLE\u001b[0K\u001b[6D\u001b[1B\u001b[1A\u001b[1m> :clients:compileTestJava > Resolve dependencies of :clients:testCompileClassp\u001b[m\u001b[79D\u001b[1B\u001b[2A\u001b[1m<\u001b[0;1m-------------> 7% EXECUTING [1s]\u001b[m\u001b[33D\u001b[1B\u001b[1m> :core:compileJava > Resolve dependencies of :core:compileClasspath\u001b[m\u001b[0K\u001b[68D\u001b[1B\u001b[2A\u001b[1m<\u001b[0;32;1m=\u001b[0;39;1m------------> 8% EXECUTING [1s]\u001b[m\u001b[33D\u001b[1B\u001b[1m> :core:copyDependantLibs > Resolve files of :core:testRuntime\u001b[m\u001b[0K\u001b[62D\u001b[1B\u001b[2A\u001b[1m<\u001b[0;32;1m=\u001b[0;39;1m------------> 9% EXECUTING [1s]\u001b[m\u001b[33D\u001b[1B\u001b[1m> :core:compileTestScala\u001b[m\u001b[0K\u001b[24D\u001b[1B\u001b[2A\u001b[1m<\u001b[0;32;1m==\u001b[0;39;1m-----------> 17% EXECUTING [2s]\u001b[m\u001b[34D\u001b[1B\u001b[1m> :streams:compileJava\u001b[m\u001b[0K\u001b[22D\u001b[1B\u001b[2A\u001b[1m<\u001b[0;32;1m==\u001b[0;39;1m-----------> 18% EXECUTING [2s]\u001b[m\u001b[34D\u001b[1B\u001b[1m> :jmh-benchmarks:compileJava > Resolve dependencies of :jmh-benchmarks:compile\u001b[m\u001b[79D\u001b[1B\u001b[2A\u001b[1m<\u001b[0;32;1m===\u001b[0;39;1m----------> 24% EXECUTING [2s]\u001b[m\u001b[34D\u001b[1B\u001b[1m> :raft:compileTestJava\u001b[m\u001b[0K\u001b[23D\u001b[1B\u001b[2A\u001b[1m<\u001b[0;32;1m===\u001b[0;39;1m----------> 28% EXECUTING [2s]\u001b[m\u001b[34D\u001b[1B\u001b[1m> :streams:signArchives\u001b[m\u001b[23D\u001b[1B\u001b[2A\u001b[1m<\u001b[0;32;1m====\u001b[0;39;1m---------> 32% EXECUTING [2s]\u001b[m\u001b[34D\u001b[1B> IDLE\u001b[0K\u001b[6D\u001b[1B\u001b[2A\u001b[1m<\u001b[0;32;1m=====\u001b[0;39;1m--------> 43% EXECUTING [2s]\u001b[m\u001b[34D\u001b[1B\u001b[1m> :connect:transforms:copyDependantLibs > Resolve dependencies of :connect:tran\u001b[m\u001b[79D\u001b[1B\u001b[2A\u001b[1m<\u001b[0;32;1m=====\u001b[0;39;1m--------> 45% EXECUTING [2s]\u001b[m\u001b[34D\u001b[1B\u001b[1m> :connect:runtime:compileTestJava\u001b[m\u001b[0K\u001b[34D\u001b[1B\u001b[2A\u001b[1m<\u001b[0;32;1m======\u001b[0;39;1m-------> 52% EXECUTING [2s]\u001b[m\u001b[34D\u001b[1B\u001b[1m> :connect:transforms:compileTestJava\u001b[m\u001b[37D\u001b[1B\u001b[2A\u001b[1m<\u001b[0;32;1m=======\u001b[0;39;1m------> 53% EXECUTING [2s]\u001b[m\u001b[34D\u001b[1B\u001b[1m> :streams:examples:compileJava\u001b[m\u001b[0K\u001b[31D\u001b[1B\u001b[2A\u001b[1m<\u001b[0;32;1m=======\u001b[0;39;1m------> 53% EXECUTING [3s]\u001b[m\u001b[34D\u001b[2B\u001b[2A\u001b[1m<\u001b[0;32;1m=======\u001b[0;39;1m------> 57% EXECUTING [3s]\u001b[m\u001b[34D\u001b[1B\u001b[1m> :streams:streams-scala:compileScala > Resolve dependencies of :streams:stream\u001b[m\u001b[79D\u001b[1B\u001b[2A\u001b[1m<\u001b[0;32;1m========\u001b[0;39;1m-----> 61% EXECUTING [3s]\u001b[m\u001b[34D\u001b[1B> IDLE\u001b[0K\u001b[6D\u001b[1B\u001b[2A\u001b[1m<\u001b[0;32;1m=========\u001b[0;39;1m----> 75% EXECUTING [3s]\u001b[m\u001b[34D\u001b[2B\u001b[2A\u001b[1m<\u001b[0;32;1m============\u001b[0;39;1m-> 92% EXECUTING [3s]\u001b[m\u001b[34D\u001b[1B\u001b[1m> :streams:upgrade-system-tests-24:compileTestJava\u001b[m\u001b[50D\u001b[1B\u001b[2A\u001b[0K\n",
            "Deprecated Gradle features were used in this build, making it incompatible with Gradle 7.0.\u001b[0K\n",
            "Use '--warning-mode all' to show the individual deprecation warnings.\n",
            "See https://docs.gradle.org/6.6/userguide/command_line_interface.html#sec:command_line_warnings\n",
            "\n",
            "\u001b[32;1mBUILD SUCCESSFUL\u001b[0;39m in 4s\n",
            "259 actionable tasks: 6 executed, 253 up-to-date\n",
            "\u001b[0K\n",
            "\u001b[0K\n",
            "\u001b[2A\u001b[1m<\u001b[0;1m-------------> 0% WAITING\u001b[m\u001b[26D\u001b[1B> IDLE\u001b[6D\u001b[1B\u001b[2A\u001b[2K\u001b[1B\u001b[2K\u001b[1A\u001b[m"
          ]
        }
      ]
    }
  ],
  "metadata": {
    "accelerator": "GPU",
    "colab": {
      "collapsed_sections": [],
      "name": "kafka.ipynb",
      "provenance": []
    },
    "kernelspec": {
      "display_name": "Python 3",
      "name": "python3"
    }
  },
  "nbformat": 4,
  "nbformat_minor": 0
}