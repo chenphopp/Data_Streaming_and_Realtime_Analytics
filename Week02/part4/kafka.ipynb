{
  "cells": [
    {
      "cell_type": "code",
      "execution_count": 2,
      "metadata": {
        "id": "YUj0878jPyz7"
      },
      "outputs": [],
      "source": [
        "!curl -sSOL https://archive.apache.org/dist/kafka/2.7.0/kafka_2.13-2.7.0.tgz\n",
        "!tar -xzf kafka_2.13-2.7.0.tgz"
      ]
    },
    {
      "cell_type": "code",
      "source": [
        "!curl -sSOL https://archive.apache.org/dist/kafka/2.7.0/kafka-2.7.0-src.tgz\n",
        "!tar -xzf kafka-2.7.0-src.tgz"
      ],
      "metadata": {
        "id": "eEeCOYkaOKxo"
      },
      "execution_count": 3,
      "outputs": []
    },
    {
      "cell_type": "code",
      "source": [
        "cd /content/kafka-2.7.0-src/"
      ],
      "metadata": {
        "id": "s04n6u3EYQV7",
        "outputId": "6096b480-0ff2-4d16-95a2-60779a7f7de0",
        "colab": {
          "base_uri": "https://localhost:8080/"
        }
      },
      "execution_count": 22,
      "outputs": [
        {
          "output_type": "stream",
          "name": "stdout",
          "text": [
            "/content/kafka-2.7.0-src\n"
          ]
        }
      ]
    },
    {
      "cell_type": "code",
      "source": [
        "!./gradlew assemble -x clients:javadoc streams:test-utils:javadoc streams:streams-scala:scaladoc connect:mirror-client:javadoc connect:api:javadoc core:javadoc"
      ],
      "metadata": {
        "colab": {
          "base_uri": "https://localhost:8080/"
        },
        "id": "qqEZuOarQ_-j",
        "outputId": "dd4a1266-a8b9-4507-bee2-435740d2c707"
      },
      "execution_count": 23,
      "outputs": [
        {
          "output_type": "stream",
          "name": "stdout",
          "text": [
            "\n",
            "\n",
            "\u001b[2A\u001b[1m<\u001b[0;1m-------------> 0% CONFIGURING [51ms]\u001b[m\u001b[37D\u001b[1B\u001b[1m> root project > Resolve dependencies of :classpath\u001b[m\u001b[51D\u001b[1B\u001b[2A\u001b[1m<\u001b[0;1m-------------> 0% CONFIGURING [151ms]\u001b[m\u001b[38D\u001b[1B\u001b[1m> root project\u001b[m\u001b[0K\u001b[14D\u001b[1B\u001b[2A\u001b[1m<\u001b[0;1m-------------> 0% CONFIGURING [251ms]\u001b[m\u001b[38D\u001b[2B\u001b[2A\u001b[1m<\u001b[0;1m-------------> 0% CONFIGURING [351ms]\u001b[m\u001b[38D\u001b[2B\u001b[2A\u001b[1m<\u001b[0;1m-------------> 0% CONFIGURING [451ms]\u001b[m\u001b[38D\u001b[2B\u001b[2A\u001b[1m<\u001b[0;1m-------------> 0% CONFIGURING [551ms]\u001b[m\u001b[38D\u001b[2B\u001b[2A\u001b[1m<\u001b[0;1m-------------> 0% CONFIGURING [652ms]\u001b[m\u001b[38D\u001b[2B\u001b[2A\u001b[1m<\u001b[0;1m-------------> 0% CONFIGURING [751ms]\u001b[m\u001b[38D\u001b[2B\u001b[2A\u001b[1m<\u001b[0;1m-------------> 0% CONFIGURING [851ms]\u001b[m\u001b[38D\u001b[2B\u001b[2A\u001b[1m<\u001b[0;1m-------------> 0% CONFIGURING [951ms]\u001b[m\u001b[38D\u001b[2B\u001b[2A\u001b[1m<\u001b[0;1m-------------> 0% CONFIGURING [1s]\u001b[m\u001b[0K\u001b[35D\u001b[2B\u001b[2A\u001b[0K\n",
            "\u001b[1m> Configure project :\u001b[m\u001b[0K\n",
            "Building project 'core' with Scala version 2.13.3\n",
            "Building project 'streams-scala' with Scala version 2.13.3\n",
            "\u001b[0K\n",
            "\u001b[0K\n",
            "\u001b[2A\u001b[1m<\u001b[0;32;1m===========\u001b[0;39;1m--> 85% CONFIGURING [1s]\u001b[m\u001b[36D\u001b[1B\u001b[1m> :streams:upgrade-system-tests-22\u001b[m\u001b[34D\u001b[1B\u001b[2A\u001b[1m<\u001b[0;32;1m=============\u001b[0;39;1m> 100% CONFIGURING [1s]\u001b[m\u001b[37D\u001b[1B> IDLE\u001b[0K\u001b[6D\u001b[1B\u001b[2A\u001b[1m<\u001b[0;1m-------------> 1% EXECUTING [1s]\u001b[m\u001b[0K\u001b[33D\u001b[1B\u001b[1m> :clients:compileJava\u001b[m\u001b[22D\u001b[1B\u001b[2A\u001b[1m<\u001b[0;1m-------------> 2% EXECUTING [1s]\u001b[m\u001b[33D\u001b[1B\u001b[1m> :clients:srcJar\u001b[m\u001b[0K\u001b[17D\u001b[1B\u001b[2A\u001b[1m<\u001b[0;1m-------------> 6% EXECUTING [1s]\u001b[m\u001b[33D\u001b[1B> IDLE\u001b[0K\u001b[6D\u001b[1B\u001b[2A\u001b[1m<\u001b[0;32;1m=\u001b[0;39;1m------------> 8% EXECUTING [1s]\u001b[m\u001b[33D\u001b[1B\u001b[1m> :core:copyDependantLibs > Resolve dependencies of :core:testRuntime\u001b[m\u001b[69D\u001b[1B\u001b[2A\u001b[1m<\u001b[0;32;1m=\u001b[0;39;1m------------> 9% EXECUTING [1s]\u001b[m\u001b[33D\u001b[1B\u001b[1m> :core:compileTestScala > Resolve files of :core:testCompileClasspath\u001b[m\u001b[70D\u001b[1B\u001b[2A\u001b[1m<\u001b[0;32;1m==\u001b[0;39;1m-----------> 15% EXECUTING [1s]\u001b[m\u001b[34D\u001b[1B\u001b[1m> :connect:api:copyDependantLibs > Resolve dependencies of :connect:api:runtime\u001b[m\u001b[79D\u001b[1B\u001b[2A\u001b[1m<\u001b[0;32;1m==\u001b[0;39;1m-----------> 18% EXECUTING [2s]\u001b[m\u001b[34D\u001b[1B\u001b[1m> :jmh-benchmarks:compileJava\u001b[m\u001b[0K\u001b[29D\u001b[1B\u001b[2A\u001b[1m<\u001b[0;32;1m===\u001b[0;39;1m----------> 25% EXECUTING [2s]\u001b[m\u001b[34D\u001b[1B\u001b[1m> :streams:javadoc\u001b[m\u001b[0K\u001b[18D\u001b[1B\u001b[2A\u001b[1m<\u001b[0;32;1m===\u001b[0;39;1m----------> 28% EXECUTING [2s]\u001b[m\u001b[34D\u001b[1B\u001b[1m> :tools:compileJava\u001b[m\u001b[20D\u001b[1B\u001b[2A\u001b[1m<\u001b[0;32;1m====\u001b[0;39;1m---------> 34% EXECUTING [2s]\u001b[m\u001b[34D\u001b[1B\u001b[1m> :connect:basic-auth-extension:copyDependantLibs > Resolve dependencies of :co\u001b[m\u001b[79D\u001b[1B\u001b[2A\u001b[1m<\u001b[0;32;1m=====\u001b[0;39;1m--------> 43% EXECUTING [2s]\u001b[m\u001b[34D\u001b[1B\u001b[1m> :connect:transforms:copyDependantLibs > Resolve dependencies of :connect:tran\u001b[m\u001b[79D\u001b[1B\u001b[2A\u001b[1m<\u001b[0;32;1m=====\u001b[0;39;1m--------> 46% EXECUTING [2s]\u001b[m\u001b[34D\u001b[1B> IDLE\u001b[0K\u001b[6D\u001b[1B\u001b[2A\u001b[1m<\u001b[0;32;1m=======\u001b[0;39;1m------> 53% EXECUTING [2s]\u001b[m\u001b[34D\u001b[1B\u001b[1m> :streams:examples:compileJava\u001b[m\u001b[31D\u001b[1B\u001b[2A\u001b[1m<\u001b[0;32;1m=======\u001b[0;39;1m------> 55% EXECUTING [2s]\u001b[m\u001b[34D\u001b[1B\u001b[1m> :streams:examples:srcJar\u001b[m\u001b[0K\u001b[26D\u001b[1B\u001b[2A\u001b[1m<\u001b[0;32;1m=======\u001b[0;39;1m------> 58% EXECUTING [3s]\u001b[m\u001b[34D\u001b[1B\u001b[1m> :streams:streams-scala:scaladoc > Resolve dependencies of :streams:streams-sc\u001b[m\u001b[79D\u001b[1B\u001b[2A\u001b[1m<\u001b[0;32;1m=========\u001b[0;39;1m----> 70% EXECUTING [3s]\u001b[m\u001b[34D\u001b[1B> IDLE\u001b[0K\u001b[6D\u001b[1B\u001b[2A\u001b[1m<\u001b[0;32;1m===========\u001b[0;39;1m--> 85% EXECUTING [3s]\u001b[m\u001b[34D\u001b[2B\u001b[2A\u001b[1m<\u001b[0;32;1m============\u001b[0;39;1m-> 97% EXECUTING [3s]\u001b[m\u001b[34D\u001b[2B\u001b[2A\u001b[0K\n",
            "Deprecated Gradle features were used in this build, making it incompatible with Gradle 7.0.\u001b[0K\n",
            "Use '--warning-mode all' to show the individual deprecation warnings.\n",
            "See https://docs.gradle.org/6.6/userguide/command_line_interface.html#sec:command_line_warnings\n",
            "\n",
            "\u001b[32;1mBUILD SUCCESSFUL\u001b[0;39m in 4s\n",
            "259 actionable tasks: 6 executed, 253 up-to-date\n",
            "\u001b[0K\n",
            "\u001b[0K\n",
            "\u001b[2A\u001b[1m<\u001b[0;1m-------------> 0% WAITING\u001b[m\u001b[26D\u001b[1B> IDLE\u001b[6D\u001b[1B\u001b[2A\u001b[2K\u001b[1B\u001b[2K\u001b[1A\u001b[m"
          ]
        }
      ]
    },
    {
      "cell_type": "code",
      "source": [
        "mv streams/examples/build/libs/kafka-streams-examples-2.7.0.jar /content/kafka_2.13-2.7.0/libs"
      ],
      "metadata": {
        "id": "NW-0aS6eU605"
      },
      "execution_count": 24,
      "outputs": []
    },
    {
      "cell_type": "code",
      "source": [
        "cd /content/kafka_2.13-2.7.0"
      ],
      "metadata": {
        "colab": {
          "base_uri": "https://localhost:8080/"
        },
        "id": "NyUvd8DJWkL-",
        "outputId": "d7e959c8-106f-4438-e7b4-0f6aab285d17"
      },
      "execution_count": 25,
      "outputs": [
        {
          "output_type": "stream",
          "name": "stdout",
          "text": [
            "/content/kafka_2.13-2.7.0\n"
          ]
        }
      ]
    },
    {
      "cell_type": "code",
      "source": [
        "!./bin/kafka-run-class.sh org.apache.kafka.streams.examples.wordcount.WordCountDemo"
      ],
      "metadata": {
        "colab": {
          "base_uri": "https://localhost:8080/"
        },
        "id": "V-TVOR_dWUhY",
        "outputId": "6ce6cdfc-81c7-496f-f36d-a2875cdb0789"
      },
      "execution_count": 27,
      "outputs": [
        {
          "output_type": "stream",
          "name": "stdout",
          "text": [
            "ver1.1\n",
            "[2022-02-05 15:00:21,340] WARN Using /tmp directory in the state.dir property can cause failures with writing the checkpoint file due to the fact that this directory can be cleared by the OS (org.apache.kafka.streams.processor.internals.StateDirectory)\n"
          ]
        }
      ]
    }
  ],
  "metadata": {
    "accelerator": "GPU",
    "colab": {
      "collapsed_sections": [],
      "name": "kafka.ipynb",
      "provenance": []
    },
    "kernelspec": {
      "display_name": "Python 3",
      "name": "python3"
    }
  },
  "nbformat": 4,
  "nbformat_minor": 0
}