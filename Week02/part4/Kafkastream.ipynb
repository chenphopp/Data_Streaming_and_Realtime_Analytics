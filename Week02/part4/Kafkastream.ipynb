{
  "nbformat": 4,
  "nbformat_minor": 0,
  "metadata": {
    "colab": {
      "name": "Kafkastream-v1.ipynb",
      "provenance": [],
      "collapsed_sections": [],
      "include_colab_link": true
    },
    "kernelspec": {
      "name": "python3",
      "display_name": "Python 3"
    },
    "language_info": {
      "name": "python"
    }
  },
  "cells": [
    {
      "cell_type": "markdown",
      "metadata": {
        "id": "view-in-github",
        "colab_type": "text"
      },
      "source": [
        "<a href=\"https://colab.research.google.com/github/ekaratnida/Data_Streaming_and_Realtime_Analytics/blob/main/Week02/part4/Kafkastream.ipynb\" target=\"_parent\"><img src=\"https://colab.research.google.com/assets/colab-badge.svg\" alt=\"Open In Colab\"/></a>"
      ]
    },
    {
      "cell_type": "markdown",
      "metadata": {
        "id": "ghpHAIh6FdD-"
      },
      "source": [
        "Kafka stream"
      ]
    },
    {
      "cell_type": "code",
      "metadata": {
        "id": "PZxSm3vtn3Db"
      },
      "source": [
        "!curl -sSOL https://downloads.apache.org/kafka/3.2.1/kafka_2.13-3.2.1.tgz"
      ],
      "execution_count": 43,
      "outputs": []
    },
    {
      "cell_type": "code",
      "metadata": {
        "id": "mja0MDTzo_sj"
      },
      "source": [
        "!tar -xzf kafka_2.13-3.2.1.tgz"
      ],
      "execution_count": 45,
      "outputs": []
    },
    {
      "cell_type": "code",
      "metadata": {
        "colab": {
          "base_uri": "https://localhost:8080/"
        },
        "id": "yllUfZc-pLse",
        "outputId": "fd3f26d1-981d-4353-f6d8-87b027b8daf8"
      },
      "source": [
        "!./kafka_2.13-3.2.1/bin/zookeeper-server-start.sh -daemon ./kafka_2.13-3.2.1/config/zookeeper.properties\n",
        "!./kafka_2.13-3.2.1/bin/kafka-server-start.sh -daemon ./kafka_2.13-3.2.1/config/server.properties\n",
        "!echo \"Waiting for 10 secs until kafka and zookeeper services are up and running\"\n",
        "!sleep 10"
      ],
      "execution_count": 46,
      "outputs": [
        {
          "output_type": "stream",
          "name": "stdout",
          "text": [
            "Waiting for 10 secs until kafka and zookeeper services are up and running\n"
          ]
        }
      ]
    },
    {
      "cell_type": "code",
      "metadata": {
        "id": "ED2B7V89pkdE"
      },
      "source": [
        "!curl -sSOL https://downloads.apache.org/kafka/3.2.1/kafka-3.2.1-src.tgz"
      ],
      "execution_count": 42,
      "outputs": []
    },
    {
      "cell_type": "code",
      "metadata": {
        "id": "o631eVLIprGC"
      },
      "source": [
        "!tar -xzf kafka-3.2.1-src.tgz"
      ],
      "execution_count": 47,
      "outputs": []
    },
    {
      "cell_type": "code",
      "metadata": {
        "id": "uVVoTGmfLjdc",
        "colab": {
          "base_uri": "https://localhost:8080/"
        },
        "outputId": "f27de534-f9a2-4a55-e1a8-8e6681347508"
      },
      "source": [
        "%cd kafka-3.2.1-src/\n",
        "!./gradlew srcJar"
      ],
      "execution_count": 48,
      "outputs": [
        {
          "output_type": "stream",
          "name": "stdout",
          "text": [
            "/kafka-3.2.1-src\n",
            "Downloading https://services.gradle.org/distributions/gradle-7.3.3-all.zip\n",
            "...............10%...............20%...............30%...............40%...............50%...............60%................70%...............80%...............90%...............100%\n",
            "\n",
            "Welcome to Gradle 7.3.3!\n",
            "\n",
            "Here are the highlights of this release:\n",
            " - Easily declare new test suites in Java projects\n",
            " - Support for Java 17\n",
            " - Support for Scala 3\n",
            "\n",
            "For more details see https://docs.gradle.org/7.3.3/release-notes.html\n",
            "\n",
            "Starting a Gradle Daemon (subsequent builds will be faster)\n",
            "\n",
            "\n",
            "\u001b[2A\u001b[1B\u001b[1m> Starting Daemon\u001b[m\u001b[17D\u001b[1B\u001b[1A> IDLE\u001b[0K\u001b[6D\u001b[1B\u001b[2A\u001b[1m<\u001b[0;1m-------------> 0% INITIALIZING [30ms]\u001b[m\u001b[38D\u001b[2B\u001b[2A\u001b[1m<\u001b[0;1m-------------> 0% INITIALIZING [130ms]\u001b[m\u001b[39D\u001b[2B\u001b[2A\u001b[1m<\u001b[0;1m-------------> 0% INITIALIZING [230ms]\u001b[m\u001b[39D\u001b[2B\u001b[2A\u001b[1m<\u001b[0;1m-------------> 0% INITIALIZING [330ms]\u001b[m\u001b[39D\u001b[2B\u001b[2A\u001b[1m<\u001b[0;1m-------------> 0% INITIALIZING [430ms]\u001b[m\u001b[39D\u001b[2B\u001b[2A\u001b[1m<\u001b[0;1m-------------> 0% INITIALIZING [533ms]\u001b[m\u001b[39D\u001b[2B\u001b[2A\u001b[1m<\u001b[0;1m-------------> 0% INITIALIZING [635ms]\u001b[m\u001b[39D\u001b[2B\u001b[2A\u001b[1m<\u001b[0;1m-------------> 0% INITIALIZING [730ms]\u001b[m\u001b[39D\u001b[2B\u001b[2A\u001b[1m<\u001b[0;1m-------------> 0% INITIALIZING [830ms]\u001b[m\u001b[39D\u001b[2B\u001b[2A\u001b[1m<\u001b[0;1m-------------> 0% INITIALIZING [930ms]\u001b[m\u001b[39D\u001b[2B\u001b[2A\u001b[1m<\u001b[0;1m-------------> 0% INITIALIZING [1s]\u001b[m\u001b[0K\u001b[36D\u001b[2B\u001b[1A\u001b[1m> Evaluating settings\u001b[m\u001b[21D\u001b[1B\u001b[2A\u001b[1m<\u001b[0;1m-------------> 0% INITIALIZING [2s]\u001b[m\u001b[36D\u001b[2B\u001b[2A\u001b[1m<\u001b[0;1m-------------> 0% INITIALIZING [3s]\u001b[m\u001b[36D\u001b[2B\u001b[2A\u001b[1m<\u001b[0;1m-------------> 0% INITIALIZING [4s]\u001b[m\u001b[36D\u001b[2B\u001b[1A\u001b[1m> Evaluating settings > Compiling settings file 'settings.gradle'\u001b[m\u001b[65D\u001b[1B\u001b[2A\u001b[1m<\u001b[0;1m-------------> 0% INITIALIZING [5s]\u001b[m\u001b[36D\u001b[2B\u001b[1A\u001b[1m> Evaluating settings\u001b[m\u001b[0K\u001b[21D\u001b[1B\u001b[1A\u001b[1m> Evaluating settings > Compiling settings file 'settings.gradle'\u001b[m\u001b[65D\u001b[1B\u001b[2A\u001b[1m<\u001b[0;1m-------------> 0% INITIALIZING [6s]\u001b[m\u001b[36D\u001b[2B\u001b[1A\u001b[1m> Evaluating settings\u001b[m\u001b[0K\u001b[21D\u001b[1B\u001b[2A\u001b[1m<\u001b[0;1m-------------> 0% CONFIGURING [6s]\u001b[m\u001b[0K\u001b[35D\u001b[1B> IDLE\u001b[0K\u001b[6D\u001b[1B\u001b[1A\u001b[1m> Loading projects\u001b[m\u001b[18D\u001b[1B\u001b[1A> IDLE\u001b[0K\u001b[6D\u001b[1B\u001b[1A\u001b[1m> root project\u001b[m\u001b[14D\u001b[1B\u001b[2A\u001b[1m<\u001b[0;1m-------------> 0% CONFIGURING [7s]\u001b[m\u001b[35D\u001b[2B\u001b[1A\u001b[1m> root project > Compiling build file 'build.gradle'\u001b[m\u001b[52D\u001b[1B\u001b[2A\u001b[1m<\u001b[0;1m-------------> 0% CONFIGURING [8s]\u001b[m\u001b[35D\u001b[2B\u001b[2A\u001b[1m<\u001b[0;1m-------------> 0% CONFIGURING [9s]\u001b[m\u001b[35D\u001b[2B\u001b[2A\u001b[1m<\u001b[0;1m-------------> 0% CONFIGURING [10s]\u001b[m\u001b[36D\u001b[2B\u001b[2A\u001b[1m<\u001b[0;1m-------------> 0% CONFIGURING [11s]\u001b[m\u001b[36D\u001b[2B\u001b[2A\u001b[1m<\u001b[0;1m-------------> 0% CONFIGURING [12s]\u001b[m\u001b[36D\u001b[2B\u001b[2A\u001b[1m<\u001b[0;1m-------------> 0% CONFIGURING [13s]\u001b[m\u001b[36D\u001b[2B\u001b[2A\u001b[1m<\u001b[0;1m-------------> 0% CONFIGURING [14s]\u001b[m\u001b[36D\u001b[2B\u001b[2A\u001b[1m<\u001b[0;1m-------------> 0% CONFIGURING [15s]\u001b[m\u001b[36D\u001b[2B\u001b[2A\u001b[1m<\u001b[0;1m-------------> 0% CONFIGURING [16s]\u001b[m\u001b[36D\u001b[2B\u001b[1A\u001b[1m> root project\u001b[m\u001b[0K\u001b[14D\u001b[1B\u001b[2A\u001b[1m<\u001b[0;1m-------------> 0% CONFIGURING [17s]\u001b[m\u001b[36D\u001b[1B\u001b[1m> root project > Compiling script 'gradle/dependencies.gradle'\u001b[m\u001b[62D\u001b[1B\u001b[1A\u001b[1m> root project\u001b[m\u001b[0K\u001b[14D\u001b[1B\u001b[1A\u001b[1m> root project > Resolve dependencies of detachedConfiguration1\u001b[m\u001b[63D\u001b[1B\u001b[1A\u001b[1m> root project > Resolve dependencies of detachedConfiguration1 > com.diffplug.\u001b[m\u001b[79D\u001b[1B\u001b[2A\u001b[1m<\u001b[0;1m-------------> 0% CONFIGURING [18s]\u001b[m\u001b[36D\u001b[2B\u001b[1A\u001b[1m> root project > Resolve dependencies of detachedConfiguration1\u001b[m\u001b[0K\u001b[63D\u001b[1B\u001b[2A\u001b[1m<\u001b[0;1m-------------> 0% CONFIGURING [19s]\u001b[m\u001b[36D\u001b[1B\u001b[1m> root project > Resolve dependencies of detachedConfiguration2 > com.github.be\u001b[m\u001b[79D\u001b[1B\u001b[1A\u001b[1m> root project > Resolve dependencies of detachedConfiguration2\u001b[m\u001b[0K\u001b[63D\u001b[1B\u001b[1A\u001b[1m> root project > Resolve dependencies of detachedConfiguration3 > org.owasp.dep\u001b[m\u001b[79D\u001b[1B\u001b[1A\u001b[1m> root project > Resolve dependencies of detachedConfiguration3\u001b[m\u001b[0K\u001b[63D\u001b[1B\u001b[1A\u001b[1m> root project > Resolve dependencies of detachedConfiguration4 > org.nosphere.\u001b[m\u001b[79D\u001b[1B\u001b[1A\u001b[1m> root project > Resolve dependencies of detachedConfiguration4\u001b[m\u001b[0K\u001b[63D\u001b[1B\u001b[1A\u001b[1m> root project > Resolve dependencies of detachedConfiguration5 > com.github.sp\u001b[m\u001b[79D\u001b[1B\u001b[1A\u001b[1m> root project > Resolve dependencies of detachedConfiguration5\u001b[m\u001b[0K\u001b[63D\u001b[1B\u001b[1A\u001b[1m> root project > Resolve dependencies of detachedConfiguration6 > org.gradle.te\u001b[m\u001b[79D\u001b[1B\u001b[1A\u001b[1m> root project > Resolve dependencies of detachedConfiguration7 > org.scoverage\u001b[m\u001b[79D\u001b[1B\u001b[2A\u001b[1m<\u001b[0;1m-------------> 0% CONFIGURING [20s]\u001b[m\u001b[36D\u001b[2B\u001b[1A\u001b[1m> root project > Resolve dependencies of detachedConfiguration8 > com.github.jo\u001b[m\u001b[79D\u001b[1B\u001b[1A\u001b[1m> root project\u001b[m\u001b[0K\u001b[14D\u001b[1B\u001b[1A\u001b[1m> root project > Resolve dependencies of :classpath > grgit-core-4.1.1.pom\u001b[m\u001b[74D\u001b[1B\u001b[1A\u001b[1m> root project > Resolve dependencies of :classpath\u001b[m\u001b[0K\u001b[51D\u001b[1B\u001b[1A\u001b[1m> root project > Resolve dependencies of :classpath > spotless-plugin-gradle-5.\u001b[m\u001b[79D\u001b[1B\u001b[1A\u001b[1m> root project > Resolve dependencies of :classpath > gradle-versions-plugin-0.\u001b[m\u001b[79D\u001b[1B\u001b[2A\u001b[1m<\u001b[0;1m-------------> 0% CONFIGURING [21s]\u001b[m\u001b[36D\u001b[2B\u001b[1A\u001b[1m> root project > Resolve dependencies of :classpath > creadur-rat-gradle-0.7.0.\u001b[m\u001b[79D\u001b[1B\u001b[1A\u001b[1m> root project > Resolve dependencies of :classpath\u001b[m\u001b[0K\u001b[51D\u001b[1B\u001b[1A\u001b[1m> root project > Resolve dependencies of :classpath > creadur-rat-gradle-0.7.0.\u001b[m\u001b[79D\u001b[1B\u001b[1A\u001b[1m> root project > Resolve dependencies of :classpath > spotbugs-gradle-plugin-5.\u001b[m\u001b[79D\u001b[1B\u001b[1A\u001b[1m> root project > Resolve dependencies of :classpath > test-retry-gradle-plugin-\u001b[m\u001b[79D\u001b[1B\u001b[2A\u001b[1m<\u001b[0;1m-------------> 0% CONFIGURING [22s]\u001b[m\u001b[36D\u001b[1B\u001b[1m> root project > Resolve dependencies of :classpath > gradle-scoverage-7.0.0.mo\u001b[m\u001b[79D\u001b[1B\u001b[1A\u001b[1m> root project > Resolve dependencies of :classpath > shadow-7.1.2.pom\u001b[m\u001b[0K\u001b[70D\u001b[1B\u001b[1A\u001b[1m> root project > Resolve dependencies of :classpath\u001b[m\u001b[0K\u001b[51D\u001b[1B\u001b[1A\u001b[1m> root project > Resolve dependencies of :classpath > xstream-parent-1.4.17.pom\u001b[m\u001b[79D\u001b[1B\u001b[1A\u001b[1m> root project > Resolve dependencies of :classpath\u001b[m\u001b[0K\u001b[51D\u001b[1B\u001b[2A\u001b[1m<\u001b[0;1m-------------> 0% CONFIGURING [23s]\u001b[m\u001b[36D\u001b[2B\u001b[1A\u001b[1m> root project > Resolve dependencies of :classpath > log4j-2.17.1.pom\u001b[m\u001b[70D\u001b[1B\u001b[1A\u001b[1m> root project > Resolve dependencies of :classpath\u001b[m\u001b[0K\u001b[51D\u001b[1B\u001b[1A\u001b[1m> root project > Resolve dependencies of :classpath > mxparser-1.2.1.pom\u001b[m\u001b[72D\u001b[1B\u001b[1A\u001b[1m> root project > Resolve dependencies of :classpath\u001b[m\u001b[0K\u001b[51D\u001b[1B\n",
            "\u001b[3A\u001b[36C\u001b[0K\u001b[36D\u001b[1B\u001b[1m> root project > Resolve dependencies of :classpath > commons-validator-1.7.pom\u001b[m\u001b[79D\u001b[1B\u001b[1m> root project > Resolve dependencies of :classpath > ossindex-service-bom-1.8.\u001b[m\u001b[79D\u001b[1B\u001b[3A\u001b[1m<\u001b[0;1m-------------> 0% CONFIGURING [24s]\u001b[m\u001b[36D\u001b[1B> IDLE\u001b[0K\u001b[6D\u001b[1B\u001b[1m> root project > Resolve dependencies of :classpath\u001b[m\u001b[0K\u001b[51D\u001b[1B\u001b[1A\u001b[1m> root project > Resolve dependencies of :classpath > jackson-module-afterburne\u001b[m\u001b[79D\u001b[1B\u001b[1A\u001b[1m> root project > Resolve dependencies of :classpath > jackson-bom-2.13.1.pom\u001b[m\u001b[0K\u001b[76D\u001b[1B\u001b[1A\u001b[1m> root project > Resolve dependencies of :classpath\u001b[m\u001b[0K\u001b[51D\u001b[1B\u001b[1A\u001b[1m> root project > Resolve dependencies of :classpath > jackson-databind-2.13.1.m\u001b[m\u001b[79D\u001b[1B\u001b[2A\u001b[1m> root project > Resolve dependencies of :classpath > json-1.1.4.pom\u001b[m\u001b[68D\u001b[1B\u001b[1m> root project > Resolve dependencies of :classpath > lucene-solr-grandparent-8\u001b[m\u001b[79D\u001b[1B\u001b[2A> IDLE\u001b[0K\u001b[6D\u001b[1B\u001b[1m> root project > Resolve dependencies of :classpath\u001b[m\u001b[0K\u001b[51D\u001b[1B\u001b[1A\u001b[1m> root project > Resolve dependencies of :classpath > commons-compress-1.21.pom\u001b[m\u001b[79D\u001b[1B\u001b[1A\u001b[1m> root project > Resolve dependencies of :classpath > velocity-master-4.pom\u001b[m\u001b[0K\u001b[75D\u001b[1B\u001b[3A\u001b[1m<\u001b[0;1m-------------> 0% CONFIGURING [25s]\u001b[m\u001b[36D\u001b[2B\u001b[1m> root project > Resolve dependencies of :classpath > junit-bom-5.7.1.module\u001b[m\u001b[76D\u001b[1B\u001b[1A\u001b[1m> root project > Resolve dependencies of :classpath\u001b[m\u001b[0K\u001b[51D\u001b[1B\u001b[1A\u001b[1m> root project > Resolve dependencies of :classpath > commons-codec-1.15.pom\u001b[m\u001b[76D\u001b[1B\u001b[1A\u001b[1m> root project > Resolve dependencies of :classpath\u001b[m\u001b[0K\u001b[51D\u001b[1B\u001b[1A\u001b[1m> root project > Resolve dependencies of :classpath > groovy-3.0.8.pom\u001b[m\u001b[70D\u001b[1B\u001b[1A\u001b[1m> root project > Resolve dependencies of :classpath\u001b[m\u001b[0K\u001b[51D\u001b[1B\u001b[1A\u001b[1m> root project > Resolve dependencies of :classpath > junit-bom-5.8.0-M1.pom\u001b[m\u001b[76D\u001b[1B\u001b[1A\u001b[1m> root project > Resolve dependencies of :classpath\u001b[m\u001b[0K\u001b[51D\u001b[1B\u001b[3A\u001b[1m<\u001b[0;1m-------------> 0% CONFIGURING [26s]\u001b[m\u001b[36D\u001b[3B\u001b[1A\u001b[1m> root project > Resolve dependencies of :classpath > checker-qual-3.12.0.modul\u001b[m\u001b[79D\u001b[1B\u001b[1A\u001b[1m> root project > Resolve dependencies of :classpath\u001b[m\u001b[0K\u001b[51D\u001b[1B\u001b[2A\u001b[1m> root project > Resolve files of :classpath > log4j-core-2.17.1.jar\u001b[m\u001b[68D\u001b[1B\u001b[1m> root project > Resolve files of :classpath > grgit-core-4.1.1.jar\u001b[m\u001b[67D\u001b[1B\u001b[2A\u001b[1m> root project > Resolve files of :classpath > log4j-core-2.17.1.jar > 407.4 Ki\u001b[m\u001b[79D\u001b[1B> IDLE\u001b[0K\u001b[6D\u001b[1B\u001b[2A\u001b[1m> root project > Resolve files of :classpath\u001b[m\u001b[0K\u001b[44D\u001b[2B\u001b[2A\u001b[1m> root project > Resolve files of :classpath > jdom2-2.0.6.jar > 271.4 KiB/297.\u001b[m\u001b[79D\u001b[1B\u001b[1m> root project > Resolve files of :classpath > asm-commons-9.2.jar\u001b[m\u001b[66D\u001b[1B\u001b[2A\u001b[1m> root project > Resolve files of :classpath > plexus-utils-3.4.1.jar > 191.4 K\u001b[m\u001b[79D\u001b[1B\u001b[1m> root project > Resolve files of :classpath > ant-1.10.11.jar > 527.4 KiB/2.1 \u001b[m\u001b[79D\u001b[1B\u001b[3A\u001b[1m<\u001b[0;1m-------------> 0% CONFIGURING [27s]\u001b[m\u001b[36D\u001b[1B\u001b[1m> root project > Resolve files of :classpath > groovy-xml-3.0.8.jar > 239.4 KiB\u001b[m\u001b[79D\u001b[1B> IDLE\u001b[0K\u001b[6D\u001b[1B\u001b[2A\u001b[1m> root project > Resolve files of :classpath > commons-collections4-4.4.jar > 5\u001b[m\u001b[79D\u001b[1B\u001b[1m> root project > Resolve files of :classpath > commons-compress-1.21.jar\u001b[m\u001b[72D\u001b[1B\u001b[2A\u001b[1m> root project > Resolve files of :classpath > commons-lang3-3.12.0.jar > 351.4\u001b[m\u001b[79D\u001b[1B\u001b[1m> root project > Resolve files of :classpath > commons-compress-1.21.jar > 994.\u001b[m\u001b[79D\u001b[1B\u001b[2A\u001b[1m> root project > Resolve files of :classpath > lucene-analyzers-common-8.11.1.j\u001b[m\u001b[79D\u001b[1B\u001b[1m> root project > Resolve files of :classpath > lucene-core-8.11.1.jar\u001b[m\u001b[0K\u001b[69D\u001b[1B\u001b[2A> IDLE\u001b[0K\u001b[6D\u001b[1B\u001b[1m> root project > Resolve files of :classpath > lucene-core-8.11.1.jar > 2.5 MiB\u001b[m\u001b[79D\u001b[1B\u001b[2A\u001b[1m> root project > Resolve files of :classpath > jackson-module-afterburner-2.13.\u001b[m\u001b[79D\u001b[1B\u001b[1m> root project > Resolve files of :classpath > jackson-core-2.13.1.jar > 263.4 \u001b[m\u001b[79D\u001b[1B\u001b[2A\u001b[1m> root project > Resolve files of :classpath > guava-31.0.1-jre.jar > 1.3 MiB/2\u001b[m\u001b[79D\u001b[1B> IDLE\u001b[0K\u001b[6D\u001b[1B\u001b[2A\u001b[1m> root project > Resolve files of :classpath > commons-codec-1.15.jar > 239.4 K\u001b[m\u001b[79D\u001b[1B\u001b[1m> root project > Resolve files of :classpath > ant-launcher-1.10.11.jar\u001b[m\u001b[71D\u001b[1B\u001b[2A\u001b[1m> root project > Resolve files of :classpath > lucene-queries-8.11.1.jar\u001b[m\u001b[0K\u001b[72D\u001b[1B\u001b[1m> root project > Resolve files of :classpath > groovy-3.0.8.jar > 2.9 MiB/7.6 M\u001b[m\u001b[79D\u001b[1B\u001b[2A> IDLE\u001b[0K\u001b[6D\u001b[1B\u001b[1m> root project > Resolve files of :classpath\u001b[m\u001b[0K\u001b[44D\u001b[1B\u001b[3A\u001b[1m<\u001b[0;1m-------------> 0% CONFIGURING [28s]\u001b[m\u001b[36D\u001b[2B\u001b[1m> root project > Resolve files of :classpath > checker-qual-3.12.0.jar\u001b[m\u001b[70D\u001b[1B\u001b[1A\u001b[1m> root project > Resolve files of :classpath > spotless-plugin-gradle-5.12.5.ja\u001b[m\u001b[79D\u001b[1B\u001b[2A\u001b[1m> root project > Resolve files of :classpath > gradle-versions-plugin-0.42.0.ja\u001b[m\u001b[79D\u001b[1B\u001b[1m> root project > Resolve files of :classpath > shadow-7.1.2.jar\u001b[m\u001b[0K\u001b[63D\u001b[1B\u001b[1A\u001b[1m> root project > Resolve files of :classpath > shadow-7.1.2.jar > 2.1 MiB/5.8 M\u001b[m\u001b[79D\u001b[1B\u001b[2A> IDLE\u001b[0K\u001b[6D\u001b[1B\u001b[1m> root project > Resolve files of :classpath > shadow-7.1.2.jar > 4.9 MiB/5.8 M\u001b[m\u001b[79D\u001b[1B\u001b[2A\u001b[1m> root project > Resolve files of :classpath > org.eclipse.jgit-5.13.0.20210908\u001b[m\u001b[79D\u001b[1B> IDLE\u001b[0K\u001b[6D\u001b[1B\u001b[2A\u001b[1m> root project > Resolve files of :classpath > creadur-rat-gradle-0.7.0.jar\u001b[m\u001b[0K\u001b[75D\u001b[1B\u001b[1m> root project > Resolve files of :classpath > spotbugs-gradle-plugin-5.0.5.jar\u001b[m\u001b[79D\u001b[1B\u001b[2A\u001b[1m> root project > Resolve files of :classpath > test-retry-gradle-plugin-1.3.1.j\u001b[m\u001b[79D\u001b[2B\u001b[2A> IDLE\u001b[0K\u001b[6D\u001b[1B\u001b[1m> root project > Resolve files of :classpath > dependency-check-core-6.5.3.jar \u001b[m\u001b[79D\u001b[1B\u001b[1A\u001b[1m> root project\u001b[m\u001b[0K\u001b[14D\u001b[1B\u001b[3A\u001b[1m<\u001b[0;1m-------------> 0% CONFIGURING [29s]\u001b[m\u001b[36D\u001b[3B\u001b[3A\u001b[1m<\u001b[0;1m-------------> 0% CONFIGURING [30s]\u001b[m\u001b[36D\u001b[3B\u001b[3A\u001b[1m<\u001b[0;1m-------------> 0% CONFIGURING [31s]\u001b[m\u001b[36D\u001b[3B\u001b[3A\u001b[1m<\u001b[0;1m-------------> 0% CONFIGURING [32s]\u001b[m\u001b[36D\u001b[3B\u001b[3A\u001b[1m<\u001b[0;1m-------------> 0% CONFIGURING [33s]\u001b[m\u001b[36D\u001b[3B\u001b[3A\u001b[1m<\u001b[0;1m-------------> 0% CONFIGURING [34s]\u001b[m\u001b[36D\u001b[3B\u001b[3A\u001b[1m<\u001b[0;1m-------------> 0% CONFIGURING [35s]\u001b[m\u001b[36D\u001b[3B\u001b[3A\u001b[1m<\u001b[0;1m-------------> 0% CONFIGURING [36s]\u001b[m\u001b[36D\u001b[3B\u001b[3A\u001b[1m<\u001b[0;1m-------------> 0% CONFIGURING [37s]\u001b[m\u001b[36D\u001b[3B\u001b[3A\u001b[1m<\u001b[0;1m-------------> 0% CONFIGURING [38s]\u001b[m\u001b[36D\u001b[3B\u001b[3A\u001b[1m<\u001b[0;1m-------------> 0% CONFIGURING [39s]\u001b[m\u001b[36D\u001b[3B\u001b[3A\u001b[1m<\u001b[0;1m-------------> 0% CONFIGURING [40s]\u001b[m\u001b[36D\u001b[3B\u001b[1A\u001b[1m> root project > Compiling build file 'build.gradle'\u001b[m\u001b[52D\u001b[1B\u001b[3A\u001b[1m<\u001b[0;1m-------------> 0% CONFIGURING [41s]\u001b[m\u001b[36D\u001b[3B\u001b[3A\u001b[1m<\u001b[0;1m-------------> 0% CONFIGURING [42s]\u001b[m\u001b[36D\u001b[3B\u001b[3A\u001b[1m<\u001b[0;1m-------------> 0% CONFIGURING [43s]\u001b[m\u001b[36D\u001b[3B\u001b[3A\u001b[1m<\u001b[0;1m-------------> 0% CONFIGURING [44s]\u001b[m\u001b[36D\u001b[3B\u001b[3A\u001b[1m<\u001b[0;1m-------------> 0% CONFIGURING [45s]\u001b[m\u001b[36D\u001b[3B\u001b[3A\u001b[1m<\u001b[0;1m-------------> 0% CONFIGURING [46s]\u001b[m\u001b[36D\u001b[3B\u001b[3A\u001b[1m<\u001b[0;1m-------------> 0% CONFIGURING [47s]\u001b[m\u001b[36D\u001b[3B\u001b[1A\u001b[1m> root project\u001b[m\u001b[0K\u001b[14D\u001b[1B\u001b[3A\u001b[1m<\u001b[0;1m-------------> 0% CONFIGURING [48s]\u001b[m\u001b[36D\u001b[3B\u001b[1A\u001b[1m> root project > Compiling script 'wrapper.gradle'\u001b[m\u001b[50D\u001b[1B\u001b[1A\u001b[1m> root project\u001b[m\u001b[0K\u001b[14D\u001b[1B\u001b[3A\u001b[1m<\u001b[0;1m-------------> 0% CONFIGURING [49s]\u001b[m\u001b[36D\u001b[3B\u001b[3A\u001b[0K\n",
            "\u001b[1m> Configure project :\u001b[m\u001b[0K\n",
            "Starting build with version 3.2.1 (commit id unknown) using Gradle 7.3.3, Java 11 and Scala 2.13.6\u001b[0K\n",
            "Build properties: maxParallelForks=2, maxScalacThreads=2, maxTestRetries=0\n",
            "\u001b[0K\n",
            "\u001b[0K\n",
            "\u001b[0K\n",
            "\u001b[3A\u001b[1m<\u001b[0;1m-------------> 0% CONFIGURING [49s]\u001b[m\u001b[36D\u001b[1B> IDLE\u001b[6D\u001b[1B\u001b[1m> root project\u001b[m\u001b[14D\u001b[1B\u001b[3A\u001b[1m<\u001b[0;1m-------------> 0% CONFIGURING [50s]\u001b[m\u001b[36D\u001b[3B\u001b[3A\u001b[1m<\u001b[0;1m-------------> 0% CONFIGURING [51s]\u001b[m\u001b[36D\u001b[3B\u001b[3A\u001b[1m<\u001b[0;1m-------------> 0% CONFIGURING [52s]\u001b[m\u001b[36D\u001b[3B\u001b[3A\u001b[1m<\u001b[0;1m-------------> 0% CONFIGURING [53s]\u001b[m\u001b[36D\u001b[3B\u001b[3A\u001b[1m<\u001b[0;1m-------------> 0% CONFIGURING [54s]\u001b[m\u001b[36D\u001b[3B\u001b[3A\u001b[1m<\u001b[0;32;1m==\u001b[0;39;1m-----------> 15% CONFIGURING [54s]\u001b[m\u001b[37D\u001b[2B\u001b[1m> :log4j-appender\u001b[m\u001b[17D\u001b[1B\u001b[3A\u001b[1m<\u001b[0;32;1m====\u001b[0;39;1m---------> 37% CONFIGURING [54s]\u001b[m\u001b[37D\u001b[2B\u001b[1m> :connect:basic-auth-extension\u001b[m\u001b[31D\u001b[1B\u001b[3A\u001b[1m<\u001b[0;32;1m=========\u001b[0;39;1m----> 75% CONFIGURING [54s]\u001b[m\u001b[37D\u001b[2B\u001b[1m> :streams:upgrade-system-tests-20\u001b[m\u001b[34D\u001b[1B\u001b[3A\u001b[1m<\u001b[0;32;1m=============\u001b[0;39;1m> 100% CONFIGURING [54s]\u001b[m\u001b[38D\u001b[2B> IDLE\u001b[0K\u001b[6D\u001b[1B\u001b[3A\u001b[1m<\u001b[0;1m-------------> 0% EXECUTING [55s]\u001b[m\u001b[0K\u001b[34D\u001b[3B\u001b[2A\u001b[1m> :clients:srcJar\u001b[m\u001b[17D\u001b[1B\u001b[1m> :connect:srcJar\u001b[m\u001b[17D\u001b[1B\u001b[3A\u001b[1m<\u001b[0;1m-------------> 2% EXECUTING [55s]\u001b[m\u001b[34D\u001b[2B\u001b[1m> :core:srcJar\u001b[m\u001b[0K\u001b[14D\u001b[1B\u001b[3A\u001b[1m<\u001b[0;1m-------------> 2% EXECUTING [56s]\u001b[m\u001b[34D\u001b[3B\u001b[3A\u001b[1m<\u001b[0;1m-------------> 4% EXECUTING [56s]\u001b[m\u001b[34D\u001b[2B\u001b[1m> :examples:srcJar\u001b[m\u001b[18D\u001b[1B\u001b[3A\u001b[1m<\u001b[0;1m-------------> 6% EXECUTING [56s]\u001b[m\u001b[34D\u001b[2B\u001b[1m> :generator:srcJar\u001b[m\u001b[19D\u001b[1B\u001b[3A\u001b[1m<\u001b[0;32;1m=\u001b[0;39;1m------------> 13% EXECUTING [56s]\u001b[m\u001b[35D\u001b[1B\u001b[1m> :metadata:srcJar\u001b[m\u001b[18D\u001b[1B\u001b[1m> :log4j-appender:srcJar\u001b[m\u001b[24D\u001b[1B\u001b[3A\u001b[1m<\u001b[0;32;1m==\u001b[0;39;1m-----------> 15% EXECUTING [56s]\u001b[m\u001b[35D\u001b[2B\u001b[1m> :raft:srcJar\u001b[m\u001b[0K\u001b[14D\u001b[1B\u001b[3A\u001b[1m<\u001b[0;32;1m==\u001b[0;39;1m-----------> 22% EXECUTING [56s]\u001b[m\u001b[35D\u001b[1B\u001b[1m> :storage:srcJar\u001b[m\u001b[0K\u001b[17D\u001b[1B\u001b[1m> :shell:srcJar\u001b[m\u001b[15D\u001b[1B\u001b[3A\u001b[1m<\u001b[0;32;1m===\u001b[0;39;1m----------> 27% EXECUTING [56s]\u001b[m\u001b[35D\u001b[1B\u001b[1m> :tools:srcJar\u001b[m\u001b[0K\u001b[15D\u001b[1B\u001b[1m> :streams:srcJar\u001b[m\u001b[17D\u001b[1B\u001b[3A\u001b[1m<\u001b[0;32;1m===\u001b[0;39;1m----------> 29% EXECUTING [56s]\u001b[m\u001b[35D\u001b[1B> IDLE\u001b[0K\u001b[6D\u001b[2B\u001b[2A\u001b[1m> :trogdor:srcJar\u001b[m\u001b[17D\u001b[2B\u001b[3A\u001b[1m<\u001b[0;32;1m====\u001b[0;39;1m---------> 31% EXECUTING [57s]\u001b[m\u001b[35D\u001b[1B\u001b[1m> :connect:api:srcJar\u001b[m\u001b[21D\u001b[2B\u001b[3A\u001b[1m<\u001b[0;32;1m====\u001b[0;39;1m---------> 36% EXECUTING [57s]\u001b[m\u001b[35D\u001b[1B> IDLE\u001b[0K\u001b[6D\u001b[2B\u001b[2A\u001b[1m> :connect:file:srcJar\u001b[m\u001b[22D\u001b[2B\u001b[3A\u001b[1m<\u001b[0;32;1m====\u001b[0;39;1m---------> 36% EXECUTING [58s]\u001b[m\u001b[35D\u001b[3B\u001b[3A\u001b[1m<\u001b[0;32;1m======\u001b[0;39;1m-------> 47% EXECUTING [58s]\u001b[m\u001b[35D\u001b[1B\u001b[1m> :connect:transforms:srcJar\u001b[m\u001b[28D\u001b[1B\u001b[1m> :connect:runtime:srcJar\u001b[m\u001b[25D\u001b[1B\u001b[3A\u001b[1m<\u001b[0;32;1m======\u001b[0;39;1m-------> 50% EXECUTING [58s]\u001b[m\u001b[35D\u001b[1B\u001b[1m> :storage:api:srcJar\u001b[m\u001b[0K\u001b[21D\u001b[2B\u001b[3A\u001b[1m<\u001b[0;32;1m=======\u001b[0;39;1m------> 54% EXECUTING [58s]\u001b[m\u001b[35D\u001b[1B\u001b[1m> :streams:streams-scala:srcJar\u001b[m\u001b[31D\u001b[2B\u001b[3A\u001b[1m<\u001b[0;32;1m=========\u001b[0;39;1m----> 72% EXECUTING [58s]\u001b[m\u001b[35D\u001b[1B> IDLE\u001b[0K\u001b[6D\u001b[1B\u001b[1m> :streams:upgrade-system-tests-11:srcJar\u001b[m\u001b[41D\u001b[1B\u001b[3A\u001b[1m<\u001b[0;32;1m============\u001b[0;39;1m-> 93% EXECUTING [58s]\u001b[m\u001b[35D\u001b[1B\u001b[1m> :streams:upgrade-system-tests-30:srcJar\u001b[m\u001b[41D\u001b[1B\u001b[1m> :streams:upgrade-system-tests-28:srcJar\u001b[m\u001b[41D\u001b[1B\u001b[3A\u001b[0K\n",
            "Deprecated Gradle features were used in this build, making it incompatible with Gradle 8.0.\u001b[0K\n",
            "\u001b[0K\n",
            "You can use '--warning-mode all' to show the individual deprecation warnings and determine if they come from your own scripts or plugins.\n",
            "\n",
            "See https://docs.gradle.org/7.3.3/userguide/command_line_interface.html#sec:command_line_warnings\n",
            "\n",
            "\u001b[32;1mBUILD SUCCESSFUL\u001b[0;39m in 1m 9s\n",
            "44 actionable tasks: 44 executed\n",
            "\u001b[0K\n",
            "\u001b[0K\n",
            "\u001b[0K\n",
            "\u001b[3A\u001b[1m<\u001b[0;32;1m=============\u001b[0;39;1m> 100% EXECUTING [58s]\u001b[m\u001b[36D\u001b[1B> IDLE\u001b[6D\u001b[1B> IDLE\u001b[6D\u001b[1B\u001b[3A\u001b[1m<\u001b[0;1m-------------> 0% WAITING\u001b[m\u001b[0K\u001b[26D\u001b[3B\u001b[3A\u001b[2K\u001b[1B\u001b[2K\u001b[1B\u001b[2K\u001b[2A\u001b[m"
          ]
        }
      ]
    },
    {
      "cell_type": "code",
      "source": [
        "%pwd"
      ],
      "metadata": {
        "colab": {
          "base_uri": "https://localhost:8080/",
          "height": 35
        },
        "id": "V-mwLKdBGMZF",
        "outputId": "8d5a6933-4300-4388-c876-03e7009c9b6e"
      },
      "execution_count": 49,
      "outputs": [
        {
          "output_type": "execute_result",
          "data": {
            "text/plain": [
              "'/kafka-3.2.1-src'"
            ],
            "application/vnd.google.colaboratory.intrinsic+json": {
              "type": "string"
            }
          },
          "metadata": {},
          "execution_count": 49
        }
      ]
    },
    {
      "cell_type": "code",
      "metadata": {
        "id": "RLhuPSmtQsif",
        "colab": {
          "base_uri": "https://localhost:8080/"
        },
        "outputId": "89ca8cbe-2c6c-4f1f-cc52-92c69896e640"
      },
      "source": [
        "%cp streams/examples/build/libs/kafka-streams-examples-3.2.1-sources.jar ../kafka_2.13-3.2.1/libs/\n",
        "%cd .."
      ],
      "execution_count": 50,
      "outputs": [
        {
          "output_type": "stream",
          "name": "stdout",
          "text": [
            "/\n"
          ]
        }
      ]
    },
    {
      "cell_type": "code",
      "metadata": {
        "colab": {
          "base_uri": "https://localhost:8080/"
        },
        "id": "nChFWK7mUwI5",
        "outputId": "9b21ef35-ac41-4784-895f-d2fd23985a46"
      },
      "source": [
        "!./kafka_2.13-3.2.1/bin/kafka-topics.sh --create --bootstrap-server 127.0.0.1:9092 --replication-factor 1 --partitions 1 --topic streams-plaintext-input"
      ],
      "execution_count": 51,
      "outputs": [
        {
          "output_type": "stream",
          "name": "stdout",
          "text": [
            "Created topic streams-plaintext-input.\n"
          ]
        }
      ]
    },
    {
      "cell_type": "code",
      "metadata": {
        "id": "vJcXPqzqVMoH"
      },
      "source": [
        "!./kafka_2.13-3.2.1/bin/kafka-run-class.sh -daemon -name org.apache.kafka.streams.examples.wordcount.WordCountDemo"
      ],
      "execution_count": 66,
      "outputs": []
    },
    {
      "cell_type": "code",
      "metadata": {
        "colab": {
          "base_uri": "https://localhost:8080/"
        },
        "id": "AYBUw3nSXu2I",
        "outputId": "b0891587-6b71-4591-8af0-305a0bde17c4"
      },
      "source": [
        "!./kafka_2.13-3.2.1/bin/kafka-console-producer.sh --bootstrap-server 127.0.0.1:9092 --topic streams-plaintext-input"
      ],
      "execution_count": 67,
      "outputs": [
        {
          "output_type": "stream",
          "name": "stdout",
          "text": [
            ">aaa\n",
            ">bbb\n",
            ">aaa\n",
            ">"
          ]
        }
      ]
    },
    {
      "cell_type": "code",
      "metadata": {
        "id": "fHPfyXuTXRSZ",
        "colab": {
          "base_uri": "https://localhost:8080/"
        },
        "outputId": "e3bb2d5c-2ed8-4919-adcc-c9b1b83bd884"
      },
      "source": [
        "!./kafka_2.13-3.2.1/bin/kafka-console-consumer.sh --bootstrap-server 127.0.0.1:9092 --topic streams-wordcount-output --from-beginning --formatter kafka.tools.DefaultMessageFormatter --property print.key=true --property print.value=true --skip-message-on-error --property key.deserializer=org.apache.kafka.common.serialization.StringDeserializer --property value.deserializer=org.apache.kafka.common.serialization.LongDeserializer"
      ],
      "execution_count": 68,
      "outputs": [
        {
          "output_type": "stream",
          "name": "stdout",
          "text": [
            "aaa\t1\n",
            "bbb\t1\n",
            "aaa\t2\n",
            "Processed a total of 3 messages\n"
          ]
        }
      ]
    }
  ]
}