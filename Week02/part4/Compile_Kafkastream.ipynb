{
  "cells": [
    {
      "cell_type": "markdown",
      "metadata": {
        "id": "view-in-github",
        "colab_type": "text"
      },
      "source": [
        "<a href=\"https://colab.research.google.com/github/ekaratnida/Data_Streaming_and_Realtime_Analytics/blob/main/Week02/part4/Compile_Kafkastream.ipynb\" target=\"_parent\"><img src=\"https://colab.research.google.com/assets/colab-badge.svg\" alt=\"Open In Colab\"/></a>"
      ]
    },
    {
      "cell_type": "markdown",
      "metadata": {
        "id": "ghpHAIh6FdD-"
      },
      "source": [
        "Kafka stream"
      ]
    },
    {
      "cell_type": "code",
      "source": [
        "from google.colab import drive\n",
        "drive.mount('/content/drive')"
      ],
      "metadata": {
        "id": "7owzsqNb3Ehq",
        "colab": {
          "base_uri": "https://localhost:8080/"
        },
        "outputId": "f2f3d638-ba42-4d5b-b970-5f68c7ed066f"
      },
      "execution_count": 1,
      "outputs": [
        {
          "output_type": "stream",
          "name": "stdout",
          "text": [
            "Mounted at /content/drive\n"
          ]
        }
      ]
    },
    {
      "cell_type": "code",
      "execution_count": 2,
      "metadata": {
        "id": "ED2B7V89pkdE"
      },
      "outputs": [],
      "source": [
        "!curl -sSOL https://archive.apache.org/dist/kafka/3.2.1/kafka-3.2.1-src.tgz"
      ]
    },
    {
      "cell_type": "code",
      "source": [
        "!tar -xvf kafka-3.2.1-src.tgz"
      ],
      "metadata": {
        "id": "Ls0bZ55I2Znz"
      },
      "execution_count": null,
      "outputs": []
    },
    {
      "cell_type": "code",
      "source": [
        "%pwd\n",
        "%cd kafka-3.2.1-src"
      ],
      "metadata": {
        "colab": {
          "base_uri": "https://localhost:8080/"
        },
        "id": "XaWjvG10KKkc",
        "outputId": "c31ba1ae-294b-4f5d-e730-640440bbe949"
      },
      "execution_count": 4,
      "outputs": [
        {
          "output_type": "stream",
          "name": "stdout",
          "text": [
            "/content/kafka-3.2.1-src\n"
          ]
        }
      ]
    },
    {
      "cell_type": "markdown",
      "source": [
        "1. Goto and modify your preferred java sourcecode at\n",
        "/content/kafka-3.2.1-src/streams/examples/src/main/java/org/apache/kafka/streams/examples/*.java\n",
        "E.g., change broker from localhost to amazon."
      ],
      "metadata": {
        "id": "FGlVG2Ry0ggJ"
      }
    },
    {
      "cell_type": "code",
      "execution_count": null,
      "metadata": {
        "id": "uVVoTGmfLjdc"
      },
      "outputs": [],
      "source": [
        "#!./gradlew assemble\n",
        "!./gradlew assemble -x clients:javadoc streams:test-utils:javadoc streams:streams-scala:scaladoc connect:mirror-client:javadoc connect:api:javadoc core:javadoc"
      ]
    },
    {
      "cell_type": "markdown",
      "source": [
        "2. After finished building, download \"kafka-streams-exampls-3.2.1.jar\" from /\"content/kafka-3.2.1-src/streams/examples/build/libs/\" to your local computer at \"kafka_2.13-3.2.1\\libs\"\n",
        "3. Run the built jar file by using the command \"kafka_2.13-3.2.1\\bin\\windows\\kafka-run-class.bat org.apache.kafka.streams.examples.pageview.PageViewUntypedDemo\" under your kafka bin path"
      ],
      "metadata": {
        "id": "lpFZ2TNo3i-q"
      }
    }
  ],
  "metadata": {
    "colab": {
      "collapsed_sections": [],
      "provenance": [],
      "include_colab_link": true
    },
    "kernelspec": {
      "display_name": "Python 3",
      "name": "python3"
    },
    "language_info": {
      "name": "python"
    }
  },
  "nbformat": 4,
  "nbformat_minor": 0
}