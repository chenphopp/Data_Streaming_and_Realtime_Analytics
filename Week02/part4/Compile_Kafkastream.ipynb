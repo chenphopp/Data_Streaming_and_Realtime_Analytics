{
  "cells": [
    {
      "cell_type": "markdown",
      "metadata": {
        "id": "view-in-github",
        "colab_type": "text"
      },
      "source": [
        "<a href=\"https://colab.research.google.com/github/ekaratnida/Data_Streaming_and_Realtime_Analytics/blob/main/Week02/part4/Compile_Kafkastream.ipynb\" target=\"_parent\"><img src=\"https://colab.research.google.com/assets/colab-badge.svg\" alt=\"Open In Colab\"/></a>"
      ]
    },
    {
      "cell_type": "markdown",
      "metadata": {
        "id": "ghpHAIh6FdD-"
      },
      "source": [
        "Kafka stream"
      ]
    },
    {
      "cell_type": "code",
      "source": [
        "from google.colab import drive\n",
        "drive.mount('/content/drive')"
      ],
      "metadata": {
        "id": "7owzsqNb3Ehq",
        "colab": {
          "base_uri": "https://localhost:8080/"
        },
        "outputId": "9c08e552-0c0c-478d-b5d5-282f3c3a5413"
      },
      "execution_count": 2,
      "outputs": [
        {
          "output_type": "stream",
          "name": "stdout",
          "text": [
            "Mounted at /content/drive\n"
          ]
        }
      ]
    },
    {
      "cell_type": "code",
      "source": [
        "%pwd"
      ],
      "metadata": {
        "colab": {
          "base_uri": "https://localhost:8080/",
          "height": 35
        },
        "id": "q-xAXcm7zlYl",
        "outputId": "8cdb6ece-d981-4784-f8da-e7e478a1a018"
      },
      "execution_count": 4,
      "outputs": [
        {
          "output_type": "execute_result",
          "data": {
            "text/plain": [
              "'/content'"
            ],
            "application/vnd.google.colaboratory.intrinsic+json": {
              "type": "string"
            }
          },
          "metadata": {},
          "execution_count": 4
        }
      ]
    },
    {
      "cell_type": "code",
      "execution_count": 5,
      "metadata": {
        "id": "PZxSm3vtn3Db"
      },
      "outputs": [],
      "source": [
        "!curl -sSOL https://downloads.apache.org/kafka/3.2.1/kafka_2.13-3.2.1.tgz"
      ]
    },
    {
      "cell_type": "code",
      "source": [
        "!chmod 777 kafka_2.13-3.2.1.tgz\n",
        "!ls -l"
      ],
      "metadata": {
        "colab": {
          "base_uri": "https://localhost:8080/"
        },
        "id": "6MjyBenC1bYb",
        "outputId": "00c96911-b654-4aea-92ee-62a80199ca99"
      },
      "execution_count": 6,
      "outputs": [
        {
          "output_type": "stream",
          "name": "stdout",
          "text": [
            "total 12\n",
            "drwx------ 6 root root 4096 Sep 26 14:08 drive\n",
            "-rwxrwxrwx 1 root root  196 Sep 26 14:09 kafka_2.13-3.2.1.tgz\n",
            "drwxr-xr-x 1 root root 4096 Sep 22 13:42 sample_data\n"
          ]
        }
      ]
    },
    {
      "cell_type": "code",
      "execution_count": 9,
      "metadata": {
        "id": "mja0MDTzo_sj",
        "colab": {
          "base_uri": "https://localhost:8080/"
        },
        "outputId": "4e5542d1-23d1-43f5-f804-a295c894f7c0"
      },
      "outputs": [
        {
          "output_type": "stream",
          "name": "stdout",
          "text": [
            "tar: This does not look like a tar archive\n",
            "\n",
            "gzip: stdin: not in gzip format\n",
            "tar: Child returned status 1\n",
            "tar: Error is not recoverable: exiting now\n"
          ]
        }
      ],
      "source": [
        "!tar xvf kafka_2.13-3.2.1.tgz"
      ]
    },
    {
      "cell_type": "code",
      "execution_count": null,
      "metadata": {
        "colab": {
          "base_uri": "https://localhost:8080/"
        },
        "id": "yllUfZc-pLse",
        "outputId": "35ba56ad-3416-4291-b101-1d2700328ade"
      },
      "outputs": [
        {
          "output_type": "stream",
          "name": "stdout",
          "text": [
            "/bin/bash: ./kafka_2.13-3.2.1/bin/zookeeper-server-start.sh: No such file or directory\n",
            "/bin/bash: ./kafka_2.13-3.2.1/bin/kafka-server-start.sh: No such file or directory\n",
            "Waiting for 10 secs until kafka and zookeeper services are up and running\n"
          ]
        }
      ],
      "source": [
        "!./kafka_2.13-3.2.1/bin/zookeeper-server-start.sh -daemon ./kafka_2.13-3.2.1/config/zookeeper.properties\n",
        "!./kafka_2.13-3.2.1/bin/kafka-server-start.sh -daemon ./kafka_2.13-3.2.1/config/server.properties\n",
        "!echo \"Waiting for 10 secs until kafka and zookeeper services are up and running\"\n",
        "!sleep 10"
      ]
    },
    {
      "cell_type": "code",
      "execution_count": 11,
      "metadata": {
        "id": "ED2B7V89pkdE"
      },
      "outputs": [],
      "source": [
        "!curl -sSOL https://archive.apache.org/dist/kafka/3.2.1/kafka-3.2.1-src.tgz"
      ]
    },
    {
      "cell_type": "code",
      "source": [
        "!tar -xvf kafka-3.2.1-src.tgz"
      ],
      "metadata": {
        "id": "Ls0bZ55I2Znz"
      },
      "execution_count": null,
      "outputs": []
    },
    {
      "cell_type": "code",
      "source": [
        "%pwd\n",
        "%cd kafka-3.2.1-src"
      ],
      "metadata": {
        "colab": {
          "base_uri": "https://localhost:8080/",
          "height": 35
        },
        "id": "XaWjvG10KKkc",
        "outputId": "e8c0f08e-439b-45e5-f7a1-11d68cecc62a"
      },
      "execution_count": 20,
      "outputs": [
        {
          "output_type": "execute_result",
          "data": {
            "text/plain": [
              "'/content/kafka-3.2.1-src'"
            ],
            "application/vnd.google.colaboratory.intrinsic+json": {
              "type": "string"
            }
          },
          "metadata": {},
          "execution_count": 20
        }
      ]
    },
    {
      "cell_type": "code",
      "execution_count": 23,
      "metadata": {
        "colab": {
          "base_uri": "https://localhost:8080/"
        },
        "id": "uVVoTGmfLjdc",
        "outputId": "f46d12ff-1648-41ff-8343-a479a7bc90a2"
      },
      "outputs": [
        {
          "output_type": "stream",
          "name": "stdout",
          "text": [
            "\n",
            "\n",
            "\u001b[2A\u001b[1m<\u001b[0;1m-------------> 0% CONFIGURING [78ms]\u001b[m\u001b[37D\u001b[1B\u001b[1m> Loading projects\u001b[m\u001b[18D\u001b[1B\u001b[2A\u001b[1m<\u001b[0;1m-------------> 0% CONFIGURING [178ms]\u001b[m\u001b[38D\u001b[1B\u001b[1m> root project > Resolve dependencies of :classpath\u001b[m\u001b[51D\u001b[1B\u001b[2A\u001b[1m<\u001b[0;1m-------------> 0% CONFIGURING [278ms]\u001b[m\u001b[38D\u001b[1B\u001b[1m> root project\u001b[m\u001b[0K\u001b[14D\u001b[1B\u001b[2A\u001b[1m<\u001b[0;1m-------------> 0% CONFIGURING [379ms]\u001b[m\u001b[38D\u001b[2B\u001b[2A\u001b[1m<\u001b[0;1m-------------> 0% CONFIGURING [480ms]\u001b[m\u001b[38D\u001b[2B\u001b[2A\u001b[1m<\u001b[0;1m-------------> 0% CONFIGURING [578ms]\u001b[m\u001b[38D\u001b[2B\u001b[2A\u001b[1m<\u001b[0;1m-------------> 0% CONFIGURING [678ms]\u001b[m\u001b[38D\u001b[2B\u001b[2A\u001b[1m<\u001b[0;1m-------------> 0% CONFIGURING [778ms]\u001b[m\u001b[38D\u001b[2B\u001b[2A\u001b[1m<\u001b[0;1m-------------> 0% CONFIGURING [878ms]\u001b[m\u001b[38D\u001b[2B\u001b[2A\u001b[1m<\u001b[0;1m-------------> 0% CONFIGURING [978ms]\u001b[m\u001b[38D\u001b[2B\u001b[2A\u001b[1m<\u001b[0;1m-------------> 0% CONFIGURING [1s]\u001b[m\u001b[0K\u001b[35D\u001b[2B\u001b[2A\u001b[0K\n",
            "\u001b[1m> Configure project :\u001b[m\u001b[0K\n",
            "Starting build with version 3.2.1 (commit id unknown) using Gradle 7.3.3, Java 11 and Scala 2.13.6\n",
            "Build properties: maxParallelForks=2, maxScalacThreads=2, maxTestRetries=0\n",
            "\u001b[0K\n",
            "\u001b[0K\n",
            "\u001b[2A\u001b[1m<\u001b[0;32;1m=\u001b[0;39;1m------------> 8% CONFIGURING [1s]\u001b[m\u001b[35D\u001b[1B\u001b[1m> :examples\u001b[m\u001b[11D\u001b[1B\u001b[2A\u001b[1m<\u001b[0;32;1m========\u001b[0;39;1m-----> 68% CONFIGURING [2s]\u001b[m\u001b[36D\u001b[1B\u001b[1m> :streams:upgrade-system-tests-0110\u001b[m\u001b[36D\u001b[1B\u001b[2A\u001b[1m<\u001b[0;32;1m=============\u001b[0;39;1m> 100% CONFIGURING [2s]\u001b[m\u001b[37D\u001b[1B> IDLE\u001b[0K\u001b[6D\u001b[1B\n",
            "\u001b[3A\u001b[1m<\u001b[0;1m-------------> 1% EXECUTING [2s]\u001b[m\u001b[0K\u001b[33D\u001b[1B\u001b[1m> :generator:compileJava\u001b[m\u001b[24D\u001b[1B\u001b[1m> :jar\u001b[m\u001b[6D\u001b[1B\u001b[3A\u001b[1m<\u001b[0;1m-------------> 4% EXECUTING [2s]\u001b[m\u001b[33D\u001b[1B\u001b[1m> :clients:processResources\u001b[m\u001b[27D\u001b[1B\u001b[1m> :clients:processMessages\u001b[m\u001b[26D\u001b[1B\u001b[3A\u001b[1m<\u001b[0;32;1m=\u001b[0;39;1m------------> 8% EXECUTING [2s]\u001b[m\u001b[33D\u001b[1B\u001b[1m> :metadata:processTestResources\u001b[m\u001b[32D\u001b[1B\u001b[1m> :clients:compileJava\u001b[m\u001b[0K\u001b[22D\u001b[1B\u001b[3A\u001b[1m<\u001b[0;32;1m=\u001b[0;39;1m------------> 13% EXECUTING [2s]\u001b[m\u001b[34D\u001b[1B\u001b[1m> :raft:compileJava > Resolve dependencies of :raft:annotationProcessor\u001b[m\u001b[71D\u001b[1B\u001b[1m> :storage:api:compileJava\u001b[m\u001b[26D\u001b[1B\u001b[3A\u001b[1m<\u001b[0;32;1m==\u001b[0;39;1m-----------> 15% EXECUTING [2s]\u001b[m\u001b[34D\u001b[1B\u001b[1m> :clients:compileTestJava > Resolve dependencies of :clients:testCompileClassp\u001b[m\u001b[79D\u001b[1B\u001b[1m> :core:compileScala\u001b[m\u001b[0K\u001b[20D\u001b[1B\u001b[3A\u001b[1m<\u001b[0;32;1m==\u001b[0;39;1m-----------> 17% EXECUTING [2s]\u001b[m\u001b[34D\u001b[1B\u001b[1m> :raft:compileTestJava > Resolve dependencies of :raft:testCompileClasspath\u001b[m\u001b[0K\u001b[76D\u001b[1B\u001b[1m> :core:compileScala > Resolve dependencies of :core:zinc\u001b[m\u001b[57D\u001b[1B\u001b[3A\u001b[1m<\u001b[0;32;1m==\u001b[0;39;1m-----------> 22% EXECUTING [2s]\u001b[m\u001b[34D\u001b[1B\u001b[1m> :examples:compileJava > Resolve dependencies of :examples:compileClasspath\u001b[m\u001b[76D\u001b[1B\u001b[1m> :core:copyDependantLibs > Resolve dependencies of :core:testRuntimeClasspath \u001b[m\u001b[79D\u001b[1B\u001b[3A\u001b[1m<\u001b[0;32;1m===\u001b[0;39;1m----------> 25% EXECUTING [3s]\u001b[m\u001b[34D\u001b[1B\u001b[1m> :streams:compileJava\u001b[m\u001b[0K\u001b[22D\u001b[2B\u001b[3A\u001b[1m<\u001b[0;32;1m===\u001b[0;39;1m----------> 28% EXECUTING [3s]\u001b[m\u001b[34D\u001b[1B\u001b[1m> :shell:compileJava > Resolve dependencies of :shell:compileClasspath\u001b[m\u001b[70D\u001b[1B\u001b[1m> :core:copyDependantLibs > Resolve files of :core:testRuntimeClasspath\u001b[m\u001b[0K\u001b[71D\u001b[1B\u001b[3A\u001b[1m<\u001b[0;32;1m====\u001b[0;39;1m---------> 32% EXECUTING [3s]\u001b[m\u001b[34D\u001b[1B\u001b[1m> :core:compileTestScala\u001b[m\u001b[0K\u001b[24D\u001b[1B\u001b[1m> :shell:copyDependantLibs\u001b[m\u001b[0K\u001b[26D\u001b[1B\u001b[3A\u001b[1m<\u001b[0;32;1m=====\u001b[0;39;1m--------> 39% EXECUTING [3s]\u001b[m\u001b[34D\u001b[1B> IDLE\u001b[0K\u001b[6D\u001b[1B\u001b[1m> :trogdor:compileJava > Resolve files of :trogdor:compileClasspath\u001b[m\u001b[67D\u001b[1B\u001b[3A\u001b[1m<\u001b[0;32;1m=====\u001b[0;39;1m--------> 42% EXECUTING [3s]\u001b[m\u001b[34D\u001b[2B\u001b[1m> :trogdor:copyDependantLibs > Resolve dependencies of :trogdor:runtimeClasspat\u001b[m\u001b[79D\u001b[1B\u001b[3A\u001b[1m<\u001b[0;32;1m======\u001b[0;39;1m-------> 48% EXECUTING [3s]\u001b[m\u001b[34D\u001b[1B\u001b[1m> :connect:json:copyDependantLibs > Resolve dependencies of :connect:json:testR\u001b[m\u001b[79D\u001b[1B\u001b[1m> :connect:file:copyDependantLibs\u001b[m\u001b[0K\u001b[33D\u001b[1B\u001b[3A\u001b[1m<\u001b[0;32;1m=======\u001b[0;39;1m------> 55% EXECUTING [3s]\u001b[m\u001b[34D\u001b[1B\u001b[1m> :connect:transforms:copyDependantLibs > Resolve dependencies of :connect:tran\u001b[m\u001b[79D\u001b[1B\u001b[1m> :connect:runtime:compileTestJava\u001b[m\u001b[34D\u001b[1B\u001b[3A\u001b[1m<\u001b[0;32;1m=======\u001b[0;39;1m------> 60% EXECUTING [3s]\u001b[m\u001b[34D\u001b[1B\u001b[1m> :streams:streams-scala:compileScala\u001b[m\u001b[0K\u001b[37D\u001b[1B\u001b[1m> :connect:runtime:copyDependantLibs > Resolve dependencies of :connect:runtime\u001b[m\u001b[79D\u001b[1B\u001b[3A\u001b[1m<\u001b[0;32;1m=========\u001b[0;39;1m----> 71% EXECUTING [3s]\u001b[m\u001b[34D\u001b[1B\u001b[1m> :streams:upgrade-system-tests-0102:jar\u001b[m\u001b[40D\u001b[1B\u001b[1m> :connect:mirror:copyDependantLibs > Resolve dependencies of :connect:mirror:t\u001b[m\u001b[79D\u001b[1B\u001b[3A\u001b[1m<\u001b[0;32;1m============\u001b[0;39;1m-> 92% EXECUTING [3s]\u001b[m\u001b[34D\u001b[1B\u001b[1m> :streams:upgrade-system-tests-27:assemble\u001b[m\u001b[43D\u001b[1B\u001b[1m> :streams:upgrade-system-tests-28:compileJava\u001b[m\u001b[0K\u001b[46D\u001b[1B\u001b[3A\u001b[1m<\u001b[0;32;1m============\u001b[0;39;1m-> 98% EXECUTING [4s]\u001b[m\u001b[34D\u001b[1B\u001b[1m> :streams:test-utils:javadoc\u001b[m\u001b[0K\u001b[29D\u001b[1B\u001b[1m> :streams:streams-scala:scaladoc\u001b[m\u001b[0K\u001b[33D\u001b[1B\u001b[3A\u001b[1m<\u001b[0;32;1m============\u001b[0;39;1m-> 98% EXECUTING [5s]\u001b[m\u001b[34D\u001b[3B\u001b[3A\u001b[1m<\u001b[0;32;1m============\u001b[0;39;1m-> 98% EXECUTING [6s]\u001b[m\u001b[34D\u001b[3B\u001b[3A\u001b[1m<\u001b[0;32;1m============\u001b[0;39;1m-> 98% EXECUTING [7s]\u001b[m\u001b[34D\u001b[3B\u001b[3A\u001b[1m<\u001b[0;32;1m============\u001b[0;39;1m-> 98% EXECUTING [8s]\u001b[m\u001b[34D\u001b[3B\u001b[3A\u001b[1m<\u001b[0;32;1m============\u001b[0;39;1m-> 98% EXECUTING [9s]\u001b[m\u001b[34D\u001b[3B\u001b[3A\u001b[1m<\u001b[0;32;1m============\u001b[0;39;1m-> 98% EXECUTING [10s]\u001b[m\u001b[35D\u001b[3B\u001b[2A\u001b[1m> :connect:mirror-client:javadoc\u001b[m\u001b[32D\u001b[2B\u001b[3A\u001b[1m<\u001b[0;32;1m============\u001b[0;39;1m-> 98% EXECUTING [11s]\u001b[m\u001b[35D\u001b[3B\u001b[3A\u001b[1m<\u001b[0;32;1m============\u001b[0;39;1m-> 98% EXECUTING [12s]\u001b[m\u001b[35D\u001b[3B\u001b[3A\u001b[1m<\u001b[0;32;1m============\u001b[0;39;1m-> 98% EXECUTING [13s]\u001b[m\u001b[35D\u001b[3B\u001b[3A\u001b[1m<\u001b[0;32;1m============\u001b[0;39;1m-> 98% EXECUTING [14s]\u001b[m\u001b[35D\u001b[3B\u001b[3A\u001b[1m<\u001b[0;32;1m============\u001b[0;39;1m-> 98% EXECUTING [15s]\u001b[m\u001b[35D\u001b[3B\u001b[3A\u001b[1m<\u001b[0;32;1m============\u001b[0;39;1m-> 98% EXECUTING [16s]\u001b[m\u001b[35D\u001b[3B\u001b[3A\u001b[1m<\u001b[0;32;1m============\u001b[0;39;1m-> 98% EXECUTING [17s]\u001b[m\u001b[35D\u001b[3B\u001b[3A\u001b[1m<\u001b[0;32;1m============\u001b[0;39;1m-> 98% EXECUTING [18s]\u001b[m\u001b[35D\u001b[3B\u001b[2A\u001b[1m> :connect:api:javadoc\u001b[m\u001b[0K\u001b[22D\u001b[2B\u001b[3A\u001b[1m<\u001b[0;32;1m============\u001b[0;39;1m-> 98% EXECUTING [19s]\u001b[m\u001b[35D\u001b[3B\u001b[3A\u001b[1m<\u001b[0;32;1m============\u001b[0;39;1m-> 98% EXECUTING [20s]\u001b[m\u001b[35D\u001b[3B\u001b[3A\u001b[1m<\u001b[0;32;1m============\u001b[0;39;1m-> 98% EXECUTING [21s]\u001b[m\u001b[35D\u001b[3B\u001b[3A\u001b[1m<\u001b[0;32;1m============\u001b[0;39;1m-> 98% EXECUTING [22s]\u001b[m\u001b[35D\u001b[3B\u001b[3A\u001b[1m<\u001b[0;32;1m============\u001b[0;39;1m-> 98% EXECUTING [23s]\u001b[m\u001b[35D\u001b[3B\u001b[3A\u001b[1m<\u001b[0;32;1m============\u001b[0;39;1m-> 98% EXECUTING [24s]\u001b[m\u001b[35D\u001b[3B\u001b[3A\u001b[0K\n",
            "\u001b[1m> Task :streams:streams-scala:scaladoc\u001b[m\u001b[0K\n",
            "warning: 10 feature warnings; re-run with -feature for details\u001b[0K\n",
            "\u001b[0K\n",
            "\u001b[0K\n",
            "\u001b[0K\n",
            "\u001b[3A\u001b[1m<\u001b[0;32;1m============\u001b[0;39;1m-> 98% EXECUTING [24s]\u001b[m\u001b[35D\u001b[1B\u001b[1m> :connect:api:javadoc\u001b[m\u001b[22D\u001b[1B\u001b[1m> :streams:streams-scala:scaladoc\u001b[m\u001b[33D\u001b[1B\u001b[3A\u001b[1m<\u001b[0;32;1m============\u001b[0;39;1m-> 98% EXECUTING [25s]\u001b[m\u001b[35D\u001b[3B\u001b[3A\u001b[1m<\u001b[0;32;1m============\u001b[0;39;1m-> 98% EXECUTING [26s]\u001b[m\u001b[35D\u001b[3B\u001b[3A\u001b[1m<\u001b[0;32;1m============\u001b[0;39;1m-> 98% EXECUTING [27s]\u001b[m\u001b[35D\u001b[3B\u001b[3A/content/kafka-3.2.1-src/streams/streams-scala/src/main/scala/org/apache/kafka/streams/scala/kstream/KStream.scala:48: warning: Could not find any member to link for \"org.apache.kafka.streams.kstream.KStream\".\u001b[0K\n",
            "/**\u001b[0K\n",
            "^\u001b[0K\n",
            "\u001b[0K\n",
            "\u001b[0K\n",
            "\u001b[0K\n",
            "\u001b[3A\u001b[1m<\u001b[0;32;1m============\u001b[0;39;1m-> 98% EXECUTING [28s]\u001b[m\u001b[35D\u001b[1B\u001b[1m> :connect:api:javadoc\u001b[m\u001b[22D\u001b[1B\u001b[1m> :streams:streams-scala:scaladoc\u001b[m\u001b[33D\u001b[1B\u001b[3A/content/kafka-3.2.1-src/streams/streams-scala/src/main/scala/org/apache/kafka/streams/scala/kstream/KTable.scala:32: warning: Could not find any member to link for \"org.apache.kafka.streams.kstream.KTable\".\u001b[0K\n",
            "/**\u001b[0K\n",
            "^\u001b[0K\n",
            "\u001b[0K\n",
            "\u001b[0K\n",
            "\u001b[0K\n",
            "\u001b[3A\u001b[1m<\u001b[0;32;1m============\u001b[0;39;1m-> 98% EXECUTING [28s]\u001b[m\u001b[35D\u001b[1B\u001b[1m> :connect:api:javadoc\u001b[m\u001b[22D\u001b[1B\u001b[1m> :streams:streams-scala:scaladoc\u001b[m\u001b[33D\u001b[1B\u001b[3A\u001b[1m<\u001b[0;32;1m============\u001b[0;39;1m-> 98% EXECUTING [29s]\u001b[m\u001b[35D\u001b[3B\u001b[3A/content/kafka-3.2.1-src/streams/streams-scala/src/main/scala/org/apache/kafka/streams/scala/kstream/BranchedKStream.scala:27: warning: The link target \"branch\" is ambiguous. Several members fit the target:\u001b[0K\n",
            "(predicate: (K, V) => Boolean, branched: org.apache.kafka.streams.scala.kstream.Branched[K,V]): org.apache.kafka.streams.scala.kstream.BranchedKStream[K,V] in class BranchedKStream [chosen]\u001b[0K\n",
            "(predicate: (K, V) => Boolean): org.apache.kafka.streams.scala.kstream.BranchedKStream[K,V] in class BranchedKStream\u001b[0K\n",
            "\n",
            "\n",
            "Quick crash course on using Scaladoc links\n",
            "==========================================\n",
            "Disambiguating terms and types: Suffix terms with '$' and types with '!' in case both names are in use:\n",
            " - [[scala.collection.immutable.List!.apply class List's apply method]] and\n",
            " - [[scala.collection.immutable.List$.apply object List's apply method]]\n",
            "Disambiguating overloaded members: If a term is overloaded, you can indicate the first part of its signature followed by *:\n",
            " - [[[scala.collection.immutable.List$.fill[A](Int)(=> A):List[A]* Fill with a single parameter]]]\n",
            " - [[[scala.collection.immutable.List$.fill[A](Int, Int)(=> A):List[List[A]]* Fill with a two parameters]]]\n",
            "Notes:\n",
            " - you can use any number of matching square brackets to avoid interference with the signature\n",
            " - you can use \\\\. to escape dots in prefixes (don't forget to use * at the end to match the signature!)\n",
            " - you can use \\\\# to escape hashes, otherwise they will be considered as delimiters, like dots.\n",
            "/**\n",
            "^\n",
            "/content/kafka-3.2.1-src/streams/streams-scala/src/main/scala/org/apache/kafka/streams/scala/kstream/BranchedKStream.scala:27: warning: The link target \"defaultBranch\" is ambiguous. Several members fit the target:\n",
            "(branched: org.apache.kafka.streams.scala.kstream.Branched[K,V]): Map[String,org.apache.kafka.streams.scala.kstream.KStream[K,V]] in class BranchedKStream [chosen]\n",
            "(): Map[String,org.apache.kafka.streams.scala.kstream.KStream[K,V]] in class BranchedKStream\n",
            "\n",
            "\n",
            "/**\n",
            "^\n",
            "/content/kafka-3.2.1-src/streams/streams-scala/src/main/scala/org/apache/kafka/streams/scala/kstream/BranchedKStream.scala:27: warning: The link target \"KStream.filter\" is ambiguous. Several members fit the target:\n",
            "(predicate: (K, V) => Boolean, named: org.apache.kafka.streams.scala.kstream.Named): org.apache.kafka.streams.scala.kstream.KStream[K,V] in class KStream [chosen]\n",
            "(predicate: (K, V) => Boolean): org.apache.kafka.streams.scala.kstream.KStream[K,V] in class KStream\n",
            "\n",
            "\n",
            "/**\n",
            "^\n",
            "\u001b[0K\n",
            "\u001b[0K\n",
            "\u001b[0K\n",
            "\u001b[3A\u001b[1m<\u001b[0;32;1m============\u001b[0;39;1m-> 98% EXECUTING [29s]\u001b[m\u001b[35D\u001b[1B\u001b[1m> :connect:api:javadoc\u001b[m\u001b[22D\u001b[1B\u001b[1m> :streams:streams-scala:scaladoc\u001b[m\u001b[33D\u001b[1B\u001b[3A\u001b[1m<\u001b[0;32;1m============\u001b[0;39;1m-> 98% EXECUTING [30s]\u001b[m\u001b[35D\u001b[3B\u001b[3A/content/kafka-3.2.1-src/streams/streams-scala/src/main/scala/org/apache/kafka/streams/scala/kstream/StreamJoined.scala:71: warning: Could not find any member to link for \"Serde\".\u001b[0K\n",
            "\u001b[2B\u001b[0K\n",
            "\u001b[3A\u001b[1m<\u001b[0;32;1m============\u001b[0;39;1m-> 98% EXECUTING [30s]\u001b[m\u001b[35D\u001b[1B\u001b[1m> :connect:api:javadoc\u001b[m\u001b[0K\u001b[22D\u001b[1B\u001b[1m> :streams:streams-scala:scaladoc\u001b[m\u001b[33D\u001b[1B\u001b[3A  /**\u001b[0K\n",
            "  ^\u001b[0K\n",
            "/content/kafka-3.2.1-src/streams/streams-scala/src/main/scala/org/apache/kafka/streams/scala/kstream/StreamJoined.scala:45: warning: Could not find any member to link for \"Serde\".\u001b[0K\n",
            "  /**\n",
            "  ^\n",
            "\u001b[0K\n",
            "\u001b[0K\n",
            "\u001b[0K\n",
            "\u001b[3A\u001b[1m<\u001b[0;32;1m============\u001b[0;39;1m-> 98% EXECUTING [30s]\u001b[m\u001b[35D\u001b[1B\u001b[1m> :connect:api:javadoc\u001b[m\u001b[22D\u001b[1B\u001b[1m> :streams:streams-scala:scaladoc\u001b[m\u001b[33D\u001b[1B\u001b[3A/content/kafka-3.2.1-src/streams/streams-scala/src/main/scala/org/apache/kafka/streams/scala/kstream/StreamJoined.scala:25: warning: Could not find any member to link for \"Serde\".\u001b[0K\n",
            "  /**\u001b[0K\n",
            "  ^\u001b[0K\n",
            "\u001b[0K\n",
            "\u001b[0K\n",
            "\u001b[0K\n",
            "\u001b[3A\u001b[1m<\u001b[0;32;1m============\u001b[0;39;1m-> 98% EXECUTING [30s]\u001b[m\u001b[35D\u001b[1B\u001b[1m> :connect:api:javadoc\u001b[m\u001b[22D\u001b[1B\u001b[1m> :streams:streams-scala:scaladoc\u001b[m\u001b[33D\u001b[1B\u001b[3A/content/kafka-3.2.1-src/streams/streams-scala/src/main/scala/org/apache/kafka/streams/scala/kstream/Repartitioned.scala:52: warning: Could not find any member to link for \"org.apache.kafka.streams.kstream.internals.WindowedSerializer\".\u001b[0K\n",
            "  /**\u001b[0K\n",
            "  ^\u001b[0K\n",
            "/content/kafka-3.2.1-src/streams/streams-scala/src/main/scala/org/apache/kafka/streams/scala/kstream/Repartitioned.scala:52: warning: Could not find any member to link for \"org.apache.kafka.streams.kstream.internals.WindowedStreamPartitioner\".\n",
            "  /**\n",
            "  ^\n",
            "/content/kafka-3.2.1-src/streams/streams-scala/src/main/scala/org/apache/kafka/streams/scala/kstream/Repartitioned.scala:52: warning: Could not find any member to link for \"org.apache.kafka.clients.producer.internals.DefaultPartitioner\".\n",
            "  /**\n",
            "  ^\n",
            "\n",
            "\u001b[1m> Task :connect:api:javadoc\u001b[m\n",
            "/content/kafka-3.2.1-src/connect/api/src/main/java/org/apache/kafka/connect/source/SourceTask.java:118: warning - Tag @link: reference not found: ConnectorConfig\n",
            "1 warning\n",
            "\u001b[0K\n",
            "\u001b[0K\n",
            "\u001b[0K\n",
            "\u001b[3A\u001b[1m<\u001b[0;32;1m============\u001b[0;39;1m-> 99% EXECUTING [31s]\u001b[m\u001b[35D\u001b[1B\u001b[1m> :core:javadoc\u001b[m\u001b[15D\u001b[1B\u001b[1m> :streams:streams-scala:scaladoc\u001b[m\u001b[33D\u001b[1B\u001b[3A\u001b[1m<\u001b[0;32;1m============\u001b[0;39;1m-> 99% EXECUTING [32s]\u001b[m\u001b[35D\u001b[3B\u001b[3A\u001b[0K\n",
            "\u001b[1m> Task :streams:streams-scala:scaladoc\u001b[m\u001b[0K\n",
            "/content/kafka-3.2.1-src/streams/streams-scala/src/main/scala/org/apache/kafka/streams/scala/kstream/Produced.scala:39: warning: Could not find any member to link for \"org.apache.kafka.streams.kstream.internals.WindowedSerializer\".\u001b[0K\n",
            "  /**\n",
            "  ^\n",
            "/content/kafka-3.2.1-src/streams/streams-scala/src/main/scala/org/apache/kafka/streams/scala/kstream/Produced.scala:39: warning: Could not find any member to link for \"org.apache.kafka.streams.kstream.internals.WindowedStreamPartitioner\".\n",
            "  /**\n",
            "  ^\n",
            "/content/kafka-3.2.1-src/streams/streams-scala/src/main/scala/org/apache/kafka/streams/scala/kstream/Produced.scala:39: warning: Could not find any member to link for \"org.apache.kafka.clients.producer.internals.DefaultPartitioner\".\n",
            "  /**\n",
            "  ^\n",
            "/content/kafka-3.2.1-src/streams/streams-scala/src/main/scala/org/apache/kafka/streams/scala/kstream/Materialized.scala:96: warning: Could not find any member to link for \"org.apache.kafka.streams.state.KeyValueStore\".\n",
            "  /**\n",
            "  ^\n",
            "/content/kafka-3.2.1-src/streams/streams-scala/src/main/scala/org/apache/kafka/streams/scala/kstream/Materialized.scala:96: warning: Could not find any member to link for \"KeyValueBytesStoreSupplier\".\n",
            "  /**\n",
            "  ^\n",
            "/content/kafka-3.2.1-src/streams/streams-scala/src/main/scala/org/apache/kafka/streams/scala/kstream/Materialized.scala:77: warning: Could not find any member to link for \"org.apache.kafka.streams.state.SessionStore\".\n",
            "  /**\n",
            "  ^\n",
            "/content/kafka-3.2.1-src/streams/streams-scala/src/main/scala/org/apache/kafka/streams/scala/kstream/Materialized.scala:77: warning: Could not find any member to link for \"SessionBytesStoreSupplier\".\n",
            "  /**\n",
            "  ^\n",
            "/content/kafka-3.2.1-src/streams/streams-scala/src/main/scala/org/apache/kafka/streams/scala/kstream/Materialized.scala:77: warning: Could not find any member to link for \"org.apache.kafka.streams.state.Stores\".\n",
            "  /**\n",
            "  ^\n",
            "/content/kafka-3.2.1-src/streams/streams-scala/src/main/scala/org/apache/kafka/streams/scala/kstream/Materialized.scala:58: warning: Could not find any member to link for \"org.apache.kafka.streams.state.WindowStore\".\n",
            "  /**\n",
            "  ^\n",
            "/content/kafka-3.2.1-src/streams/streams-scala/src/main/scala/org/apache/kafka/streams/scala/kstream/Materialized.scala:58: warning: Could not find any member to link for \"WindowBytesStoreSupplier\".\n",
            "  /**\n",
            "  ^\n",
            "/content/kafka-3.2.1-src/streams/streams-scala/src/main/scala/org/apache/kafka/streams/scala/kstream/Materialized.scala:58: warning: Could not find any member to link for \"org.apache.kafka.streams.state.Stores\".\n",
            "  /**\n",
            "  ^\n",
            "/content/kafka-3.2.1-src/streams/streams-scala/src/main/scala/org/apache/kafka/streams/scala/kstream/Materialized.scala:41: warning: Could not find any member to link for \"StateStore\".\n",
            "  /**\n",
            "  ^\n",
            "/content/kafka-3.2.1-src/streams/streams-scala/src/main/scala/org/apache/kafka/streams/scala/kstream/Materialized.scala:27: warning: Could not find any member to link for \"StateStore\".\n",
            "  /**\n",
            "  ^\n",
            "/content/kafka-3.2.1-src/streams/streams-scala/src/main/scala/org/apache/kafka/streams/scala/kstream/Materialized.scala:27: warning: Could not find any member to link for \"Serde\".\n",
            "  /**\n",
            "  ^\n",
            "/content/kafka-3.2.1-src/streams/streams-scala/src/main/scala/org/apache/kafka/streams/scala/kstream/KTable.scala:669: warning: Could not find any member to link for \"TableJoined\".\n",
            "  /**\n",
            "  ^\n",
            "/content/kafka-3.2.1-src/streams/streams-scala/src/main/scala/org/apache/kafka/streams/scala/kstream/KTable.scala:734: warning: Could not find any member to link for \"TableJoined\".\n",
            "  /**\n",
            "  ^\n",
            "/content/kafka-3.2.1-src/streams/streams-scala/src/main/scala/org/apache/kafka/streams/scala/kstream/KTable.scala:314: warning: Could not find any member to link for \"org.apache.kafka.streams.kstream.Suppressed\".\n",
            "  /**\n",
            "  ^\n",
            "/content/kafka-3.2.1-src/streams/streams-scala/src/main/scala/org/apache/kafka/streams/scala/kstream/KStream.scala:407: warning: Variable applicationId undefined in comment for method repartition in class KStream\n",
            "   * The topic will be named as \"${applicationId}-&lt;name&gt;-repartition\", where \"applicationId\" is user-specified in\n",
            "                                  ^\n",
            "/content/kafka-3.2.1-src/streams/streams-scala/src/main/scala/org/apache/kafka/streams/scala/kstream/KStream.scala:868: warning: Could not find any member to link for \"org.apache.kafka.streams.processor.api.Processor\".\n",
            "  /**\n",
            "  ^\n",
            "/content/kafka-3.2.1-src/streams/streams-scala/src/main/scala/org/apache/kafka/streams/scala/kstream/KStream.scala:827: warning: Could not find any member to link for \"org.apache.kafka.streams.processor.api.Processor\".\n",
            "  /**\n",
            "  ^\n",
            "/content/kafka-3.2.1-src/streams/streams-scala/src/main/scala/org/apache/kafka/streams/scala/kstream/KStream.scala:845: warning: Could not find any member to link for \"org.apache.kafka.streams.processor.Processor\".\n",
            "  /**\n",
            "  ^\n",
            "/content/kafka-3.2.1-src/streams/streams-scala/src/main/scala/org/apache/kafka/streams/scala/kstream/KStream.scala:806: warning: Could not find any member to link for \"org.apache.kafka.streams.processor.Processor\".\n",
            "  /**\n",
            "  ^\n",
            "/content/kafka-3.2.1-src/streams/streams-scala/src/main/scala/org/apache/kafka/streams/scala/kstream/Joined.scala:44: warning: Could not find any member to link for \"org.apache.kafka.streams.kstream.Joined\".\n",
            "  /**\n",
            "  ^\n",
            "/content/kafka-3.2.1-src/streams/streams-scala/src/main/scala/org/apache/kafka/streams/scala/kstream/Joined.scala:44: warning: Could not find any member to link for \"Serde\".\n",
            "  /**\n",
            "  ^\n",
            "/content/kafka-3.2.1-src/streams/streams-scala/src/main/scala/org/apache/kafka/streams/scala/kstream/Joined.scala:24: warning: Could not find any member to link for \"org.apache.kafka.streams.kstream.Joined\".\n",
            "  /**\n",
            "  ^\n",
            "/content/kafka-3.2.1-src/streams/streams-scala/src/main/scala/org/apache/kafka/streams/scala/kstream/Joined.scala:24: warning: Could not find any member to link for \"Serde\".\n",
            "  /**\n",
            "  ^\n",
            "\u001b[0K\n",
            "\u001b[0K\n",
            "\u001b[0K\n",
            "\u001b[3A\u001b[1m<\u001b[0;32;1m============\u001b[0;39;1m-> 99% EXECUTING [32s]\u001b[m\u001b[35D\u001b[1B\u001b[1m> :core:javadoc\u001b[m\u001b[15D\u001b[1B\u001b[1m> :streams:streams-scala:scaladoc\u001b[m\u001b[33D\u001b[1B\u001b[3A/content/kafka-3.2.1-src/streams/streams-scala/src/main/scala/org/apache/kafka/streams/scala/kstream/Grouped.scala:37: warning: Could not find any member to link for \"Serde\".\u001b[0K\n",
            "  /**\u001b[0K\n",
            "  ^\u001b[0K\n",
            "/content/kafka-3.2.1-src/streams/streams-scala/src/main/scala/org/apache/kafka/streams/scala/kstream/Grouped.scala:24: warning: Could not find any member to link for \"Serde\".\n",
            "  /**\n",
            "  ^\n",
            "\u001b[0K\n",
            "\u001b[0K\n",
            "\u001b[0K\n",
            "\u001b[3A\u001b[1m<\u001b[0;32;1m============\u001b[0;39;1m-> 99% EXECUTING [33s]\u001b[m\u001b[35D\u001b[1B\u001b[1m> :core:javadoc\u001b[m\u001b[15D\u001b[1B\u001b[1m> :streams:streams-scala:scaladoc\u001b[m\u001b[33D\u001b[1B\u001b[3A/content/kafka-3.2.1-src/streams/streams-scala/src/main/scala/org/apache/kafka/streams/scala/kstream/Consumed.scala:69: warning: Could not find any member to link for \"Topology.AutoOffsetReset\".\u001b[0K\n",
            "  /**\u001b[0K\n",
            "  ^\u001b[0K\n",
            "/content/kafka-3.2.1-src/streams/streams-scala/src/main/scala/org/apache/kafka/streams/scala/kstream/Consumed.scala:55: warning: Could not find any member to link for \"TimestampExtractor\".\n",
            "  /**\n",
            "  ^\n",
            "/content/kafka-3.2.1-src/streams/streams-scala/src/main/scala/org/apache/kafka/streams/scala/kstream/Consumed.scala:45: warning: Could not find any member to link for \"Serde\".\n",
            "  /**\n",
            "  ^\n",
            "\u001b[0K\n",
            "\u001b[0K\n",
            "\u001b[0K\n",
            "\u001b[3A\u001b[1m<\u001b[0;32;1m============\u001b[0;39;1m-> 99% EXECUTING [33s]\u001b[m\u001b[35D\u001b[1B\u001b[1m> :core:javadoc\u001b[m\u001b[15D\u001b[1B\u001b[1m> :streams:streams-scala:scaladoc\u001b[m\u001b[33D\u001b[1B\u001b[3A/content/kafka-3.2.1-src/streams/streams-scala/src/main/scala/org/apache/kafka/streams/scala/kstream/BranchedKStream.scala:93: warning: The link target \"defaultBranch\" is ambiguous. Several members fit the target:\u001b[0K\n",
            "(branched: org.apache.kafka.streams.scala.kstream.Branched[K,V]): Map[String,org.apache.kafka.streams.scala.kstream.KStream[K,V]] in class BranchedKStream [chosen]\u001b[0K\n",
            "(): Map[String,org.apache.kafka.streams.scala.kstream.KStream[K,V]] in class BranchedKStream\u001b[0K\n",
            "\n",
            "\n",
            "  /**\n",
            "  ^\n",
            "/content/kafka-3.2.1-src/streams/streams-scala/src/main/scala/org/apache/kafka/streams/scala/kstream/BranchedKStream.scala:84: warning: The link target \"defaultBranch\" is ambiguous. Several members fit the target:\n",
            "(branched: org.apache.kafka.streams.scala.kstream.Branched[K,V]): Map[String,org.apache.kafka.streams.scala.kstream.KStream[K,V]] in class BranchedKStream [chosen]\n",
            "(): Map[String,org.apache.kafka.streams.scala.kstream.KStream[K,V]] in class BranchedKStream\n",
            "\n",
            "\n",
            "  /**\n",
            "  ^\n",
            "/content/kafka-3.2.1-src/streams/streams-scala/src/main/scala/org/apache/kafka/streams/scala/kstream/Branched.scala:51: warning: The link target \"BranchedKStream.defaultBranch\" is ambiguous. Several members fit the target:\n",
            "(branched: org.apache.kafka.streams.scala.kstream.Branched[K,V]): Map[String,org.apache.kafka.streams.scala.kstream.KStream[K,V]] in class BranchedKStream [chosen]\n",
            "(): Map[String,org.apache.kafka.streams.scala.kstream.KStream[K,V]] in class BranchedKStream\n",
            "\n",
            "\n",
            "  /**\n",
            "  ^\n",
            "\u001b[0K\n",
            "\u001b[0K\n",
            "\u001b[0K\n",
            "\u001b[3A\u001b[1m<\u001b[0;32;1m============\u001b[0;39;1m-> 99% EXECUTING [33s]\u001b[m\u001b[35D\u001b[1B\u001b[1m> :core:javadoc\u001b[m\u001b[15D\u001b[1B\u001b[1m> :streams:streams-scala:scaladoc\u001b[m\u001b[33D\u001b[1B\u001b[3A/content/kafka-3.2.1-src/streams/streams-scala/src/main/scala/org/apache/kafka/streams/scala/kstream/Branched.scala:34: warning: The link target \"BranchedKStream.defaultBranch\" is ambiguous. Several members fit the target:\u001b[0K\n",
            "(branched: org.apache.kafka.streams.scala.kstream.Branched[K,V]): Map[String,org.apache.kafka.streams.scala.kstream.KStream[K,V]] in class BranchedKStream [chosen]\u001b[0K\n",
            "(): Map[String,org.apache.kafka.streams.scala.kstream.KStream[K,V]] in class BranchedKStream\u001b[0K\n",
            "\n",
            "\n",
            "  /**\n",
            "  ^\n",
            "/content/kafka-3.2.1-src/streams/streams-scala/src/main/scala/org/apache/kafka/streams/scala/StreamsBuilder.scala:154: warning: Could not find any member to link for \"org.apache.kafka.streams.errors.TopologyException\".\n",
            "  /**\n",
            "  ^\n",
            "\u001b[0K\n",
            "\u001b[0K\n",
            "\u001b[0K\n",
            "\u001b[3A\u001b[1m<\u001b[0;32;1m============\u001b[0;39;1m-> 99% EXECUTING [33s]\u001b[m\u001b[35D\u001b[1B\u001b[1m> :core:javadoc\u001b[m\u001b[15D\u001b[1B\u001b[1m> :streams:streams-scala:scaladoc\u001b[m\u001b[33D\u001b[1B\u001b[3A48 warnings\u001b[0K\n",
            "\u001b[2B\u001b[0K\n",
            "\u001b[3A\u001b[1m<\u001b[0;32;1m============\u001b[0;39;1m-> 99% EXECUTING [34s]\u001b[m\u001b[35D\u001b[1B\u001b[1m> :core:javadoc\u001b[m\u001b[0K\u001b[15D\u001b[1B\u001b[1m> :streams:streams-scala:scaladoc\u001b[m\u001b[33D\u001b[1B\u001b[1A> IDLE\u001b[0K\u001b[6D\u001b[1B\u001b[3A\u001b[1m<\u001b[0;32;1m============\u001b[0;39;1m-> 99% EXECUTING [35s]\u001b[m\u001b[35D\u001b[3B\u001b[3A\u001b[1m<\u001b[0;32;1m============\u001b[0;39;1m-> 99% EXECUTING [36s]\u001b[m\u001b[35D\u001b[3B\u001b[3A\u001b[1m<\u001b[0;32;1m============\u001b[0;39;1m-> 99% EXECUTING [37s]\u001b[m\u001b[35D\u001b[3B\u001b[3A\u001b[0K\n",
            "Deprecated Gradle features were used in this build, making it incompatible with Gradle 8.0.\u001b[0K\n",
            "\u001b[0K\n",
            "You can use '--warning-mode all' to show the individual deprecation warnings and determine if they come from your own scripts or plugins.\n",
            "\n",
            "See https://docs.gradle.org/7.3.3/userguide/command_line_interface.html#sec:command_line_warnings\n",
            "\n",
            "\u001b[32;1mBUILD SUCCESSFUL\u001b[0;39m in 38s\n",
            "123 actionable tasks: 11 executed, 112 up-to-date\n",
            "\u001b[0K\n",
            "\u001b[0K\n",
            "\u001b[0K\n",
            "\u001b[3A\u001b[1m<\u001b[0;32;1m=============\u001b[0;39;1m> 100% EXECUTING [37s]\u001b[m\u001b[36D\u001b[1B> IDLE\u001b[6D\u001b[1B> IDLE\u001b[6D\u001b[1B\u001b[3A\u001b[1m<\u001b[0;1m-------------> 0% WAITING\u001b[m\u001b[0K\u001b[26D\u001b[3B\u001b[3A\u001b[2K\u001b[1B\u001b[2K\u001b[1B\u001b[2K\u001b[2A\u001b[m"
          ]
        }
      ],
      "source": [
        "#!./gradlew assemble\n",
        "!./gradlew assemble -x clients:javadoc streams:test-utils:javadoc streams:streams-scala:scaladoc connect:mirror-client:javadoc connect:api:javadoc core:javadoc"
      ]
    },
    {
      "cell_type": "code",
      "execution_count": null,
      "metadata": {
        "colab": {
          "base_uri": "https://localhost:8080/"
        },
        "id": "RLhuPSmtQsif",
        "outputId": "330caca6-8a71-4a9c-c8d5-d73261443018"
      },
      "outputs": [
        {
          "output_type": "stream",
          "name": "stdout",
          "text": [
            "cp: cannot stat 'streams/examples/build/libs/kafka-streams-examples-3.2.1-sources.jar': No such file or directory\n",
            "/\n"
          ]
        }
      ],
      "source": [
        "%cp streams/examples/build/libs/kafka-streams-examples-3.2.1-sources.jar ../kafka_2.13-3.2.1/libs/\n",
        "%cd .."
      ]
    },
    {
      "cell_type": "code",
      "execution_count": null,
      "metadata": {
        "colab": {
          "base_uri": "https://localhost:8080/"
        },
        "id": "nChFWK7mUwI5",
        "outputId": "3e291ef9-3680-4726-ca65-ef4f3f64a9cf"
      },
      "outputs": [
        {
          "output_type": "stream",
          "name": "stdout",
          "text": [
            "/bin/bash: ./kafka_2.13-3.2.1/bin/kafka-topics.sh: No such file or directory\n"
          ]
        }
      ],
      "source": [
        "!./kafka_2.13-3.2.1/bin/kafka-topics.sh --create --bootstrap-server 127.0.0.1:9092 --replication-factor 1 --partitions 1 --topic streams-plaintext-input"
      ]
    },
    {
      "cell_type": "code",
      "execution_count": null,
      "metadata": {
        "id": "vJcXPqzqVMoH",
        "colab": {
          "base_uri": "https://localhost:8080/"
        },
        "outputId": "6a21cd65-3703-41c9-9077-17684b8a5830"
      },
      "outputs": [
        {
          "output_type": "stream",
          "name": "stdout",
          "text": [
            "/bin/bash: ./kafka_2.13-3.2.1/bin/kafka-run-class.sh: No such file or directory\n"
          ]
        }
      ],
      "source": [
        "!./kafka_2.13-3.2.1/bin/kafka-run-class.sh -daemon -name org.apache.kafka.streams.examples.wordcount.WordCountDemo"
      ]
    },
    {
      "cell_type": "code",
      "execution_count": null,
      "metadata": {
        "colab": {
          "base_uri": "https://localhost:8080/"
        },
        "id": "AYBUw3nSXu2I",
        "outputId": "e9670d74-b62b-4889-f771-d3c01257b9b4"
      },
      "outputs": [
        {
          "output_type": "stream",
          "name": "stdout",
          "text": [
            "/bin/bash: ./kafka_2.13-3.2.1/bin/kafka-console-producer.sh: No such file or directory\n"
          ]
        }
      ],
      "source": [
        "!./kafka_2.13-3.2.1/bin/kafka-console-producer.sh --bootstrap-server 127.0.0.1:9092 --topic streams-plaintext-input"
      ]
    },
    {
      "cell_type": "code",
      "execution_count": null,
      "metadata": {
        "colab": {
          "base_uri": "https://localhost:8080/"
        },
        "id": "fHPfyXuTXRSZ",
        "outputId": "93e943a7-1b84-41bc-e47a-6243fc37cd52"
      },
      "outputs": [
        {
          "output_type": "stream",
          "name": "stdout",
          "text": [
            "/bin/bash: ./kafka_2.13-3.2.1/bin/kafka-console-consumer.sh: No such file or directory\n"
          ]
        }
      ],
      "source": [
        "!./kafka_2.13-3.2.1/bin/kafka-console-consumer.sh --bootstrap-server 127.0.0.1:9092 --topic streams-wordcount-output --from-beginning --formatter kafka.tools.DefaultMessageFormatter --property print.key=true --property print.value=true --skip-message-on-error --property key.deserializer=org.apache.kafka.common.serialization.StringDeserializer --property value.deserializer=org.apache.kafka.common.serialization.LongDeserializer"
      ]
    }
  ],
  "metadata": {
    "colab": {
      "collapsed_sections": [],
      "provenance": [],
      "include_colab_link": true
    },
    "kernelspec": {
      "display_name": "Python 3",
      "name": "python3"
    },
    "language_info": {
      "name": "python"
    }
  },
  "nbformat": 4,
  "nbformat_minor": 0
}