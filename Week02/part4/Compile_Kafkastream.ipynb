{
  "cells": [
    {
      "cell_type": "markdown",
      "metadata": {
        "id": "view-in-github",
        "colab_type": "text"
      },
      "source": [
        "<a href=\"https://colab.research.google.com/github/ekaratnida/Data_Streaming_and_Realtime_Analytics/blob/main/Week02/part4/Compile_Kafkastream.ipynb\" target=\"_parent\"><img src=\"https://colab.research.google.com/assets/colab-badge.svg\" alt=\"Open In Colab\"/></a>"
      ]
    },
    {
      "cell_type": "markdown",
      "metadata": {
        "id": "ghpHAIh6FdD-"
      },
      "source": [
        "Kafka stream"
      ]
    },
    {
      "cell_type": "code",
      "source": [
        "from google.colab import drive\n",
        "drive.mount('/content/drive')"
      ],
      "metadata": {
        "id": "7owzsqNb3Ehq",
        "colab": {
          "base_uri": "https://localhost:8080/"
        },
        "outputId": "9c08e552-0c0c-478d-b5d5-282f3c3a5413"
      },
      "execution_count": 2,
      "outputs": [
        {
          "output_type": "stream",
          "name": "stdout",
          "text": [
            "Mounted at /content/drive\n"
          ]
        }
      ]
    },
    {
      "cell_type": "code",
      "source": [
        "%pwd"
      ],
      "metadata": {
        "colab": {
          "base_uri": "https://localhost:8080/",
          "height": 35
        },
        "id": "q-xAXcm7zlYl",
        "outputId": "8cdb6ece-d981-4784-f8da-e7e478a1a018"
      },
      "execution_count": 4,
      "outputs": [
        {
          "output_type": "execute_result",
          "data": {
            "text/plain": [
              "'/content'"
            ],
            "application/vnd.google.colaboratory.intrinsic+json": {
              "type": "string"
            }
          },
          "metadata": {},
          "execution_count": 4
        }
      ]
    },
    {
      "cell_type": "code",
      "execution_count": 11,
      "metadata": {
        "id": "ED2B7V89pkdE"
      },
      "outputs": [],
      "source": [
        "!curl -sSOL https://archive.apache.org/dist/kafka/3.2.1/kafka-3.2.1-src.tgz"
      ]
    },
    {
      "cell_type": "code",
      "source": [
        "!tar -xvf kafka-3.2.1-src.tgz"
      ],
      "metadata": {
        "id": "Ls0bZ55I2Znz"
      },
      "execution_count": null,
      "outputs": []
    },
    {
      "cell_type": "code",
      "source": [
        "%pwd\n",
        "%cd kafka-3.2.1-src"
      ],
      "metadata": {
        "colab": {
          "base_uri": "https://localhost:8080/",
          "height": 35
        },
        "id": "XaWjvG10KKkc",
        "outputId": "e8c0f08e-439b-45e5-f7a1-11d68cecc62a"
      },
      "execution_count": 20,
      "outputs": [
        {
          "output_type": "execute_result",
          "data": {
            "text/plain": [
              "'/content/kafka-3.2.1-src'"
            ],
            "application/vnd.google.colaboratory.intrinsic+json": {
              "type": "string"
            }
          },
          "metadata": {},
          "execution_count": 20
        }
      ]
    },
    {
      "cell_type": "code",
      "execution_count": 25,
      "metadata": {
        "colab": {
          "base_uri": "https://localhost:8080/"
        },
        "id": "uVVoTGmfLjdc",
        "outputId": "700c35ce-64fa-487d-abdf-0bf80925e997"
      },
      "outputs": [
        {
          "output_type": "stream",
          "name": "stdout",
          "text": [
            "\n",
            "\u001b[1A\u001b[1m<\u001b[0;1m-------------> 0% INITIALIZING [38ms]\u001b[m\u001b[38D\u001b[1B\n",
            "\u001b[2A\u001b[1m<\u001b[0;1m-------------> 0% CONFIGURING [138ms]\u001b[m\u001b[38D\u001b[1B\u001b[1m> root project > Resolve files of :classpath\u001b[m\u001b[44D\u001b[1B\u001b[2A\u001b[1m<\u001b[0;1m-------------> 0% CONFIGURING [238ms]\u001b[m\u001b[38D\u001b[1B\u001b[1m> root project\u001b[m\u001b[0K\u001b[14D\u001b[1B\u001b[2A\u001b[1m<\u001b[0;1m-------------> 0% CONFIGURING [338ms]\u001b[m\u001b[38D\u001b[2B\u001b[2A\u001b[1m<\u001b[0;1m-------------> 0% CONFIGURING [438ms]\u001b[m\u001b[38D\u001b[2B\u001b[2A\u001b[1m<\u001b[0;1m-------------> 0% CONFIGURING [538ms]\u001b[m\u001b[38D\u001b[2B\u001b[2A\u001b[1m<\u001b[0;1m-------------> 0% CONFIGURING [638ms]\u001b[m\u001b[38D\u001b[2B\u001b[2A\u001b[1m<\u001b[0;1m-------------> 0% CONFIGURING [738ms]\u001b[m\u001b[38D\u001b[2B\u001b[2A\u001b[1m<\u001b[0;1m-------------> 0% CONFIGURING [838ms]\u001b[m\u001b[38D\u001b[2B\u001b[2A\u001b[1m<\u001b[0;1m-------------> 0% CONFIGURING [938ms]\u001b[m\u001b[38D\u001b[2B\u001b[2A\u001b[1m<\u001b[0;1m-------------> 0% CONFIGURING [1s]\u001b[m\u001b[0K\u001b[35D\u001b[2B\u001b[2A\u001b[0K\n",
            "\u001b[1m> Configure project :\u001b[m\u001b[0K\n",
            "Starting build with version 3.2.1 (commit id unknown) using Gradle 7.3.3, Java 11 and Scala 2.13.6\n",
            "Build properties: maxParallelForks=2, maxScalacThreads=2, maxTestRetries=0\n",
            "\u001b[0K\n",
            "\u001b[0K\n",
            "\u001b[2A\u001b[1m<\u001b[0;32;1m=======\u001b[0;39;1m------> 57% CONFIGURING [1s]\u001b[m\u001b[36D\u001b[1B\u001b[1m> :streams:streams-scala\u001b[m\u001b[24D\u001b[1B\u001b[2A\u001b[1m<\u001b[0;32;1m=============\u001b[0;39;1m> 100% CONFIGURING [1s]\u001b[m\u001b[37D\u001b[1B> IDLE\u001b[0K\u001b[6D\u001b[1B\n",
            "\u001b[3A\u001b[1m<\u001b[0;1m-------------> 5% EXECUTING [1s]\u001b[m\u001b[0K\u001b[33D\u001b[1B\u001b[1m> :clients:processMessages > Resolve dependencies of :generator:runtimeClasspat\u001b[m\u001b[79D\u001b[1B\u001b[1m> :core:processMessages\u001b[m\u001b[23D\u001b[1B\u001b[3A\u001b[1m<\u001b[0;32;1m=\u001b[0;39;1m------------> 11% EXECUTING [1s]\u001b[m\u001b[34D\u001b[1B\u001b[1m> :clients:compileJava\u001b[m\u001b[0K\u001b[22D\u001b[1B\u001b[1m> :storage:api:createVersionFile\u001b[m\u001b[32D\u001b[1B\u001b[3A\u001b[1m<\u001b[0;32;1m==\u001b[0;39;1m-----------> 16% EXECUTING [1s]\u001b[m\u001b[34D\u001b[1B\u001b[1m> :metadata:compileJava > Resolve dependencies of :metadata:compileClasspath\u001b[m\u001b[76D\u001b[1B\u001b[1m> :clients:compileTestJava\u001b[m\u001b[0K\u001b[26D\u001b[1B\u001b[3A\u001b[1m<\u001b[0;32;1m===\u001b[0;39;1m----------> 23% EXECUTING [1s]\u001b[m\u001b[34D\u001b[1B\u001b[1m> :core:compileScala > Resolve dependencies of :core:compileClasspath\u001b[m\u001b[0K\u001b[69D\u001b[1B> IDLE\u001b[0K\u001b[6D\u001b[1B\u001b[3A\u001b[1m<\u001b[0;32;1m===\u001b[0;39;1m----------> 25% EXECUTING [1s]\u001b[m\u001b[34D\u001b[1B\u001b[1m> :core:copyDependantLibs > Resolve dependencies of :core:testRuntimeClasspath \u001b[m\u001b[79D\u001b[1B\u001b[1m> :examples:compileJava\u001b[m\u001b[23D\u001b[1B\u001b[3A\u001b[1m<\u001b[0;32;1m====\u001b[0;39;1m---------> 32% EXECUTING [2s]\u001b[m\u001b[34D\u001b[1B\u001b[1m> :core:copyDependantLibs > Resolve dependencies of :core:testRuntimeClasspath\u001b[m\u001b[0K\u001b[78D\u001b[1B\u001b[1m> :tools:compileJava > Resolve dependencies of :tools:compileClasspath\u001b[m\u001b[70D\u001b[1B\u001b[3A\u001b[1m<\u001b[0;32;1m====\u001b[0;39;1m---------> 36% EXECUTING [2s]\u001b[m\u001b[34D\u001b[1B\u001b[1m> :core:compileTestScala > Resolve files of :core:testCompileClasspath\u001b[m\u001b[0K\u001b[70D\u001b[1B\u001b[1m> :shell:copyDependantLibs > Resolve dependencies of :shell:testRuntimeClasspat\u001b[m\u001b[79D\u001b[1B\u001b[3A\u001b[1m<\u001b[0;32;1m=====\u001b[0;39;1m--------> 40% EXECUTING [2s]\u001b[m\u001b[34D\u001b[1B\u001b[1m> :connect:api:compileJava\u001b[m\u001b[0K\u001b[26D\u001b[1B\u001b[1m> :trogdor:copyDependantLibs > Resolve dependencies of :trogdor:runtimeClasspat\u001b[m\u001b[79D\u001b[1B\u001b[3A\u001b[1m<\u001b[0;32;1m======\u001b[0;39;1m-------> 48% EXECUTING [2s]\u001b[m\u001b[34D\u001b[1B\u001b[1m> :connect:json:compileJava > Resolve dependencies of :connect:json:compileClas\u001b[m\u001b[79D\u001b[1B\u001b[1m> :connect:mirror-client:compileJava\u001b[m\u001b[0K\u001b[36D\u001b[1B\u001b[3A\u001b[1m<\u001b[0;32;1m=======\u001b[0;39;1m------> 55% EXECUTING [2s]\u001b[m\u001b[34D\u001b[1B\u001b[1m> :connect:runtime:compileTestJava > Resolve dependencies of :connect:runtime:t\u001b[m\u001b[79D\u001b[1B\u001b[1m> :connect:transforms:copyDependantLibs > Resolve dependencies of :connect:tran\u001b[m\u001b[79D\u001b[1B\u001b[3A\u001b[1m<\u001b[0;32;1m=======\u001b[0;39;1m------> 57% EXECUTING [2s]\u001b[m\u001b[34D\u001b[1B\u001b[1m> :connect:runtime:copyDependantLibs > Resolve dependencies of :connect:runtime\u001b[m\u001b[79D\u001b[1B\u001b[1m> :streams:examples:compileJava\u001b[m\u001b[0K\u001b[31D\u001b[1B\u001b[3A\u001b[1m<\u001b[0;32;1m=======\u001b[0;39;1m------> 59% EXECUTING [2s]\u001b[m\u001b[34D\u001b[1B\u001b[1m> :connect:mirror:copyDependantLibs\u001b[m\u001b[0K\u001b[35D\u001b[2B\u001b[3A\u001b[1m<\u001b[0;32;1m========\u001b[0;39;1m-----> 68% EXECUTING [2s]\u001b[m\u001b[34D\u001b[1B\u001b[1m> :streams:upgrade-system-tests-0102:compileJava\u001b[m\u001b[48D\u001b[2B\u001b[3A\u001b[1m<\u001b[0;32;1m===========\u001b[0;39;1m--> 88% EXECUTING [2s]\u001b[m\u001b[34D\u001b[1B\u001b[1m> :streams:upgrade-system-tests-27:compileJava\u001b[m\u001b[0K\u001b[46D\u001b[2B\u001b[3A\u001b[1m<\u001b[0;32;1m============\u001b[0;39;1m-> 97% EXECUTING [2s]\u001b[m\u001b[34D\u001b[1B\u001b[1m> :core:javadoc\u001b[m\u001b[0K\u001b[15D\u001b[2B\u001b[3A\u001b[1m<\u001b[0;32;1m=============\u001b[0;39;1m> 100% EXECUTING [3s]\u001b[m\u001b[35D\u001b[1B> IDLE\u001b[0K\u001b[6D\u001b[1B> IDLE\u001b[0K\u001b[6D\u001b[1B\u001b[3A\u001b[0K\n",
            "Deprecated Gradle features were used in this build, making it incompatible with Gradle 8.0.\u001b[0K\n",
            "\u001b[0K\n",
            "You can use '--warning-mode all' to show the individual deprecation warnings and determine if they come from your own scripts or plugins.\n",
            "\n",
            "See https://docs.gradle.org/7.3.3/userguide/command_line_interface.html#sec:command_line_warnings\n",
            "\n",
            "\u001b[32;1mBUILD SUCCESSFUL\u001b[0;39m in 4s\n",
            "123 actionable tasks: 8 executed, 115 up-to-date\n",
            "\u001b[0K\n",
            "\u001b[0K\n",
            "\u001b[0K\n",
            "\u001b[3A\u001b[1m<\u001b[0;1m-------------> 0% WAITING\u001b[m\u001b[26D\u001b[1B> IDLE\u001b[6D\u001b[1B> IDLE\u001b[6D\u001b[1B\u001b[3A\u001b[2K\u001b[1B\u001b[2K\u001b[1B\u001b[2K\u001b[2A\u001b[m"
          ]
        }
      ],
      "source": [
        "#!./gradlew assemble\n",
        "!./gradlew assemble -x clients:javadoc streams:test-utils:javadoc streams:streams-scala:scaladoc connect:mirror-client:javadoc connect:api:javadoc core:javadoc"
      ]
    }
  ],
  "metadata": {
    "colab": {
      "collapsed_sections": [],
      "provenance": [],
      "include_colab_link": true
    },
    "kernelspec": {
      "display_name": "Python 3",
      "name": "python3"
    },
    "language_info": {
      "name": "python"
    }
  },
  "nbformat": 4,
  "nbformat_minor": 0
}